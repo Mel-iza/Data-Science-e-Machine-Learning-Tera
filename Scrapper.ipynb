{
  "cells": [
    {
      "cell_type": "markdown",
      "metadata": {
        "id": "view-in-github",
        "colab_type": "text"
      },
      "source": [
        "<a href=\"https://colab.research.google.com/github/Mel-iza/Data-Science-e-Machine-Learning-Tera/blob/main/Scrapper.ipynb\" target=\"_parent\"><img src=\"https://colab.research.google.com/assets/colab-badge.svg\" alt=\"Open In Colab\"/></a>"
      ]
    },
    {
      "cell_type": "markdown",
      "id": "fe4cb706",
      "metadata": {
        "id": "fe4cb706"
      },
      "source": [
        "# Coletor de nomes e descrição | Pokemon & Machine Learning"
      ]
    },
    {
      "cell_type": "markdown",
      "source": [
        "1. Library imports\n"
      ],
      "metadata": {
        "id": "fK9SKPjrQo2U"
      },
      "id": "fK9SKPjrQo2U"
    },
    {
      "cell_type": "code",
      "execution_count": null,
      "id": "edba7e48",
      "metadata": {
        "id": "edba7e48"
      },
      "outputs": [],
      "source": [
        "import pandas as pd\n",
        "import lxml.html as parser\n",
        "import requests\n",
        "import csv\n",
        "\n",
        "from urllib.parse import urljoin\n",
        "from pysinonimos.sinonimos import Search, historic"
      ]
    },
    {
      "cell_type": "code",
      "source": [
        "lista_links = ['https://pt.wikipedia.org/wiki/Ci%C3%AAncia_de_dados', 'https://pt.wikipedia.org/wiki/Ci%C3%AAncia_de_dados']\n",
        "\n",
        "quantidade_links = len(lista_links)\n",
        "print('A lista tem {} links'.format(quantidade_links))\n",
        "\n",
        "def get_text_link(lista_links):\n",
        "  for index in range(len(lista_links)):\n",
        "    str_listas = lista_links[index]\n",
        "    \n",
        "    return str_listas\n",
        "    #print('Index número {} e texto lista--> {}'.format(index, str_listas))\n"
      ],
      "metadata": {
        "colab": {
          "base_uri": "https://localhost:8080/"
        },
        "id": "n5w32kCnXCDN",
        "outputId": "3877ee75-7c36-480d-8ab4-9b566b37d2f2"
      },
      "id": "n5w32kCnXCDN",
      "execution_count": null,
      "outputs": [
        {
          "output_type": "stream",
          "name": "stdout",
          "text": [
            "A lista tem 2 links\n"
          ]
        }
      ]
    },
    {
      "cell_type": "code",
      "source": [
        "new = ['a', 'b', 'c', 'd', 'e']\n",
        "\n",
        "get_text_link(new)\n",
        "\n",
        "get_text_link(lista_links)"
      ],
      "metadata": {
        "colab": {
          "base_uri": "https://localhost:8080/",
          "height": 36
        },
        "id": "RnxQmHB2cJ95",
        "outputId": "9fb2dc9f-50f5-4a3c-ce85-5c022533922d"
      },
      "id": "RnxQmHB2cJ95",
      "execution_count": null,
      "outputs": [
        {
          "output_type": "execute_result",
          "data": {
            "text/plain": [
              "'https://pt.wikipedia.org/wiki/Ci%C3%AAncia_de_dados'"
            ],
            "application/vnd.google.colaboratory.intrinsic+json": {
              "type": "string"
            }
          },
          "metadata": {},
          "execution_count": 110
        }
      ]
    },
    {
      "cell_type": "code",
      "source": [
        "links_requests = get_text_link(lista_links)\n",
        "print(links_requests)"
      ],
      "metadata": {
        "colab": {
          "base_uri": "https://localhost:8080/"
        },
        "id": "N0par8tXRcVw",
        "outputId": "d62a7d64-e447-41b5-ee6e-8a531db5c523"
      },
      "id": "N0par8tXRcVw",
      "execution_count": null,
      "outputs": [
        {
          "output_type": "stream",
          "name": "stdout",
          "text": [
            "https://pt.wikipedia.org/wiki/Ci%C3%AAncia_de_dados\n"
          ]
        }
      ]
    },
    {
      "cell_type": "code",
      "source": [
        "r = requests.get(links_requests)\n",
        "html = parser.fromstring(r.text)"
      ],
      "metadata": {
        "id": "Cve3QPs3fqRI"
      },
      "id": "Cve3QPs3fqRI",
      "execution_count": null,
      "outputs": []
    },
    {
      "cell_type": "markdown",
      "source": [
        "2. Related links"
      ],
      "metadata": {
        "id": "uAlEAED1Td8t"
      },
      "id": "uAlEAED1Td8t"
    },
    {
      "cell_type": "code",
      "source": [
        "links = html.xpath('//div[@id=\"bodyContent\"]/descendant::a/@href')\n",
        "print(links[0])\n",
        "print(len(links))"
      ],
      "metadata": {
        "colab": {
          "base_uri": "https://localhost:8080/"
        },
        "id": "ULNBYbq9RmfT",
        "outputId": "3ef7c068-32f6-48a3-9b5d-3f9d4e3cef61"
      },
      "id": "ULNBYbq9RmfT",
      "execution_count": null,
      "outputs": [
        {
          "output_type": "stream",
          "name": "stdout",
          "text": [
            "/wiki/L%C3%ADngua_inglesa\n",
            "174\n"
          ]
        }
      ]
    },
    {
      "cell_type": "code",
      "source": [
        "articles = html.xpath('//div[@id=\"bodyContent\"]/descendant::a[re:test(@href, \"^/wiki/[^:]*$\")]/@href', \n",
        "        namespaces={\"re\": \"http://exslt.org/regular-expressions\"})\n",
        "\n",
        "print(len(articles))"
      ],
      "metadata": {
        "colab": {
          "base_uri": "https://localhost:8080/"
        },
        "id": "8Rna28gFSsIh",
        "outputId": "6b0b5f37-42ea-406b-eb85-18e789d7fb4e"
      },
      "id": "8Rna28gFSsIh",
      "execution_count": null,
      "outputs": [
        {
          "output_type": "stream",
          "name": "stdout",
          "text": [
            "47\n"
          ]
        }
      ]
    },
    {
      "cell_type": "code",
      "source": [
        "base_url = \"https://pt.wikipedia.org/\"\n",
        "articles = [urljoin(base_url, a) for a in articles]\n",
        "articles = list(set(articles))\n",
        "\n",
        "print('Foram encontrados {} artigos'.format(len(articles)))\n",
        "\n",
        "# verificando os links selecionados\n",
        "\n",
        "for index, links in enumerate(articles):\n",
        "  print('Link {} --> {}'.format(index, links))"
      ],
      "metadata": {
        "colab": {
          "base_uri": "https://localhost:8080/"
        },
        "id": "NjwoOLsbS1Yn",
        "outputId": "553b486a-2091-442e-a066-24d3bba2f21c"
      },
      "id": "NjwoOLsbS1Yn",
      "execution_count": null,
      "outputs": [
        {
          "output_type": "stream",
          "name": "stdout",
          "text": [
            "Foram encontrados 44 artigos\n",
            "Link 0 --> https://pt.wikipedia.org/wiki/Big_data\n",
            "Link 1 --> https://pt.wikipedia.org/wiki/Ci%C3%AAncia_da_computa%C3%A7%C3%A3o\n",
            "Link 2 --> https://pt.wikipedia.org/wiki/Algoritmo_gen%C3%A9tico\n",
            "Link 3 --> https://pt.wikipedia.org/wiki/Trivago\n",
            "Link 4 --> https://pt.wikipedia.org/wiki/Aprendizado_de_m%C3%A1quina#Aprendizado_por_similaridade_e_m.C3.A9trica\n",
            "Link 5 --> https://pt.wikipedia.org/wiki/Nate_Silver\n",
            "Link 6 --> https://pt.wikipedia.org/wiki/M%C3%A1quina_de_vetores_de_suporte\n",
            "Link 7 --> https://pt.wikipedia.org/wiki/International_Standard_Book_Number\n",
            "Link 8 --> https://pt.wikipedia.org/wiki/Vantagem_competitiva\n",
            "Link 9 --> https://pt.wikipedia.org/wiki/Instagram\n",
            "Link 10 --> https://pt.wikipedia.org/wiki/Expedia\n",
            "Link 11 --> https://pt.wikipedia.org/wiki/IBM\n",
            "Link 12 --> https://pt.wikipedia.org/wiki/International_Standard_Serial_Number\n",
            "Link 13 --> https://pt.wikipedia.org/wiki/Netflix\n",
            "Link 14 --> https://pt.wikipedia.org/wiki/Rede_bayesiana\n",
            "Link 15 --> https://pt.wikipedia.org/wiki/Rede_neural_artificial\n",
            "Link 16 --> https://pt.wikipedia.org/wiki/SQL\n",
            "Link 17 --> https://pt.wikipedia.org/wiki/%C3%81rvore_de_decis%C3%A3o\n",
            "Link 18 --> https://pt.wikipedia.org/wiki/Walgreens\n",
            "Link 19 --> https://pt.wikipedia.org/wiki/Clustering\n",
            "Link 20 --> https://pt.wikipedia.org/wiki/Aprendizado_de_m%C3%A1quina#Aprendizado_por_refor.C3.A7o\n",
            "Link 21 --> https://pt.wikipedia.org/wiki/Business_Intelligence\n",
            "Link 22 --> https://pt.wikipedia.org/wiki/Naspers\n",
            "Link 23 --> https://pt.wikipedia.org/wiki/Programa%C3%A7%C3%A3o_em_l%C3%B3gica_indutiva\n",
            "Link 24 --> https://pt.wikipedia.org/wiki/Aprendizagem_profunda\n",
            "Link 25 --> https://pt.wikipedia.org/wiki/Aprendizado_de_m%C3%A1quina#Aprendizado_por_dicion.C3.A1rio_esparso\n",
            "Link 26 --> https://pt.wikipedia.org/wiki/Facebook\n",
            "Link 27 --> https://pt.wikipedia.org/wiki/An%C3%A1lise_de_dados\n",
            "Link 28 --> https://pt.wikipedia.org/wiki/L%C3%ADngua_inglesa\n",
            "Link 29 --> https://pt.wikipedia.org/wiki/Aprendizado_de_m%C3%A1quina#Aprendizado_por_representa.C3.A7.C3.A3o\n",
            "Link 30 --> https://pt.wikipedia.org/wiki/Columbia_University\n",
            "Link 31 --> https://pt.wikipedia.org/wiki/United_Parcel_Service\n",
            "Link 32 --> https://pt.wikipedia.org/wiki/Estat%C3%ADstica\n",
            "Link 33 --> https://pt.wikipedia.org/wiki/Julia_(linguagem_de_programa%C3%A7%C3%A3o)\n",
            "Link 34 --> https://pt.wikipedia.org/wiki/Python\n",
            "Link 35 --> https://pt.wikipedia.org/wiki/R_(linguagem_de_programa%C3%A7%C3%A3o)\n",
            "Link 36 --> https://pt.wikipedia.org/wiki/Engenheiro_de_software\n",
            "Link 37 --> https://pt.wikipedia.org/wiki/Forbes\n",
            "Link 38 --> https://pt.wikipedia.org/wiki/LinkedIn\n",
            "Link 39 --> https://pt.wikipedia.org/wiki/Digital_object_identifier\n",
            "Link 40 --> https://pt.wikipedia.org/wiki/Amazon.com\n",
            "Link 41 --> https://pt.wikipedia.org/wiki/MongoDB\n",
            "Link 42 --> https://pt.wikipedia.org/wiki/Aprendizado_de_m%C3%A1quina\n",
            "Link 43 --> https://pt.wikipedia.org/wiki/WhatsApp\n"
          ]
        }
      ]
    },
    {
      "cell_type": "markdown",
      "source": [
        "3. Item extraction"
      ],
      "metadata": {
        "id": "ecTYR5JPTiMX"
      },
      "id": "ecTYR5JPTiMX"
    },
    {
      "cell_type": "code",
      "source": [
        "title = html.xpath('//h1[@id=\"firstHeading\"]/text()')[1]\n",
        "\n",
        "\n"
      ],
      "metadata": {
        "id": "iDbPUod0TmLf"
      },
      "id": "iDbPUod0TmLf",
      "execution_count": null,
      "outputs": []
    },
    {
      "cell_type": "code",
      "source": [],
      "metadata": {
        "id": "hSHkH4vYS5Tq"
      },
      "id": "hSHkH4vYS5Tq",
      "execution_count": null,
      "outputs": []
    }
  ],
  "metadata": {
    "kernelspec": {
      "display_name": "Python 3 (ipykernel)",
      "language": "python",
      "name": "python3"
    },
    "language_info": {
      "codemirror_mode": {
        "name": "ipython",
        "version": 3
      },
      "file_extension": ".py",
      "mimetype": "text/x-python",
      "name": "python",
      "nbconvert_exporter": "python",
      "pygments_lexer": "ipython3",
      "version": "3.9.12"
    },
    "colab": {
      "provenance": [],
      "collapsed_sections": [],
      "include_colab_link": true
    }
  },
  "nbformat": 4,
  "nbformat_minor": 5
}