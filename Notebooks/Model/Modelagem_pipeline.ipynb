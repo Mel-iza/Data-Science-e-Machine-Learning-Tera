{
  "nbformat": 4,
  "nbformat_minor": 0,
  "metadata": {
    "colab": {
      "provenance": [],
      "machine_shape": "hm",
      "gpuType": "V100",
      "include_colab_link": true
    },
    "kernelspec": {
      "name": "python3",
      "display_name": "Python 3"
    },
    "language_info": {
      "name": "python"
    }
  },
  "cells": [
    {
      "cell_type": "markdown",
      "metadata": {
        "id": "view-in-github",
        "colab_type": "text"
      },
      "source": [
        "<a href=\"https://colab.research.google.com/github/Mel-iza/Data-Science-e-Machine-Learning-Tera/blob/main/Notebooks/Model/Modelagem_pipeline.ipynb\" target=\"_parent\"><img src=\"https://colab.research.google.com/assets/colab-badge.svg\" alt=\"Open In Colab\"/></a>"
      ]
    },
    {
      "cell_type": "code",
      "execution_count": 1,
      "metadata": {
        "id": "ukkJMQcXr6Zn"
      },
      "outputs": [],
      "source": [
        "import pandas as pd \n",
        "from sklearn.feature_extraction.text import TfidfVectorizer,CountVectorizer\n",
        "import sklearn \n",
        "from sklearn.metrics import classification_report\n",
        "from sklearn import pipeline\n",
        "from sklearn.linear_model import LogisticRegressionCV\n",
        "from xgboost import XGBClassifier\n",
        "from sklearn.naive_bayes import GaussianNB\n",
        "from sklearn.model_selection import cross_val_score\n",
        "from sklearn import metrics\n",
        "from sklearn.metrics import accuracy_score\n",
        "from sklearn.metrics import classification_report\n",
        "import nltk\n",
        "from nltk import FreqDist\n",
        "from nltk.stem import RSLPStemmer\n",
        "from sklearn.tree import DecisionTreeClassifier\n",
        "from sklearn.svm import SVC\n",
        "from sklearn.ensemble import AdaBoostClassifier\n"
      ]
    },
    {
      "cell_type": "code",
      "source": [
        "from google.colab import files\n",
        "\n",
        "def save_and_download_file(data, file_name):\n",
        "  file_name = file_name\n",
        "  data.to_csv(file_name+'.csv', header=True, index=False, encoding='utf-8')\n",
        "  files.download(file_name+'.csv') "
      ],
      "metadata": {
        "id": "qhadzlzoRweR"
      },
      "execution_count": 10,
      "outputs": []
    },
    {
      "cell_type": "code",
      "source": [
        "data = pd.read_csv('/content/ultimate_data1_preprocessed_for_model.csv')\n",
        "sample = data.sample(400)"
      ],
      "metadata": {
        "id": "0lIF_4yrnVux"
      },
      "execution_count": null,
      "outputs": []
    },
    {
      "cell_type": "code",
      "source": [
        "import pandas as pd\n",
        "\n",
        "# Carregue o dataset completo\n",
        "dataset = pd.read_csv('/content/ultimate_data1_preprocessed_for_model.csv')\n",
        "\n",
        "# Defina o tamanho da porção que você deseja carregar (por exemplo, 20%)\n",
        "portion_size = int(len(dataset) * 0.5)\n",
        "\n",
        "# Amostra aleatória da porção do dataset\n",
        "data = dataset.sample(n=portion_size)\n",
        "\n",
        "# Faça algo com a porção aleatória do dataset\n",
        "# Por exemplo, imprima as primeiras linhas:\n",
        "#print(random_portion.head())\n",
        "data"
      ],
      "metadata": {
        "colab": {
          "base_uri": "https://localhost:8080/",
          "height": 658
        },
        "id": "zt3R000Cnr8q",
        "outputId": "a6162cd8-633a-4092-f00f-221f6b9fa802"
      },
      "execution_count": 2,
      "outputs": [
        {
          "output_type": "execute_result",
          "data": {
            "text/plain": [
              "                                                    text  label  \\\n",
              "24171  propina agnelo entregue canteiro obras mane ga...      1   \n",
              "33048  a anvisa autorizou hoje a realizacao de ensaio...      1   \n",
              "2139   carmen lucia reune fiquem proximos passaremos ...      0   \n",
              "36051  nao se deixe levar por desinformacao variola d...      1   \n",
              "25156   de abril de  h sorocaba com recordes de morte...      1   \n",
              "...                                                  ...    ...   \n",
              "12147   uma mulher saudavel de anos morre minutos apo...      0   \n",
              "34437  projecoeslevando em conta o baixo indice de te...      1   \n",
              "32779  circula nas redes sociais que um jovem tentou ...      1   \n",
              "2785   lucas lucco faz linda homenagem chapecoense va...      0   \n",
              "18503  e quem vai determinar o que e noticia verdadei...      0   \n",
              "\n",
              "                         fonte  \\\n",
              "24171      fake.br corpus nilc   \n",
              "33048   twitter anvisa_oficial   \n",
              "2139       fake.br corpus nilc   \n",
              "36051        twitter dogarrett   \n",
              "25156                  veritas   \n",
              "...                        ...   \n",
              "12147    telegram anti_vacinas   \n",
              "34437  twitter contagemcorona1   \n",
              "32779      twitter agencialupa   \n",
              "2785       fake.br corpus nilc   \n",
              "18503        telegram antivaxx   \n",
              "\n",
              "                                       text_without_stop  \n",
              "24171  propina agnelo entregue canteiro obras mane ga...  \n",
              "33048  anvisa autorizou hoje realizacao ensaio clinic...  \n",
              "2139   carmen lucia reune fiquem proximos passaremos ...  \n",
              "36051  deixe levar desinformacao variola macaco pode ...  \n",
              "25156  abril sorocaba recordes mortes covid prefeitur...  \n",
              "...                                                  ...  \n",
              "12147  mulher saudavel anos morre minutos apos tomar ...  \n",
              "34437  projecoeslevando conta baixo indice testagem s...  \n",
              "32779  circula redes sociais jovem tentou tomar vacin...  \n",
              "2785   lucas lucco linda homenagem chapecoense jogo i...  \n",
              "18503  determinar noticia verdadeira falsa esquerdist...  \n",
              "\n",
              "[21332 rows x 4 columns]"
            ],
            "text/html": [
              "\n",
              "  <div id=\"df-a06408e3-2518-4930-ae2e-0f1ea880849a\">\n",
              "    <div class=\"colab-df-container\">\n",
              "      <div>\n",
              "<style scoped>\n",
              "    .dataframe tbody tr th:only-of-type {\n",
              "        vertical-align: middle;\n",
              "    }\n",
              "\n",
              "    .dataframe tbody tr th {\n",
              "        vertical-align: top;\n",
              "    }\n",
              "\n",
              "    .dataframe thead th {\n",
              "        text-align: right;\n",
              "    }\n",
              "</style>\n",
              "<table border=\"1\" class=\"dataframe\">\n",
              "  <thead>\n",
              "    <tr style=\"text-align: right;\">\n",
              "      <th></th>\n",
              "      <th>text</th>\n",
              "      <th>label</th>\n",
              "      <th>fonte</th>\n",
              "      <th>text_without_stop</th>\n",
              "    </tr>\n",
              "  </thead>\n",
              "  <tbody>\n",
              "    <tr>\n",
              "      <th>24171</th>\n",
              "      <td>propina agnelo entregue canteiro obras mane ga...</td>\n",
              "      <td>1</td>\n",
              "      <td>fake.br corpus nilc</td>\n",
              "      <td>propina agnelo entregue canteiro obras mane ga...</td>\n",
              "    </tr>\n",
              "    <tr>\n",
              "      <th>33048</th>\n",
              "      <td>a anvisa autorizou hoje a realizacao de ensaio...</td>\n",
              "      <td>1</td>\n",
              "      <td>twitter anvisa_oficial</td>\n",
              "      <td>anvisa autorizou hoje realizacao ensaio clinic...</td>\n",
              "    </tr>\n",
              "    <tr>\n",
              "      <th>2139</th>\n",
              "      <td>carmen lucia reune fiquem proximos passaremos ...</td>\n",
              "      <td>0</td>\n",
              "      <td>fake.br corpus nilc</td>\n",
              "      <td>carmen lucia reune fiquem proximos passaremos ...</td>\n",
              "    </tr>\n",
              "    <tr>\n",
              "      <th>36051</th>\n",
              "      <td>nao se deixe levar por desinformacao variola d...</td>\n",
              "      <td>1</td>\n",
              "      <td>twitter dogarrett</td>\n",
              "      <td>deixe levar desinformacao variola macaco pode ...</td>\n",
              "    </tr>\n",
              "    <tr>\n",
              "      <th>25156</th>\n",
              "      <td>de abril de  h sorocaba com recordes de morte...</td>\n",
              "      <td>1</td>\n",
              "      <td>veritas</td>\n",
              "      <td>abril sorocaba recordes mortes covid prefeitur...</td>\n",
              "    </tr>\n",
              "    <tr>\n",
              "      <th>...</th>\n",
              "      <td>...</td>\n",
              "      <td>...</td>\n",
              "      <td>...</td>\n",
              "      <td>...</td>\n",
              "    </tr>\n",
              "    <tr>\n",
              "      <th>12147</th>\n",
              "      <td>uma mulher saudavel de anos morre minutos apo...</td>\n",
              "      <td>0</td>\n",
              "      <td>telegram anti_vacinas</td>\n",
              "      <td>mulher saudavel anos morre minutos apos tomar ...</td>\n",
              "    </tr>\n",
              "    <tr>\n",
              "      <th>34437</th>\n",
              "      <td>projecoeslevando em conta o baixo indice de te...</td>\n",
              "      <td>1</td>\n",
              "      <td>twitter contagemcorona1</td>\n",
              "      <td>projecoeslevando conta baixo indice testagem s...</td>\n",
              "    </tr>\n",
              "    <tr>\n",
              "      <th>32779</th>\n",
              "      <td>circula nas redes sociais que um jovem tentou ...</td>\n",
              "      <td>1</td>\n",
              "      <td>twitter agencialupa</td>\n",
              "      <td>circula redes sociais jovem tentou tomar vacin...</td>\n",
              "    </tr>\n",
              "    <tr>\n",
              "      <th>2785</th>\n",
              "      <td>lucas lucco faz linda homenagem chapecoense va...</td>\n",
              "      <td>0</td>\n",
              "      <td>fake.br corpus nilc</td>\n",
              "      <td>lucas lucco linda homenagem chapecoense jogo i...</td>\n",
              "    </tr>\n",
              "    <tr>\n",
              "      <th>18503</th>\n",
              "      <td>e quem vai determinar o que e noticia verdadei...</td>\n",
              "      <td>0</td>\n",
              "      <td>telegram antivaxx</td>\n",
              "      <td>determinar noticia verdadeira falsa esquerdist...</td>\n",
              "    </tr>\n",
              "  </tbody>\n",
              "</table>\n",
              "<p>21332 rows × 4 columns</p>\n",
              "</div>\n",
              "      <button class=\"colab-df-convert\" onclick=\"convertToInteractive('df-a06408e3-2518-4930-ae2e-0f1ea880849a')\"\n",
              "              title=\"Convert this dataframe to an interactive table.\"\n",
              "              style=\"display:none;\">\n",
              "        \n",
              "  <svg xmlns=\"http://www.w3.org/2000/svg\" height=\"24px\"viewBox=\"0 0 24 24\"\n",
              "       width=\"24px\">\n",
              "    <path d=\"M0 0h24v24H0V0z\" fill=\"none\"/>\n",
              "    <path d=\"M18.56 5.44l.94 2.06.94-2.06 2.06-.94-2.06-.94-.94-2.06-.94 2.06-2.06.94zm-11 1L8.5 8.5l.94-2.06 2.06-.94-2.06-.94L8.5 2.5l-.94 2.06-2.06.94zm10 10l.94 2.06.94-2.06 2.06-.94-2.06-.94-.94-2.06-.94 2.06-2.06.94z\"/><path d=\"M17.41 7.96l-1.37-1.37c-.4-.4-.92-.59-1.43-.59-.52 0-1.04.2-1.43.59L10.3 9.45l-7.72 7.72c-.78.78-.78 2.05 0 2.83L4 21.41c.39.39.9.59 1.41.59.51 0 1.02-.2 1.41-.59l7.78-7.78 2.81-2.81c.8-.78.8-2.07 0-2.86zM5.41 20L4 18.59l7.72-7.72 1.47 1.35L5.41 20z\"/>\n",
              "  </svg>\n",
              "      </button>\n",
              "      \n",
              "  <style>\n",
              "    .colab-df-container {\n",
              "      display:flex;\n",
              "      flex-wrap:wrap;\n",
              "      gap: 12px;\n",
              "    }\n",
              "\n",
              "    .colab-df-convert {\n",
              "      background-color: #E8F0FE;\n",
              "      border: none;\n",
              "      border-radius: 50%;\n",
              "      cursor: pointer;\n",
              "      display: none;\n",
              "      fill: #1967D2;\n",
              "      height: 32px;\n",
              "      padding: 0 0 0 0;\n",
              "      width: 32px;\n",
              "    }\n",
              "\n",
              "    .colab-df-convert:hover {\n",
              "      background-color: #E2EBFA;\n",
              "      box-shadow: 0px 1px 2px rgba(60, 64, 67, 0.3), 0px 1px 3px 1px rgba(60, 64, 67, 0.15);\n",
              "      fill: #174EA6;\n",
              "    }\n",
              "\n",
              "    [theme=dark] .colab-df-convert {\n",
              "      background-color: #3B4455;\n",
              "      fill: #D2E3FC;\n",
              "    }\n",
              "\n",
              "    [theme=dark] .colab-df-convert:hover {\n",
              "      background-color: #434B5C;\n",
              "      box-shadow: 0px 1px 3px 1px rgba(0, 0, 0, 0.15);\n",
              "      filter: drop-shadow(0px 1px 2px rgba(0, 0, 0, 0.3));\n",
              "      fill: #FFFFFF;\n",
              "    }\n",
              "  </style>\n",
              "\n",
              "      <script>\n",
              "        const buttonEl =\n",
              "          document.querySelector('#df-a06408e3-2518-4930-ae2e-0f1ea880849a button.colab-df-convert');\n",
              "        buttonEl.style.display =\n",
              "          google.colab.kernel.accessAllowed ? 'block' : 'none';\n",
              "\n",
              "        async function convertToInteractive(key) {\n",
              "          const element = document.querySelector('#df-a06408e3-2518-4930-ae2e-0f1ea880849a');\n",
              "          const dataTable =\n",
              "            await google.colab.kernel.invokeFunction('convertToInteractive',\n",
              "                                                     [key], {});\n",
              "          if (!dataTable) return;\n",
              "\n",
              "          const docLinkHtml = 'Like what you see? Visit the ' +\n",
              "            '<a target=\"_blank\" href=https://colab.research.google.com/notebooks/data_table.ipynb>data table notebook</a>'\n",
              "            + ' to learn more about interactive tables.';\n",
              "          element.innerHTML = '';\n",
              "          dataTable['output_type'] = 'display_data';\n",
              "          await google.colab.output.renderOutput(dataTable, element);\n",
              "          const docLink = document.createElement('div');\n",
              "          docLink.innerHTML = docLinkHtml;\n",
              "          element.appendChild(docLink);\n",
              "        }\n",
              "      </script>\n",
              "    </div>\n",
              "  </div>\n",
              "  "
            ]
          },
          "metadata": {},
          "execution_count": 2
        }
      ]
    },
    {
      "cell_type": "code",
      "source": [
        "save_and_download_file(data, 'data_urgent')"
      ],
      "metadata": {
        "colab": {
          "base_uri": "https://localhost:8080/",
          "height": 17
        },
        "id": "ZudpncZkcGrv",
        "outputId": "ab38baec-4e85-4c9a-c79b-47d0dbe6c0e3"
      },
      "execution_count": 26,
      "outputs": [
        {
          "output_type": "display_data",
          "data": {
            "text/plain": [
              "<IPython.core.display.Javascript object>"
            ],
            "application/javascript": [
              "\n",
              "    async function download(id, filename, size) {\n",
              "      if (!google.colab.kernel.accessAllowed) {\n",
              "        return;\n",
              "      }\n",
              "      const div = document.createElement('div');\n",
              "      const label = document.createElement('label');\n",
              "      label.textContent = `Downloading \"${filename}\": `;\n",
              "      div.appendChild(label);\n",
              "      const progress = document.createElement('progress');\n",
              "      progress.max = size;\n",
              "      div.appendChild(progress);\n",
              "      document.body.appendChild(div);\n",
              "\n",
              "      const buffers = [];\n",
              "      let downloaded = 0;\n",
              "\n",
              "      const channel = await google.colab.kernel.comms.open(id);\n",
              "      // Send a message to notify the kernel that we're ready.\n",
              "      channel.send({})\n",
              "\n",
              "      for await (const message of channel.messages) {\n",
              "        // Send a message to notify the kernel that we're ready.\n",
              "        channel.send({})\n",
              "        if (message.buffers) {\n",
              "          for (const buffer of message.buffers) {\n",
              "            buffers.push(buffer);\n",
              "            downloaded += buffer.byteLength;\n",
              "            progress.value = downloaded;\n",
              "          }\n",
              "        }\n",
              "      }\n",
              "      const blob = new Blob(buffers, {type: 'application/binary'});\n",
              "      const a = document.createElement('a');\n",
              "      a.href = window.URL.createObjectURL(blob);\n",
              "      a.download = filename;\n",
              "      div.appendChild(a);\n",
              "      a.click();\n",
              "      div.remove();\n",
              "    }\n",
              "  "
            ]
          },
          "metadata": {}
        },
        {
          "output_type": "display_data",
          "data": {
            "text/plain": [
              "<IPython.core.display.Javascript object>"
            ],
            "application/javascript": [
              "download(\"download_5418e639-6bbe-4061-b214-ec5e7b9dbc0f\", \"data_urgent.csv\", 29479132)"
            ]
          },
          "metadata": {}
        }
      ]
    },
    {
      "cell_type": "code",
      "source": [
        "import pandas as pd \n",
        "\n",
        "data = pd.read_csv('/content/ultimate_data1_preprocessed_for_model.csv')\n",
        "data['label'] = data['label'].astype(int)\n",
        "data['label'] = data['label'].astype('category')\n",
        "data['text'] = data['text'].astype(str)\n",
        "data['text_without_stop'] = data['text_without_stop'].astype(str)\n",
        "data.info()"
      ],
      "metadata": {
        "colab": {
          "base_uri": "https://localhost:8080/"
        },
        "id": "f_eJf3cmUX3F",
        "outputId": "1f4c55f2-d42b-43dc-d206-49679964aced"
      },
      "execution_count": 2,
      "outputs": [
        {
          "output_type": "stream",
          "name": "stdout",
          "text": [
            "<class 'pandas.core.frame.DataFrame'>\n",
            "RangeIndex: 42665 entries, 0 to 42664\n",
            "Data columns (total 4 columns):\n",
            " #   Column             Non-Null Count  Dtype   \n",
            "---  ------             --------------  -----   \n",
            " 0   text               42665 non-null  object  \n",
            " 1   label              42665 non-null  category\n",
            " 2   fonte              42665 non-null  object  \n",
            " 3   text_without_stop  42665 non-null  object  \n",
            "dtypes: category(1), object(3)\n",
            "memory usage: 1.0+ MB\n"
          ]
        }
      ]
    },
    {
      "cell_type": "code",
      "source": [
        "data['label'] = data['label'].astype(int)\n",
        "data['label'] = data['label'].astype('category')\n",
        "data['text'] = data['text'].astype(str)\n",
        "data['text_without_stop'] = data['text_without_stop'].astype(str)\n",
        "data.info()"
      ],
      "metadata": {
        "colab": {
          "base_uri": "https://localhost:8080/"
        },
        "id": "z5yZyIGTi8cW",
        "outputId": "1e604204-e1a6-48d8-c9fe-6571eb393653"
      },
      "execution_count": 3,
      "outputs": [
        {
          "output_type": "stream",
          "name": "stdout",
          "text": [
            "<class 'pandas.core.frame.DataFrame'>\n",
            "Int64Index: 21332 entries, 24171 to 18503\n",
            "Data columns (total 4 columns):\n",
            " #   Column             Non-Null Count  Dtype   \n",
            "---  ------             --------------  -----   \n",
            " 0   text               21332 non-null  object  \n",
            " 1   label              21332 non-null  category\n",
            " 2   fonte              21332 non-null  object  \n",
            " 3   text_without_stop  21332 non-null  object  \n",
            "dtypes: category(1), object(3)\n",
            "memory usage: 687.6+ KB\n"
          ]
        }
      ]
    },
    {
      "cell_type": "code",
      "source": [
        "data"
      ],
      "metadata": {
        "colab": {
          "base_uri": "https://localhost:8080/",
          "height": 728
        },
        "id": "Cr9eUQ_TU54Q",
        "outputId": "ae8ae6ae-211a-4683-bc48-fe70568e9296"
      },
      "execution_count": 3,
      "outputs": [
        {
          "output_type": "execute_result",
          "data": {
            "text/plain": [
              "                                                    text label  \\\n",
              "0                       nostradamus previu o coronavirus     0   \n",
              "1      a nova variante do sarscov e mais letal e nao ...     0   \n",
              "2      mensagem que mostra um link que leva a um site...     0   \n",
              "3      inalacao de bicarbonato de sodio com agua sani...     0   \n",
              "4      anvisa registra novos obitos por vacinas nas u...     0   \n",
              "...                                                  ...   ...   \n",
              "42660   dash atualizado contabilizadas ate h primeira...     1   \n",
              "42661   dash atualizado contabilizadas ate h primeira...     1   \n",
              "42662   dash atualizado contabilizadas ate h primeira...     1   \n",
              "42663   dash atualizado contabilizadas ate h primeira...     1   \n",
              "42664   dash atualizado contabilizadas ate h primeira...     1   \n",
              "\n",
              "                       fonte  \\\n",
              "0                    veritas   \n",
              "1                    veritas   \n",
              "2                    veritas   \n",
              "3                    veritas   \n",
              "4                    veritas   \n",
              "...                      ...   \n",
              "42660  twitter vacinacovidbr   \n",
              "42661  twitter vacinacovidbr   \n",
              "42662  twitter vacinacovidbr   \n",
              "42663  twitter vacinacovidbr   \n",
              "42664  twitter vacinacovidbr   \n",
              "\n",
              "                                       text_without_stop  \n",
              "0                         nostradamus previu coronavirus  \n",
              "1            nova variante sarscov letal afetada vacinas  \n",
              "2      mensagem mostra link leva site supostamente po...  \n",
              "3      inalacao bicarbonato sodio agua sanitaria ajud...  \n",
              "4      anvisa registra novos obitos vacinas ultimas h...  \n",
              "...                                                  ...  \n",
              "42660  dash atualizado contabilizadas primeiras segun...  \n",
              "42661  dash atualizado contabilizadas primeiras segun...  \n",
              "42662  dash atualizado contabilizadas primeiras segun...  \n",
              "42663  dash atualizado contabilizadas primeiras segun...  \n",
              "42664  dash atualizado contabilizadas primeiras segun...  \n",
              "\n",
              "[42665 rows x 4 columns]"
            ],
            "text/html": [
              "\n",
              "  <div id=\"df-52305de2-a5f5-4769-8b2d-f9286ad2181a\">\n",
              "    <div class=\"colab-df-container\">\n",
              "      <div>\n",
              "<style scoped>\n",
              "    .dataframe tbody tr th:only-of-type {\n",
              "        vertical-align: middle;\n",
              "    }\n",
              "\n",
              "    .dataframe tbody tr th {\n",
              "        vertical-align: top;\n",
              "    }\n",
              "\n",
              "    .dataframe thead th {\n",
              "        text-align: right;\n",
              "    }\n",
              "</style>\n",
              "<table border=\"1\" class=\"dataframe\">\n",
              "  <thead>\n",
              "    <tr style=\"text-align: right;\">\n",
              "      <th></th>\n",
              "      <th>text</th>\n",
              "      <th>label</th>\n",
              "      <th>fonte</th>\n",
              "      <th>text_without_stop</th>\n",
              "    </tr>\n",
              "  </thead>\n",
              "  <tbody>\n",
              "    <tr>\n",
              "      <th>0</th>\n",
              "      <td>nostradamus previu o coronavirus</td>\n",
              "      <td>0</td>\n",
              "      <td>veritas</td>\n",
              "      <td>nostradamus previu coronavirus</td>\n",
              "    </tr>\n",
              "    <tr>\n",
              "      <th>1</th>\n",
              "      <td>a nova variante do sarscov e mais letal e nao ...</td>\n",
              "      <td>0</td>\n",
              "      <td>veritas</td>\n",
              "      <td>nova variante sarscov letal afetada vacinas</td>\n",
              "    </tr>\n",
              "    <tr>\n",
              "      <th>2</th>\n",
              "      <td>mensagem que mostra um link que leva a um site...</td>\n",
              "      <td>0</td>\n",
              "      <td>veritas</td>\n",
              "      <td>mensagem mostra link leva site supostamente po...</td>\n",
              "    </tr>\n",
              "    <tr>\n",
              "      <th>3</th>\n",
              "      <td>inalacao de bicarbonato de sodio com agua sani...</td>\n",
              "      <td>0</td>\n",
              "      <td>veritas</td>\n",
              "      <td>inalacao bicarbonato sodio agua sanitaria ajud...</td>\n",
              "    </tr>\n",
              "    <tr>\n",
              "      <th>4</th>\n",
              "      <td>anvisa registra novos obitos por vacinas nas u...</td>\n",
              "      <td>0</td>\n",
              "      <td>veritas</td>\n",
              "      <td>anvisa registra novos obitos vacinas ultimas h...</td>\n",
              "    </tr>\n",
              "    <tr>\n",
              "      <th>...</th>\n",
              "      <td>...</td>\n",
              "      <td>...</td>\n",
              "      <td>...</td>\n",
              "      <td>...</td>\n",
              "    </tr>\n",
              "    <tr>\n",
              "      <th>42660</th>\n",
              "      <td>dash atualizado contabilizadas ate h primeira...</td>\n",
              "      <td>1</td>\n",
              "      <td>twitter vacinacovidbr</td>\n",
              "      <td>dash atualizado contabilizadas primeiras segun...</td>\n",
              "    </tr>\n",
              "    <tr>\n",
              "      <th>42661</th>\n",
              "      <td>dash atualizado contabilizadas ate h primeira...</td>\n",
              "      <td>1</td>\n",
              "      <td>twitter vacinacovidbr</td>\n",
              "      <td>dash atualizado contabilizadas primeiras segun...</td>\n",
              "    </tr>\n",
              "    <tr>\n",
              "      <th>42662</th>\n",
              "      <td>dash atualizado contabilizadas ate h primeira...</td>\n",
              "      <td>1</td>\n",
              "      <td>twitter vacinacovidbr</td>\n",
              "      <td>dash atualizado contabilizadas primeiras segun...</td>\n",
              "    </tr>\n",
              "    <tr>\n",
              "      <th>42663</th>\n",
              "      <td>dash atualizado contabilizadas ate h primeira...</td>\n",
              "      <td>1</td>\n",
              "      <td>twitter vacinacovidbr</td>\n",
              "      <td>dash atualizado contabilizadas primeiras segun...</td>\n",
              "    </tr>\n",
              "    <tr>\n",
              "      <th>42664</th>\n",
              "      <td>dash atualizado contabilizadas ate h primeira...</td>\n",
              "      <td>1</td>\n",
              "      <td>twitter vacinacovidbr</td>\n",
              "      <td>dash atualizado contabilizadas primeiras segun...</td>\n",
              "    </tr>\n",
              "  </tbody>\n",
              "</table>\n",
              "<p>42665 rows × 4 columns</p>\n",
              "</div>\n",
              "      <button class=\"colab-df-convert\" onclick=\"convertToInteractive('df-52305de2-a5f5-4769-8b2d-f9286ad2181a')\"\n",
              "              title=\"Convert this dataframe to an interactive table.\"\n",
              "              style=\"display:none;\">\n",
              "        \n",
              "  <svg xmlns=\"http://www.w3.org/2000/svg\" height=\"24px\"viewBox=\"0 0 24 24\"\n",
              "       width=\"24px\">\n",
              "    <path d=\"M0 0h24v24H0V0z\" fill=\"none\"/>\n",
              "    <path d=\"M18.56 5.44l.94 2.06.94-2.06 2.06-.94-2.06-.94-.94-2.06-.94 2.06-2.06.94zm-11 1L8.5 8.5l.94-2.06 2.06-.94-2.06-.94L8.5 2.5l-.94 2.06-2.06.94zm10 10l.94 2.06.94-2.06 2.06-.94-2.06-.94-.94-2.06-.94 2.06-2.06.94z\"/><path d=\"M17.41 7.96l-1.37-1.37c-.4-.4-.92-.59-1.43-.59-.52 0-1.04.2-1.43.59L10.3 9.45l-7.72 7.72c-.78.78-.78 2.05 0 2.83L4 21.41c.39.39.9.59 1.41.59.51 0 1.02-.2 1.41-.59l7.78-7.78 2.81-2.81c.8-.78.8-2.07 0-2.86zM5.41 20L4 18.59l7.72-7.72 1.47 1.35L5.41 20z\"/>\n",
              "  </svg>\n",
              "      </button>\n",
              "      \n",
              "  <style>\n",
              "    .colab-df-container {\n",
              "      display:flex;\n",
              "      flex-wrap:wrap;\n",
              "      gap: 12px;\n",
              "    }\n",
              "\n",
              "    .colab-df-convert {\n",
              "      background-color: #E8F0FE;\n",
              "      border: none;\n",
              "      border-radius: 50%;\n",
              "      cursor: pointer;\n",
              "      display: none;\n",
              "      fill: #1967D2;\n",
              "      height: 32px;\n",
              "      padding: 0 0 0 0;\n",
              "      width: 32px;\n",
              "    }\n",
              "\n",
              "    .colab-df-convert:hover {\n",
              "      background-color: #E2EBFA;\n",
              "      box-shadow: 0px 1px 2px rgba(60, 64, 67, 0.3), 0px 1px 3px 1px rgba(60, 64, 67, 0.15);\n",
              "      fill: #174EA6;\n",
              "    }\n",
              "\n",
              "    [theme=dark] .colab-df-convert {\n",
              "      background-color: #3B4455;\n",
              "      fill: #D2E3FC;\n",
              "    }\n",
              "\n",
              "    [theme=dark] .colab-df-convert:hover {\n",
              "      background-color: #434B5C;\n",
              "      box-shadow: 0px 1px 3px 1px rgba(0, 0, 0, 0.15);\n",
              "      filter: drop-shadow(0px 1px 2px rgba(0, 0, 0, 0.3));\n",
              "      fill: #FFFFFF;\n",
              "    }\n",
              "  </style>\n",
              "\n",
              "      <script>\n",
              "        const buttonEl =\n",
              "          document.querySelector('#df-52305de2-a5f5-4769-8b2d-f9286ad2181a button.colab-df-convert');\n",
              "        buttonEl.style.display =\n",
              "          google.colab.kernel.accessAllowed ? 'block' : 'none';\n",
              "\n",
              "        async function convertToInteractive(key) {\n",
              "          const element = document.querySelector('#df-52305de2-a5f5-4769-8b2d-f9286ad2181a');\n",
              "          const dataTable =\n",
              "            await google.colab.kernel.invokeFunction('convertToInteractive',\n",
              "                                                     [key], {});\n",
              "          if (!dataTable) return;\n",
              "\n",
              "          const docLinkHtml = 'Like what you see? Visit the ' +\n",
              "            '<a target=\"_blank\" href=https://colab.research.google.com/notebooks/data_table.ipynb>data table notebook</a>'\n",
              "            + ' to learn more about interactive tables.';\n",
              "          element.innerHTML = '';\n",
              "          dataTable['output_type'] = 'display_data';\n",
              "          await google.colab.output.renderOutput(dataTable, element);\n",
              "          const docLink = document.createElement('div');\n",
              "          docLink.innerHTML = docLinkHtml;\n",
              "          element.appendChild(docLink);\n",
              "        }\n",
              "      </script>\n",
              "    </div>\n",
              "  </div>\n",
              "  "
            ]
          },
          "metadata": {},
          "execution_count": 3
        }
      ]
    },
    {
      "cell_type": "code",
      "source": [
        "data = pd.read_csv('data_urgent.csv')\n",
        "data['label'] = data['label'].astype(int)\n",
        "data['label'] = data['label'].astype('category')\n",
        "data['text'] = data['text'].astype(str)\n",
        "data['text_without_stop'] = data['text_without_stop'].astype(str)\n",
        "data.info()"
      ],
      "metadata": {
        "colab": {
          "base_uri": "https://localhost:8080/"
        },
        "id": "CN2WZuSViT_r",
        "outputId": "fd541d95-96ea-4081-9223-a429337389e0"
      },
      "execution_count": 5,
      "outputs": [
        {
          "output_type": "stream",
          "name": "stdout",
          "text": [
            "<class 'pandas.core.frame.DataFrame'>\n",
            "RangeIndex: 21332 entries, 0 to 21331\n",
            "Data columns (total 4 columns):\n",
            " #   Column             Non-Null Count  Dtype   \n",
            "---  ------             --------------  -----   \n",
            " 0   text               21332 non-null  object  \n",
            " 1   label              21332 non-null  category\n",
            " 2   fonte              21332 non-null  object  \n",
            " 3   text_without_stop  21332 non-null  object  \n",
            "dtypes: category(1), object(3)\n",
            "memory usage: 521.0+ KB\n"
          ]
        }
      ]
    },
    {
      "cell_type": "code",
      "source": [
        "data['label'].value_counts()"
      ],
      "metadata": {
        "colab": {
          "base_uri": "https://localhost:8080/"
        },
        "id": "ZWSNTh1tm4SW",
        "outputId": "0b0ad789-3275-4bbf-c489-599b1a1ae47c"
      },
      "execution_count": 6,
      "outputs": [
        {
          "output_type": "execute_result",
          "data": {
            "text/plain": [
              "1    10783\n",
              "0    10549\n",
              "Name: label, dtype: int64"
            ]
          },
          "metadata": {},
          "execution_count": 6
        }
      ]
    },
    {
      "cell_type": "code",
      "source": [
        "modelos = {\n",
        "          \"Regressão Logística\": LogisticRegressionCV(max_iter=1000),\n",
        "          \"XGBoost\": XGBClassifier(),\n",
        "          \"Naive Bayes\":GaussianNB(),\n",
        "          \"Decision Tree\": DecisionTreeClassifier(),\n",
        "          \"SVM\": SVC(),\n",
        "          \"AdaBoost\":AdaBoostClassifier()\n",
        "          }"
      ],
      "metadata": {
        "id": "ksbQzStPTVfs"
      },
      "execution_count": 20,
      "outputs": []
    },
    {
      "cell_type": "code",
      "source": [
        "modelos = {\n",
        "          \"SVM\": SVC(),\n",
        "          \"AdaBoost\":AdaBoostClassifier()\n",
        "          }"
      ],
      "metadata": {
        "id": "cuRHgciNgENY"
      },
      "execution_count": 7,
      "outputs": []
    },
    {
      "cell_type": "code",
      "source": [
        "data"
      ],
      "metadata": {
        "colab": {
          "base_uri": "https://localhost:8080/",
          "height": 658
        },
        "id": "ZOnAxpHm-5Hb",
        "outputId": "1705c91e-b2f3-45cd-8090-dba5052c53d2"
      },
      "execution_count": 39,
      "outputs": [
        {
          "output_type": "execute_result",
          "data": {
            "text/plain": [
              "                                                    text label  \\\n",
              "0      propina agnelo entregue canteiro obras mane ga...     1   \n",
              "1      a anvisa autorizou hoje a realizacao de ensaio...     1   \n",
              "2      carmen lucia reune fiquem proximos passaremos ...     0   \n",
              "3      nao se deixe levar por desinformacao variola d...     1   \n",
              "4       de abril de  h sorocaba com recordes de morte...     1   \n",
              "...                                                  ...   ...   \n",
              "21327   uma mulher saudavel de anos morre minutos apo...     0   \n",
              "21328  projecoeslevando em conta o baixo indice de te...     1   \n",
              "21329  circula nas redes sociais que um jovem tentou ...     1   \n",
              "21330  lucas lucco faz linda homenagem chapecoense va...     0   \n",
              "21331  e quem vai determinar o que e noticia verdadei...     0   \n",
              "\n",
              "                         fonte  \\\n",
              "0          fake.br corpus nilc   \n",
              "1       twitter anvisa_oficial   \n",
              "2          fake.br corpus nilc   \n",
              "3            twitter dogarrett   \n",
              "4                      veritas   \n",
              "...                        ...   \n",
              "21327    telegram anti_vacinas   \n",
              "21328  twitter contagemcorona1   \n",
              "21329      twitter agencialupa   \n",
              "21330      fake.br corpus nilc   \n",
              "21331        telegram antivaxx   \n",
              "\n",
              "                                       text_without_stop  \n",
              "0      propina agnelo entregue canteiro obras mane ga...  \n",
              "1      anvisa autorizou hoje realizacao ensaio clinic...  \n",
              "2      carmen lucia reune fiquem proximos passaremos ...  \n",
              "3      deixe levar desinformacao variola macaco pode ...  \n",
              "4      abril sorocaba recordes mortes covid prefeitur...  \n",
              "...                                                  ...  \n",
              "21327  mulher saudavel anos morre minutos apos tomar ...  \n",
              "21328  projecoeslevando conta baixo indice testagem s...  \n",
              "21329  circula redes sociais jovem tentou tomar vacin...  \n",
              "21330  lucas lucco linda homenagem chapecoense jogo i...  \n",
              "21331  determinar noticia verdadeira falsa esquerdist...  \n",
              "\n",
              "[21332 rows x 4 columns]"
            ],
            "text/html": [
              "\n",
              "  <div id=\"df-bb86a26d-ef0a-45c5-92d9-93771579aae2\">\n",
              "    <div class=\"colab-df-container\">\n",
              "      <div>\n",
              "<style scoped>\n",
              "    .dataframe tbody tr th:only-of-type {\n",
              "        vertical-align: middle;\n",
              "    }\n",
              "\n",
              "    .dataframe tbody tr th {\n",
              "        vertical-align: top;\n",
              "    }\n",
              "\n",
              "    .dataframe thead th {\n",
              "        text-align: right;\n",
              "    }\n",
              "</style>\n",
              "<table border=\"1\" class=\"dataframe\">\n",
              "  <thead>\n",
              "    <tr style=\"text-align: right;\">\n",
              "      <th></th>\n",
              "      <th>text</th>\n",
              "      <th>label</th>\n",
              "      <th>fonte</th>\n",
              "      <th>text_without_stop</th>\n",
              "    </tr>\n",
              "  </thead>\n",
              "  <tbody>\n",
              "    <tr>\n",
              "      <th>0</th>\n",
              "      <td>propina agnelo entregue canteiro obras mane ga...</td>\n",
              "      <td>1</td>\n",
              "      <td>fake.br corpus nilc</td>\n",
              "      <td>propina agnelo entregue canteiro obras mane ga...</td>\n",
              "    </tr>\n",
              "    <tr>\n",
              "      <th>1</th>\n",
              "      <td>a anvisa autorizou hoje a realizacao de ensaio...</td>\n",
              "      <td>1</td>\n",
              "      <td>twitter anvisa_oficial</td>\n",
              "      <td>anvisa autorizou hoje realizacao ensaio clinic...</td>\n",
              "    </tr>\n",
              "    <tr>\n",
              "      <th>2</th>\n",
              "      <td>carmen lucia reune fiquem proximos passaremos ...</td>\n",
              "      <td>0</td>\n",
              "      <td>fake.br corpus nilc</td>\n",
              "      <td>carmen lucia reune fiquem proximos passaremos ...</td>\n",
              "    </tr>\n",
              "    <tr>\n",
              "      <th>3</th>\n",
              "      <td>nao se deixe levar por desinformacao variola d...</td>\n",
              "      <td>1</td>\n",
              "      <td>twitter dogarrett</td>\n",
              "      <td>deixe levar desinformacao variola macaco pode ...</td>\n",
              "    </tr>\n",
              "    <tr>\n",
              "      <th>4</th>\n",
              "      <td>de abril de  h sorocaba com recordes de morte...</td>\n",
              "      <td>1</td>\n",
              "      <td>veritas</td>\n",
              "      <td>abril sorocaba recordes mortes covid prefeitur...</td>\n",
              "    </tr>\n",
              "    <tr>\n",
              "      <th>...</th>\n",
              "      <td>...</td>\n",
              "      <td>...</td>\n",
              "      <td>...</td>\n",
              "      <td>...</td>\n",
              "    </tr>\n",
              "    <tr>\n",
              "      <th>21327</th>\n",
              "      <td>uma mulher saudavel de anos morre minutos apo...</td>\n",
              "      <td>0</td>\n",
              "      <td>telegram anti_vacinas</td>\n",
              "      <td>mulher saudavel anos morre minutos apos tomar ...</td>\n",
              "    </tr>\n",
              "    <tr>\n",
              "      <th>21328</th>\n",
              "      <td>projecoeslevando em conta o baixo indice de te...</td>\n",
              "      <td>1</td>\n",
              "      <td>twitter contagemcorona1</td>\n",
              "      <td>projecoeslevando conta baixo indice testagem s...</td>\n",
              "    </tr>\n",
              "    <tr>\n",
              "      <th>21329</th>\n",
              "      <td>circula nas redes sociais que um jovem tentou ...</td>\n",
              "      <td>1</td>\n",
              "      <td>twitter agencialupa</td>\n",
              "      <td>circula redes sociais jovem tentou tomar vacin...</td>\n",
              "    </tr>\n",
              "    <tr>\n",
              "      <th>21330</th>\n",
              "      <td>lucas lucco faz linda homenagem chapecoense va...</td>\n",
              "      <td>0</td>\n",
              "      <td>fake.br corpus nilc</td>\n",
              "      <td>lucas lucco linda homenagem chapecoense jogo i...</td>\n",
              "    </tr>\n",
              "    <tr>\n",
              "      <th>21331</th>\n",
              "      <td>e quem vai determinar o que e noticia verdadei...</td>\n",
              "      <td>0</td>\n",
              "      <td>telegram antivaxx</td>\n",
              "      <td>determinar noticia verdadeira falsa esquerdist...</td>\n",
              "    </tr>\n",
              "  </tbody>\n",
              "</table>\n",
              "<p>21332 rows × 4 columns</p>\n",
              "</div>\n",
              "      <button class=\"colab-df-convert\" onclick=\"convertToInteractive('df-bb86a26d-ef0a-45c5-92d9-93771579aae2')\"\n",
              "              title=\"Convert this dataframe to an interactive table.\"\n",
              "              style=\"display:none;\">\n",
              "        \n",
              "  <svg xmlns=\"http://www.w3.org/2000/svg\" height=\"24px\"viewBox=\"0 0 24 24\"\n",
              "       width=\"24px\">\n",
              "    <path d=\"M0 0h24v24H0V0z\" fill=\"none\"/>\n",
              "    <path d=\"M18.56 5.44l.94 2.06.94-2.06 2.06-.94-2.06-.94-.94-2.06-.94 2.06-2.06.94zm-11 1L8.5 8.5l.94-2.06 2.06-.94-2.06-.94L8.5 2.5l-.94 2.06-2.06.94zm10 10l.94 2.06.94-2.06 2.06-.94-2.06-.94-.94-2.06-.94 2.06-2.06.94z\"/><path d=\"M17.41 7.96l-1.37-1.37c-.4-.4-.92-.59-1.43-.59-.52 0-1.04.2-1.43.59L10.3 9.45l-7.72 7.72c-.78.78-.78 2.05 0 2.83L4 21.41c.39.39.9.59 1.41.59.51 0 1.02-.2 1.41-.59l7.78-7.78 2.81-2.81c.8-.78.8-2.07 0-2.86zM5.41 20L4 18.59l7.72-7.72 1.47 1.35L5.41 20z\"/>\n",
              "  </svg>\n",
              "      </button>\n",
              "      \n",
              "  <style>\n",
              "    .colab-df-container {\n",
              "      display:flex;\n",
              "      flex-wrap:wrap;\n",
              "      gap: 12px;\n",
              "    }\n",
              "\n",
              "    .colab-df-convert {\n",
              "      background-color: #E8F0FE;\n",
              "      border: none;\n",
              "      border-radius: 50%;\n",
              "      cursor: pointer;\n",
              "      display: none;\n",
              "      fill: #1967D2;\n",
              "      height: 32px;\n",
              "      padding: 0 0 0 0;\n",
              "      width: 32px;\n",
              "    }\n",
              "\n",
              "    .colab-df-convert:hover {\n",
              "      background-color: #E2EBFA;\n",
              "      box-shadow: 0px 1px 2px rgba(60, 64, 67, 0.3), 0px 1px 3px 1px rgba(60, 64, 67, 0.15);\n",
              "      fill: #174EA6;\n",
              "    }\n",
              "\n",
              "    [theme=dark] .colab-df-convert {\n",
              "      background-color: #3B4455;\n",
              "      fill: #D2E3FC;\n",
              "    }\n",
              "\n",
              "    [theme=dark] .colab-df-convert:hover {\n",
              "      background-color: #434B5C;\n",
              "      box-shadow: 0px 1px 3px 1px rgba(0, 0, 0, 0.15);\n",
              "      filter: drop-shadow(0px 1px 2px rgba(0, 0, 0, 0.3));\n",
              "      fill: #FFFFFF;\n",
              "    }\n",
              "  </style>\n",
              "\n",
              "      <script>\n",
              "        const buttonEl =\n",
              "          document.querySelector('#df-bb86a26d-ef0a-45c5-92d9-93771579aae2 button.colab-df-convert');\n",
              "        buttonEl.style.display =\n",
              "          google.colab.kernel.accessAllowed ? 'block' : 'none';\n",
              "\n",
              "        async function convertToInteractive(key) {\n",
              "          const element = document.querySelector('#df-bb86a26d-ef0a-45c5-92d9-93771579aae2');\n",
              "          const dataTable =\n",
              "            await google.colab.kernel.invokeFunction('convertToInteractive',\n",
              "                                                     [key], {});\n",
              "          if (!dataTable) return;\n",
              "\n",
              "          const docLinkHtml = 'Like what you see? Visit the ' +\n",
              "            '<a target=\"_blank\" href=https://colab.research.google.com/notebooks/data_table.ipynb>data table notebook</a>'\n",
              "            + ' to learn more about interactive tables.';\n",
              "          element.innerHTML = '';\n",
              "          dataTable['output_type'] = 'display_data';\n",
              "          await google.colab.output.renderOutput(dataTable, element);\n",
              "          const docLink = document.createElement('div');\n",
              "          docLink.innerHTML = docLinkHtml;\n",
              "          element.appendChild(docLink);\n",
              "        }\n",
              "      </script>\n",
              "    </div>\n",
              "  </div>\n",
              "  "
            ]
          },
          "metadata": {},
          "execution_count": 39
        }
      ]
    },
    {
      "cell_type": "code",
      "source": [
        "train_preprocessed_data = pd.concat([X_train, y_train], axis=1)\n",
        "test_preprocessed_data = pd.concat([X_test, y_test], axis=1)"
      ],
      "metadata": {
        "id": "KK5TfwcpFA4U"
      },
      "execution_count": 23,
      "outputs": []
    },
    {
      "cell_type": "code",
      "source": [
        "train_preprocessed_data"
      ],
      "metadata": {
        "colab": {
          "base_uri": "https://localhost:8080/",
          "height": 166
        },
        "id": "aq01o0FHndVD",
        "outputId": "f39dea5d-351a-4e59-da5f-b0c09f1019fa"
      },
      "execution_count": 7,
      "outputs": [
        {
          "output_type": "error",
          "ename": "NameError",
          "evalue": "ignored",
          "traceback": [
            "\u001b[0;31m---------------------------------------------------------------------------\u001b[0m",
            "\u001b[0;31mNameError\u001b[0m                                 Traceback (most recent call last)",
            "\u001b[0;32m<ipython-input-7-a68f6d61ff3a>\u001b[0m in \u001b[0;36m<cell line: 1>\u001b[0;34m()\u001b[0m\n\u001b[0;32m----> 1\u001b[0;31m \u001b[0mtrain_preprocessed_data\u001b[0m\u001b[0;34m\u001b[0m\u001b[0;34m\u001b[0m\u001b[0m\n\u001b[0m",
            "\u001b[0;31mNameError\u001b[0m: name 'train_preprocessed_data' is not defined"
          ]
        }
      ]
    },
    {
      "cell_type": "code",
      "source": [
        "save_and_download_file(train_preprocessed_data, 'train_data')\n",
        "save_and_download_file(test_preprocessed_data, 'test_data')"
      ],
      "metadata": {
        "colab": {
          "base_uri": "https://localhost:8080/",
          "height": 17
        },
        "id": "mFFjnhC3Jq0N",
        "outputId": "57b1cd81-1319-4c02-ebd3-39ac9efebd73"
      },
      "execution_count": 24,
      "outputs": [
        {
          "output_type": "display_data",
          "data": {
            "text/plain": [
              "<IPython.core.display.Javascript object>"
            ],
            "application/javascript": [
              "\n",
              "    async function download(id, filename, size) {\n",
              "      if (!google.colab.kernel.accessAllowed) {\n",
              "        return;\n",
              "      }\n",
              "      const div = document.createElement('div');\n",
              "      const label = document.createElement('label');\n",
              "      label.textContent = `Downloading \"${filename}\": `;\n",
              "      div.appendChild(label);\n",
              "      const progress = document.createElement('progress');\n",
              "      progress.max = size;\n",
              "      div.appendChild(progress);\n",
              "      document.body.appendChild(div);\n",
              "\n",
              "      const buffers = [];\n",
              "      let downloaded = 0;\n",
              "\n",
              "      const channel = await google.colab.kernel.comms.open(id);\n",
              "      // Send a message to notify the kernel that we're ready.\n",
              "      channel.send({})\n",
              "\n",
              "      for await (const message of channel.messages) {\n",
              "        // Send a message to notify the kernel that we're ready.\n",
              "        channel.send({})\n",
              "        if (message.buffers) {\n",
              "          for (const buffer of message.buffers) {\n",
              "            buffers.push(buffer);\n",
              "            downloaded += buffer.byteLength;\n",
              "            progress.value = downloaded;\n",
              "          }\n",
              "        }\n",
              "      }\n",
              "      const blob = new Blob(buffers, {type: 'application/binary'});\n",
              "      const a = document.createElement('a');\n",
              "      a.href = window.URL.createObjectURL(blob);\n",
              "      a.download = filename;\n",
              "      div.appendChild(a);\n",
              "      a.click();\n",
              "      div.remove();\n",
              "    }\n",
              "  "
            ]
          },
          "metadata": {}
        },
        {
          "output_type": "display_data",
          "data": {
            "text/plain": [
              "<IPython.core.display.Javascript object>"
            ],
            "application/javascript": [
              "download(\"download_ce8a76f7-81c9-4f17-b557-bc3fee0cc2ea\", \"train_data.csv\", 10706721)"
            ]
          },
          "metadata": {}
        },
        {
          "output_type": "display_data",
          "data": {
            "text/plain": [
              "<IPython.core.display.Javascript object>"
            ],
            "application/javascript": [
              "\n",
              "    async function download(id, filename, size) {\n",
              "      if (!google.colab.kernel.accessAllowed) {\n",
              "        return;\n",
              "      }\n",
              "      const div = document.createElement('div');\n",
              "      const label = document.createElement('label');\n",
              "      label.textContent = `Downloading \"${filename}\": `;\n",
              "      div.appendChild(label);\n",
              "      const progress = document.createElement('progress');\n",
              "      progress.max = size;\n",
              "      div.appendChild(progress);\n",
              "      document.body.appendChild(div);\n",
              "\n",
              "      const buffers = [];\n",
              "      let downloaded = 0;\n",
              "\n",
              "      const channel = await google.colab.kernel.comms.open(id);\n",
              "      // Send a message to notify the kernel that we're ready.\n",
              "      channel.send({})\n",
              "\n",
              "      for await (const message of channel.messages) {\n",
              "        // Send a message to notify the kernel that we're ready.\n",
              "        channel.send({})\n",
              "        if (message.buffers) {\n",
              "          for (const buffer of message.buffers) {\n",
              "            buffers.push(buffer);\n",
              "            downloaded += buffer.byteLength;\n",
              "            progress.value = downloaded;\n",
              "          }\n",
              "        }\n",
              "      }\n",
              "      const blob = new Blob(buffers, {type: 'application/binary'});\n",
              "      const a = document.createElement('a');\n",
              "      a.href = window.URL.createObjectURL(blob);\n",
              "      a.download = filename;\n",
              "      div.appendChild(a);\n",
              "      a.click();\n",
              "      div.remove();\n",
              "    }\n",
              "  "
            ]
          },
          "metadata": {}
        },
        {
          "output_type": "display_data",
          "data": {
            "text/plain": [
              "<IPython.core.display.Javascript object>"
            ],
            "application/javascript": [
              "download(\"download_4f697bf2-005c-45b4-ab32-4d98c884742e\", \"test_data.csv\", 4999083)"
            ]
          },
          "metadata": {}
        }
      ]
    },
    {
      "cell_type": "code",
      "source": [
        "print(f'Dados de treino: {X_train.shape + y_train.shape}')\n",
        "print(f'Dados de teste: {X_test.shape + y_test.shape}')\n",
        "print(f'Total: {X_train.shape[0]+X_test.shape[0]}')"
      ],
      "metadata": {
        "colab": {
          "base_uri": "https://localhost:8080/"
        },
        "id": "5fmUiwZJZBYp",
        "outputId": "e2f8162d-42e8-4693-eacb-e2f5b4b17652"
      },
      "execution_count": 8,
      "outputs": [
        {
          "output_type": "stream",
          "name": "stdout",
          "text": [
            "Dados de treino: (14292, 14292)\n",
            "Dados de teste: (7040, 7040)\n",
            "Total: 21332\n"
          ]
        }
      ]
    },
    {
      "cell_type": "code",
      "source": [
        "print(f'Dados de treino: {X_train.shape}')\n",
        "print(f'Dados de teste: {X_test.shape}')"
      ],
      "metadata": {
        "colab": {
          "base_uri": "https://localhost:8080/"
        },
        "id": "VOm-eFxF3ixA",
        "outputId": "a8582881-bea0-48e0-f88b-1b44d6ffad45"
      },
      "execution_count": 14,
      "outputs": [
        {
          "output_type": "stream",
          "name": "stdout",
          "text": [
            "Dados de treino: (14292,)\n",
            "Dados de teste: (7040,)\n"
          ]
        }
      ]
    },
    {
      "cell_type": "code",
      "source": [
        "from sklearn.linear_model import LogisticRegression\n",
        "from sklearn.metrics import accuracy_score\n",
        "from sklearn.metrics import f1_score\n",
        "\n",
        "\n",
        "\n",
        "# Instanciar o modelo de Regressão Logística\n",
        "modelo = LogisticRegression()\n",
        "\n",
        "# Treinar o modelo com os dados de treinamento\n",
        "modelo.fit(X_train_df, y_train)\n",
        "\n",
        "# Fazer previsões nos dados de teste\n",
        "y_pred = modelo.predict(X_test_df)\n",
        "\n",
        "# Calcular metricas\n",
        "accuracy = cross_val_score(modelo, X_test_df, y_pred, cv=3, scoring='balanced_accuracy').mean()\n",
        "f1_weighted = cross_val_score(modelo, X_test_df, y_pred, cv=3, scoring='f1_weighted').mean()\n",
        "recall_weighted = cross_val_score(modelo, X_test_df, y_pred, cv=3, scoring='recall_weighted').mean()\n",
        "precision_weighted = cross_val_score(modelo, X_test_df, y_pred, cv=3, scoring='precision_weighted').mean()\n",
        "\n",
        "print(\"Acurácia\", round(accuracy, 3))\n",
        "print(\"f1\", round(f1_weighted, 3))\n",
        "print(\"recall\",round(recall_weighted, 3))\n",
        "print(\"precision\",  round(precision_weighted, 3))"
      ],
      "metadata": {
        "colab": {
          "base_uri": "https://localhost:8080/"
        },
        "id": "PCuzf8ADjR2p",
        "outputId": "3cb8233e-ea53-478e-9908-56ad97ee1683"
      },
      "execution_count": 14,
      "outputs": [
        {
          "output_type": "stream",
          "name": "stderr",
          "text": [
            "/usr/local/lib/python3.10/dist-packages/sklearn/linear_model/_logistic.py:458: ConvergenceWarning: lbfgs failed to converge (status=1):\n",
            "STOP: TOTAL NO. of ITERATIONS REACHED LIMIT.\n",
            "\n",
            "Increase the number of iterations (max_iter) or scale the data as shown in:\n",
            "    https://scikit-learn.org/stable/modules/preprocessing.html\n",
            "Please also refer to the documentation for alternative solver options:\n",
            "    https://scikit-learn.org/stable/modules/linear_model.html#logistic-regression\n",
            "  n_iter_i = _check_optimize_result(\n",
            "/usr/local/lib/python3.10/dist-packages/sklearn/linear_model/_logistic.py:458: ConvergenceWarning: lbfgs failed to converge (status=1):\n",
            "STOP: TOTAL NO. of ITERATIONS REACHED LIMIT.\n",
            "\n",
            "Increase the number of iterations (max_iter) or scale the data as shown in:\n",
            "    https://scikit-learn.org/stable/modules/preprocessing.html\n",
            "Please also refer to the documentation for alternative solver options:\n",
            "    https://scikit-learn.org/stable/modules/linear_model.html#logistic-regression\n",
            "  n_iter_i = _check_optimize_result(\n",
            "/usr/local/lib/python3.10/dist-packages/sklearn/linear_model/_logistic.py:458: ConvergenceWarning: lbfgs failed to converge (status=1):\n",
            "STOP: TOTAL NO. of ITERATIONS REACHED LIMIT.\n",
            "\n",
            "Increase the number of iterations (max_iter) or scale the data as shown in:\n",
            "    https://scikit-learn.org/stable/modules/preprocessing.html\n",
            "Please also refer to the documentation for alternative solver options:\n",
            "    https://scikit-learn.org/stable/modules/linear_model.html#logistic-regression\n",
            "  n_iter_i = _check_optimize_result(\n",
            "/usr/local/lib/python3.10/dist-packages/sklearn/linear_model/_logistic.py:458: ConvergenceWarning: lbfgs failed to converge (status=1):\n",
            "STOP: TOTAL NO. of ITERATIONS REACHED LIMIT.\n",
            "\n",
            "Increase the number of iterations (max_iter) or scale the data as shown in:\n",
            "    https://scikit-learn.org/stable/modules/preprocessing.html\n",
            "Please also refer to the documentation for alternative solver options:\n",
            "    https://scikit-learn.org/stable/modules/linear_model.html#logistic-regression\n",
            "  n_iter_i = _check_optimize_result(\n",
            "/usr/local/lib/python3.10/dist-packages/sklearn/linear_model/_logistic.py:458: ConvergenceWarning: lbfgs failed to converge (status=1):\n",
            "STOP: TOTAL NO. of ITERATIONS REACHED LIMIT.\n",
            "\n",
            "Increase the number of iterations (max_iter) or scale the data as shown in:\n",
            "    https://scikit-learn.org/stable/modules/preprocessing.html\n",
            "Please also refer to the documentation for alternative solver options:\n",
            "    https://scikit-learn.org/stable/modules/linear_model.html#logistic-regression\n",
            "  n_iter_i = _check_optimize_result(\n",
            "/usr/local/lib/python3.10/dist-packages/sklearn/linear_model/_logistic.py:458: ConvergenceWarning: lbfgs failed to converge (status=1):\n",
            "STOP: TOTAL NO. of ITERATIONS REACHED LIMIT.\n",
            "\n",
            "Increase the number of iterations (max_iter) or scale the data as shown in:\n",
            "    https://scikit-learn.org/stable/modules/preprocessing.html\n",
            "Please also refer to the documentation for alternative solver options:\n",
            "    https://scikit-learn.org/stable/modules/linear_model.html#logistic-regression\n",
            "  n_iter_i = _check_optimize_result(\n",
            "/usr/local/lib/python3.10/dist-packages/sklearn/linear_model/_logistic.py:458: ConvergenceWarning: lbfgs failed to converge (status=1):\n",
            "STOP: TOTAL NO. of ITERATIONS REACHED LIMIT.\n",
            "\n",
            "Increase the number of iterations (max_iter) or scale the data as shown in:\n",
            "    https://scikit-learn.org/stable/modules/preprocessing.html\n",
            "Please also refer to the documentation for alternative solver options:\n",
            "    https://scikit-learn.org/stable/modules/linear_model.html#logistic-regression\n",
            "  n_iter_i = _check_optimize_result(\n",
            "/usr/local/lib/python3.10/dist-packages/sklearn/linear_model/_logistic.py:458: ConvergenceWarning: lbfgs failed to converge (status=1):\n",
            "STOP: TOTAL NO. of ITERATIONS REACHED LIMIT.\n",
            "\n",
            "Increase the number of iterations (max_iter) or scale the data as shown in:\n",
            "    https://scikit-learn.org/stable/modules/preprocessing.html\n",
            "Please also refer to the documentation for alternative solver options:\n",
            "    https://scikit-learn.org/stable/modules/linear_model.html#logistic-regression\n",
            "  n_iter_i = _check_optimize_result(\n",
            "/usr/local/lib/python3.10/dist-packages/sklearn/linear_model/_logistic.py:458: ConvergenceWarning: lbfgs failed to converge (status=1):\n",
            "STOP: TOTAL NO. of ITERATIONS REACHED LIMIT.\n",
            "\n",
            "Increase the number of iterations (max_iter) or scale the data as shown in:\n",
            "    https://scikit-learn.org/stable/modules/preprocessing.html\n",
            "Please also refer to the documentation for alternative solver options:\n",
            "    https://scikit-learn.org/stable/modules/linear_model.html#logistic-regression\n",
            "  n_iter_i = _check_optimize_result(\n",
            "/usr/local/lib/python3.10/dist-packages/sklearn/linear_model/_logistic.py:458: ConvergenceWarning: lbfgs failed to converge (status=1):\n",
            "STOP: TOTAL NO. of ITERATIONS REACHED LIMIT.\n",
            "\n",
            "Increase the number of iterations (max_iter) or scale the data as shown in:\n",
            "    https://scikit-learn.org/stable/modules/preprocessing.html\n",
            "Please also refer to the documentation for alternative solver options:\n",
            "    https://scikit-learn.org/stable/modules/linear_model.html#logistic-regression\n",
            "  n_iter_i = _check_optimize_result(\n",
            "/usr/local/lib/python3.10/dist-packages/sklearn/linear_model/_logistic.py:458: ConvergenceWarning: lbfgs failed to converge (status=1):\n",
            "STOP: TOTAL NO. of ITERATIONS REACHED LIMIT.\n",
            "\n",
            "Increase the number of iterations (max_iter) or scale the data as shown in:\n",
            "    https://scikit-learn.org/stable/modules/preprocessing.html\n",
            "Please also refer to the documentation for alternative solver options:\n",
            "    https://scikit-learn.org/stable/modules/linear_model.html#logistic-regression\n",
            "  n_iter_i = _check_optimize_result(\n",
            "/usr/local/lib/python3.10/dist-packages/sklearn/linear_model/_logistic.py:458: ConvergenceWarning: lbfgs failed to converge (status=1):\n",
            "STOP: TOTAL NO. of ITERATIONS REACHED LIMIT.\n",
            "\n",
            "Increase the number of iterations (max_iter) or scale the data as shown in:\n",
            "    https://scikit-learn.org/stable/modules/preprocessing.html\n",
            "Please also refer to the documentation for alternative solver options:\n",
            "    https://scikit-learn.org/stable/modules/linear_model.html#logistic-regression\n",
            "  n_iter_i = _check_optimize_result(\n",
            "/usr/local/lib/python3.10/dist-packages/sklearn/linear_model/_logistic.py:458: ConvergenceWarning: lbfgs failed to converge (status=1):\n",
            "STOP: TOTAL NO. of ITERATIONS REACHED LIMIT.\n",
            "\n",
            "Increase the number of iterations (max_iter) or scale the data as shown in:\n",
            "    https://scikit-learn.org/stable/modules/preprocessing.html\n",
            "Please also refer to the documentation for alternative solver options:\n",
            "    https://scikit-learn.org/stable/modules/linear_model.html#logistic-regression\n",
            "  n_iter_i = _check_optimize_result(\n"
          ]
        },
        {
          "output_type": "stream",
          "name": "stdout",
          "text": [
            "Acurácia 0.933\n",
            "f1 0.933\n",
            "recall 0.933\n",
            "precision 0.934\n"
          ]
        }
      ]
    },
    {
      "cell_type": "code",
      "source": [
        "device = torch.device(\"cuda:0\" if torch.cuda.is_available() else \"cpu\")"
      ],
      "metadata": {
        "id": "4aGLt_s_RxDg"
      },
      "execution_count": 17,
      "outputs": []
    },
    {
      "cell_type": "code",
      "source": [
        "import joblib\n",
        "import torch\n",
        "\n",
        "dict_metrica = {}\n",
        "dict_metrica[\"Tecnica Utilizada\"] = [\"Texto padronizado\"]\n",
        "\n",
        "\n",
        "for nome, modelo in modelos.items():\n",
        "    # Ajustar o modelo com os dados de treinamento\n",
        "    modelo.fit(X_train_df, y_train)\n",
        "    \n",
        "    # Fazer previsões nos dados de teste\n",
        "    y_pred = modelo.predict(X_test_df)\n",
        "\n",
        "    accuracy = cross_val_score(modelo, X_test_df, y_pred, cv=3, scoring='balanced_accuracy').mean()\n",
        "    f1_weighted = cross_val_score(modelo, X_test_df, y_pred, cv=3, scoring='f1_weighted').mean()\n",
        "    recall_weighted = cross_val_score(modelo, X_test_df, y_pred, cv=3, scoring='recall_weighted').mean()\n",
        "    precision_weighted = cross_val_score(modelo, X_test_df, y_pred, cv=3, scoring='precision_weighted').mean()\n",
        "    \n",
        "\n",
        "    dict_metrica[nome] = {\"acurácia\":round(accuracy, 3),\n",
        "                          \"f1_weighted\":round(f1_weighted, 3),\n",
        "                          \"recall_weighted\":round(recall_weighted, 3),\n",
        "                          \"precision_weighted\":round(precision_weighted, 3)}\n",
        "\n",
        "    caminho_destino = '/content/drive/MyDrive/modelos_tcc/'+'textopadronizado_'+nome.strip()  # Caminho onde você deseja salvar o modelo\n",
        "    joblib.dump(modelo, caminho_destino+'.joblib')\n",
        "    \n",
        "    # Imprimir as métricas do modelo\n",
        "    print(\"Acurácia\", nome, round(accuracy, 3))\n",
        "    print(\"f1\", nome, round(f1_weighted, 3))\n",
        "    print(\"recall\", nome, round(recall_weighted, 3))\n",
        "    print(\"precision\", nome, round(precision_weighted, 3))\n",
        "    print('\\n')\n"
      ],
      "metadata": {
        "colab": {
          "base_uri": "https://localhost:8080/",
          "height": 398
        },
        "id": "m09-qayFlU41",
        "outputId": "54af4400-ba9c-497f-9496-0ea7c43dc712"
      },
      "execution_count": 18,
      "outputs": [
        {
          "output_type": "error",
          "ename": "KeyboardInterrupt",
          "evalue": "ignored",
          "traceback": [
            "\u001b[0;31m---------------------------------------------------------------------------\u001b[0m",
            "\u001b[0;31mKeyboardInterrupt\u001b[0m                         Traceback (most recent call last)",
            "\u001b[0;32m<ipython-input-18-09e29c226e2c>\u001b[0m in \u001b[0;36m<cell line: 8>\u001b[0;34m()\u001b[0m\n\u001b[1;32m      8\u001b[0m \u001b[0;32mfor\u001b[0m \u001b[0mnome\u001b[0m\u001b[0;34m,\u001b[0m \u001b[0mmodelo\u001b[0m \u001b[0;32min\u001b[0m \u001b[0mmodelos\u001b[0m\u001b[0;34m.\u001b[0m\u001b[0mitems\u001b[0m\u001b[0;34m(\u001b[0m\u001b[0;34m)\u001b[0m\u001b[0;34m:\u001b[0m\u001b[0;34m\u001b[0m\u001b[0;34m\u001b[0m\u001b[0m\n\u001b[1;32m      9\u001b[0m     \u001b[0;31m# Ajustar o modelo com os dados de treinamento\u001b[0m\u001b[0;34m\u001b[0m\u001b[0;34m\u001b[0m\u001b[0m\n\u001b[0;32m---> 10\u001b[0;31m     \u001b[0mmodelo\u001b[0m\u001b[0;34m.\u001b[0m\u001b[0mfit\u001b[0m\u001b[0;34m(\u001b[0m\u001b[0mX_train_df\u001b[0m\u001b[0;34m,\u001b[0m \u001b[0my_train\u001b[0m\u001b[0;34m)\u001b[0m\u001b[0;34m\u001b[0m\u001b[0;34m\u001b[0m\u001b[0m\n\u001b[0m\u001b[1;32m     11\u001b[0m \u001b[0;34m\u001b[0m\u001b[0m\n\u001b[1;32m     12\u001b[0m     \u001b[0;31m# Fazer previsões nos dados de teste\u001b[0m\u001b[0;34m\u001b[0m\u001b[0;34m\u001b[0m\u001b[0m\n",
            "\u001b[0;32m/usr/local/lib/python3.10/dist-packages/sklearn/svm/_base.py\u001b[0m in \u001b[0;36mfit\u001b[0;34m(self, X, y, sample_weight)\u001b[0m\n\u001b[1;32m    250\u001b[0m \u001b[0;34m\u001b[0m\u001b[0m\n\u001b[1;32m    251\u001b[0m         \u001b[0mseed\u001b[0m \u001b[0;34m=\u001b[0m \u001b[0mrnd\u001b[0m\u001b[0;34m.\u001b[0m\u001b[0mrandint\u001b[0m\u001b[0;34m(\u001b[0m\u001b[0mnp\u001b[0m\u001b[0;34m.\u001b[0m\u001b[0miinfo\u001b[0m\u001b[0;34m(\u001b[0m\u001b[0;34m\"i\"\u001b[0m\u001b[0;34m)\u001b[0m\u001b[0;34m.\u001b[0m\u001b[0mmax\u001b[0m\u001b[0;34m)\u001b[0m\u001b[0;34m\u001b[0m\u001b[0;34m\u001b[0m\u001b[0m\n\u001b[0;32m--> 252\u001b[0;31m         \u001b[0mfit\u001b[0m\u001b[0;34m(\u001b[0m\u001b[0mX\u001b[0m\u001b[0;34m,\u001b[0m \u001b[0my\u001b[0m\u001b[0;34m,\u001b[0m \u001b[0msample_weight\u001b[0m\u001b[0;34m,\u001b[0m \u001b[0msolver_type\u001b[0m\u001b[0;34m,\u001b[0m \u001b[0mkernel\u001b[0m\u001b[0;34m,\u001b[0m \u001b[0mrandom_seed\u001b[0m\u001b[0;34m=\u001b[0m\u001b[0mseed\u001b[0m\u001b[0;34m)\u001b[0m\u001b[0;34m\u001b[0m\u001b[0;34m\u001b[0m\u001b[0m\n\u001b[0m\u001b[1;32m    253\u001b[0m         \u001b[0;31m# see comment on the other call to np.iinfo in this file\u001b[0m\u001b[0;34m\u001b[0m\u001b[0;34m\u001b[0m\u001b[0m\n\u001b[1;32m    254\u001b[0m \u001b[0;34m\u001b[0m\u001b[0m\n",
            "\u001b[0;32m/usr/local/lib/python3.10/dist-packages/sklearn/svm/_base.py\u001b[0m in \u001b[0;36m_dense_fit\u001b[0;34m(self, X, y, sample_weight, solver_type, kernel, random_seed)\u001b[0m\n\u001b[1;32m    329\u001b[0m             \u001b[0mself\u001b[0m\u001b[0;34m.\u001b[0m\u001b[0mfit_status_\u001b[0m\u001b[0;34m,\u001b[0m\u001b[0;34m\u001b[0m\u001b[0;34m\u001b[0m\u001b[0m\n\u001b[1;32m    330\u001b[0m             \u001b[0mself\u001b[0m\u001b[0;34m.\u001b[0m\u001b[0m_num_iter\u001b[0m\u001b[0;34m,\u001b[0m\u001b[0;34m\u001b[0m\u001b[0;34m\u001b[0m\u001b[0m\n\u001b[0;32m--> 331\u001b[0;31m         \u001b[0;34m)\u001b[0m \u001b[0;34m=\u001b[0m \u001b[0mlibsvm\u001b[0m\u001b[0;34m.\u001b[0m\u001b[0mfit\u001b[0m\u001b[0;34m(\u001b[0m\u001b[0;34m\u001b[0m\u001b[0;34m\u001b[0m\u001b[0m\n\u001b[0m\u001b[1;32m    332\u001b[0m             \u001b[0mX\u001b[0m\u001b[0;34m,\u001b[0m\u001b[0;34m\u001b[0m\u001b[0;34m\u001b[0m\u001b[0m\n\u001b[1;32m    333\u001b[0m             \u001b[0my\u001b[0m\u001b[0;34m,\u001b[0m\u001b[0;34m\u001b[0m\u001b[0;34m\u001b[0m\u001b[0m\n",
            "\u001b[0;31mKeyboardInterrupt\u001b[0m: "
          ]
        }
      ]
    },
    {
      "cell_type": "markdown",
      "source": [
        "---"
      ],
      "metadata": {
        "id": "nYK0Nwbz_q5o"
      }
    },
    {
      "cell_type": "code",
      "source": [
        "from google.colab import drive\n",
        "drive.mount('/content/drive')"
      ],
      "metadata": {
        "colab": {
          "base_uri": "https://localhost:8080/"
        },
        "id": "NqdCDc6I-E20",
        "outputId": "a00fd0f4-6ed8-4829-ee5f-b4f43486a326"
      },
      "execution_count": 2,
      "outputs": [
        {
          "output_type": "stream",
          "name": "stdout",
          "text": [
            "Mounted at /content/drive\n"
          ]
        }
      ]
    },
    {
      "cell_type": "code",
      "source": [
        "data = pd.read_csv('/content/data_urgent.csv')\n",
        "data['fonte'] = data['fonte'].astype(str)\n",
        "data['text'] = data['text'].astype(str)\n",
        "data['text_without_stop'] = data['text_without_stop'].astype(str)\n",
        "data['label'] = data['label'].astype(int)\n",
        "data['label'] = data['label'].astype('category')\n",
        "data"
      ],
      "metadata": {
        "colab": {
          "base_uri": "https://localhost:8080/",
          "height": 658
        },
        "id": "7gYRN_mW_z1B",
        "outputId": "1723f60f-ce55-4e57-f760-e0a9fc817bef"
      },
      "execution_count": 5,
      "outputs": [
        {
          "output_type": "execute_result",
          "data": {
            "text/plain": [
              "                                                    text label  \\\n",
              "0      propina agnelo entregue canteiro obras mane ga...     1   \n",
              "1      a anvisa autorizou hoje a realizacao de ensaio...     1   \n",
              "2      carmen lucia reune fiquem proximos passaremos ...     0   \n",
              "3      nao se deixe levar por desinformacao variola d...     1   \n",
              "4       de abril de  h sorocaba com recordes de morte...     1   \n",
              "...                                                  ...   ...   \n",
              "21327   uma mulher saudavel de anos morre minutos apo...     0   \n",
              "21328  projecoeslevando em conta o baixo indice de te...     1   \n",
              "21329  circula nas redes sociais que um jovem tentou ...     1   \n",
              "21330  lucas lucco faz linda homenagem chapecoense va...     0   \n",
              "21331  e quem vai determinar o que e noticia verdadei...     0   \n",
              "\n",
              "                         fonte  \\\n",
              "0          fake.br corpus nilc   \n",
              "1       twitter anvisa_oficial   \n",
              "2          fake.br corpus nilc   \n",
              "3            twitter dogarrett   \n",
              "4                      veritas   \n",
              "...                        ...   \n",
              "21327    telegram anti_vacinas   \n",
              "21328  twitter contagemcorona1   \n",
              "21329      twitter agencialupa   \n",
              "21330      fake.br corpus nilc   \n",
              "21331        telegram antivaxx   \n",
              "\n",
              "                                       text_without_stop  \n",
              "0      propina agnelo entregue canteiro obras mane ga...  \n",
              "1      anvisa autorizou hoje realizacao ensaio clinic...  \n",
              "2      carmen lucia reune fiquem proximos passaremos ...  \n",
              "3      deixe levar desinformacao variola macaco pode ...  \n",
              "4      abril sorocaba recordes mortes covid prefeitur...  \n",
              "...                                                  ...  \n",
              "21327  mulher saudavel anos morre minutos apos tomar ...  \n",
              "21328  projecoeslevando conta baixo indice testagem s...  \n",
              "21329  circula redes sociais jovem tentou tomar vacin...  \n",
              "21330  lucas lucco linda homenagem chapecoense jogo i...  \n",
              "21331  determinar noticia verdadeira falsa esquerdist...  \n",
              "\n",
              "[21332 rows x 4 columns]"
            ],
            "text/html": [
              "\n",
              "  <div id=\"df-3561b35c-55fe-4420-bf1d-23cbd5a9b4fb\">\n",
              "    <div class=\"colab-df-container\">\n",
              "      <div>\n",
              "<style scoped>\n",
              "    .dataframe tbody tr th:only-of-type {\n",
              "        vertical-align: middle;\n",
              "    }\n",
              "\n",
              "    .dataframe tbody tr th {\n",
              "        vertical-align: top;\n",
              "    }\n",
              "\n",
              "    .dataframe thead th {\n",
              "        text-align: right;\n",
              "    }\n",
              "</style>\n",
              "<table border=\"1\" class=\"dataframe\">\n",
              "  <thead>\n",
              "    <tr style=\"text-align: right;\">\n",
              "      <th></th>\n",
              "      <th>text</th>\n",
              "      <th>label</th>\n",
              "      <th>fonte</th>\n",
              "      <th>text_without_stop</th>\n",
              "    </tr>\n",
              "  </thead>\n",
              "  <tbody>\n",
              "    <tr>\n",
              "      <th>0</th>\n",
              "      <td>propina agnelo entregue canteiro obras mane ga...</td>\n",
              "      <td>1</td>\n",
              "      <td>fake.br corpus nilc</td>\n",
              "      <td>propina agnelo entregue canteiro obras mane ga...</td>\n",
              "    </tr>\n",
              "    <tr>\n",
              "      <th>1</th>\n",
              "      <td>a anvisa autorizou hoje a realizacao de ensaio...</td>\n",
              "      <td>1</td>\n",
              "      <td>twitter anvisa_oficial</td>\n",
              "      <td>anvisa autorizou hoje realizacao ensaio clinic...</td>\n",
              "    </tr>\n",
              "    <tr>\n",
              "      <th>2</th>\n",
              "      <td>carmen lucia reune fiquem proximos passaremos ...</td>\n",
              "      <td>0</td>\n",
              "      <td>fake.br corpus nilc</td>\n",
              "      <td>carmen lucia reune fiquem proximos passaremos ...</td>\n",
              "    </tr>\n",
              "    <tr>\n",
              "      <th>3</th>\n",
              "      <td>nao se deixe levar por desinformacao variola d...</td>\n",
              "      <td>1</td>\n",
              "      <td>twitter dogarrett</td>\n",
              "      <td>deixe levar desinformacao variola macaco pode ...</td>\n",
              "    </tr>\n",
              "    <tr>\n",
              "      <th>4</th>\n",
              "      <td>de abril de  h sorocaba com recordes de morte...</td>\n",
              "      <td>1</td>\n",
              "      <td>veritas</td>\n",
              "      <td>abril sorocaba recordes mortes covid prefeitur...</td>\n",
              "    </tr>\n",
              "    <tr>\n",
              "      <th>...</th>\n",
              "      <td>...</td>\n",
              "      <td>...</td>\n",
              "      <td>...</td>\n",
              "      <td>...</td>\n",
              "    </tr>\n",
              "    <tr>\n",
              "      <th>21327</th>\n",
              "      <td>uma mulher saudavel de anos morre minutos apo...</td>\n",
              "      <td>0</td>\n",
              "      <td>telegram anti_vacinas</td>\n",
              "      <td>mulher saudavel anos morre minutos apos tomar ...</td>\n",
              "    </tr>\n",
              "    <tr>\n",
              "      <th>21328</th>\n",
              "      <td>projecoeslevando em conta o baixo indice de te...</td>\n",
              "      <td>1</td>\n",
              "      <td>twitter contagemcorona1</td>\n",
              "      <td>projecoeslevando conta baixo indice testagem s...</td>\n",
              "    </tr>\n",
              "    <tr>\n",
              "      <th>21329</th>\n",
              "      <td>circula nas redes sociais que um jovem tentou ...</td>\n",
              "      <td>1</td>\n",
              "      <td>twitter agencialupa</td>\n",
              "      <td>circula redes sociais jovem tentou tomar vacin...</td>\n",
              "    </tr>\n",
              "    <tr>\n",
              "      <th>21330</th>\n",
              "      <td>lucas lucco faz linda homenagem chapecoense va...</td>\n",
              "      <td>0</td>\n",
              "      <td>fake.br corpus nilc</td>\n",
              "      <td>lucas lucco linda homenagem chapecoense jogo i...</td>\n",
              "    </tr>\n",
              "    <tr>\n",
              "      <th>21331</th>\n",
              "      <td>e quem vai determinar o que e noticia verdadei...</td>\n",
              "      <td>0</td>\n",
              "      <td>telegram antivaxx</td>\n",
              "      <td>determinar noticia verdadeira falsa esquerdist...</td>\n",
              "    </tr>\n",
              "  </tbody>\n",
              "</table>\n",
              "<p>21332 rows × 4 columns</p>\n",
              "</div>\n",
              "      <button class=\"colab-df-convert\" onclick=\"convertToInteractive('df-3561b35c-55fe-4420-bf1d-23cbd5a9b4fb')\"\n",
              "              title=\"Convert this dataframe to an interactive table.\"\n",
              "              style=\"display:none;\">\n",
              "        \n",
              "  <svg xmlns=\"http://www.w3.org/2000/svg\" height=\"24px\"viewBox=\"0 0 24 24\"\n",
              "       width=\"24px\">\n",
              "    <path d=\"M0 0h24v24H0V0z\" fill=\"none\"/>\n",
              "    <path d=\"M18.56 5.44l.94 2.06.94-2.06 2.06-.94-2.06-.94-.94-2.06-.94 2.06-2.06.94zm-11 1L8.5 8.5l.94-2.06 2.06-.94-2.06-.94L8.5 2.5l-.94 2.06-2.06.94zm10 10l.94 2.06.94-2.06 2.06-.94-2.06-.94-.94-2.06-.94 2.06-2.06.94z\"/><path d=\"M17.41 7.96l-1.37-1.37c-.4-.4-.92-.59-1.43-.59-.52 0-1.04.2-1.43.59L10.3 9.45l-7.72 7.72c-.78.78-.78 2.05 0 2.83L4 21.41c.39.39.9.59 1.41.59.51 0 1.02-.2 1.41-.59l7.78-7.78 2.81-2.81c.8-.78.8-2.07 0-2.86zM5.41 20L4 18.59l7.72-7.72 1.47 1.35L5.41 20z\"/>\n",
              "  </svg>\n",
              "      </button>\n",
              "      \n",
              "  <style>\n",
              "    .colab-df-container {\n",
              "      display:flex;\n",
              "      flex-wrap:wrap;\n",
              "      gap: 12px;\n",
              "    }\n",
              "\n",
              "    .colab-df-convert {\n",
              "      background-color: #E8F0FE;\n",
              "      border: none;\n",
              "      border-radius: 50%;\n",
              "      cursor: pointer;\n",
              "      display: none;\n",
              "      fill: #1967D2;\n",
              "      height: 32px;\n",
              "      padding: 0 0 0 0;\n",
              "      width: 32px;\n",
              "    }\n",
              "\n",
              "    .colab-df-convert:hover {\n",
              "      background-color: #E2EBFA;\n",
              "      box-shadow: 0px 1px 2px rgba(60, 64, 67, 0.3), 0px 1px 3px 1px rgba(60, 64, 67, 0.15);\n",
              "      fill: #174EA6;\n",
              "    }\n",
              "\n",
              "    [theme=dark] .colab-df-convert {\n",
              "      background-color: #3B4455;\n",
              "      fill: #D2E3FC;\n",
              "    }\n",
              "\n",
              "    [theme=dark] .colab-df-convert:hover {\n",
              "      background-color: #434B5C;\n",
              "      box-shadow: 0px 1px 3px 1px rgba(0, 0, 0, 0.15);\n",
              "      filter: drop-shadow(0px 1px 2px rgba(0, 0, 0, 0.3));\n",
              "      fill: #FFFFFF;\n",
              "    }\n",
              "  </style>\n",
              "\n",
              "      <script>\n",
              "        const buttonEl =\n",
              "          document.querySelector('#df-3561b35c-55fe-4420-bf1d-23cbd5a9b4fb button.colab-df-convert');\n",
              "        buttonEl.style.display =\n",
              "          google.colab.kernel.accessAllowed ? 'block' : 'none';\n",
              "\n",
              "        async function convertToInteractive(key) {\n",
              "          const element = document.querySelector('#df-3561b35c-55fe-4420-bf1d-23cbd5a9b4fb');\n",
              "          const dataTable =\n",
              "            await google.colab.kernel.invokeFunction('convertToInteractive',\n",
              "                                                     [key], {});\n",
              "          if (!dataTable) return;\n",
              "\n",
              "          const docLinkHtml = 'Like what you see? Visit the ' +\n",
              "            '<a target=\"_blank\" href=https://colab.research.google.com/notebooks/data_table.ipynb>data table notebook</a>'\n",
              "            + ' to learn more about interactive tables.';\n",
              "          element.innerHTML = '';\n",
              "          dataTable['output_type'] = 'display_data';\n",
              "          await google.colab.output.renderOutput(dataTable, element);\n",
              "          const docLink = document.createElement('div');\n",
              "          docLink.innerHTML = docLinkHtml;\n",
              "          element.appendChild(docLink);\n",
              "        }\n",
              "      </script>\n",
              "    </div>\n",
              "  </div>\n",
              "  "
            ]
          },
          "metadata": {},
          "execution_count": 5
        }
      ]
    },
    {
      "cell_type": "code",
      "source": [
        "data.info()"
      ],
      "metadata": {
        "colab": {
          "base_uri": "https://localhost:8080/"
        },
        "id": "VdbLuTOlBl__",
        "outputId": "15cc15c5-87e4-4738-fb30-ce2b820ac41c"
      },
      "execution_count": 6,
      "outputs": [
        {
          "output_type": "stream",
          "name": "stdout",
          "text": [
            "<class 'pandas.core.frame.DataFrame'>\n",
            "RangeIndex: 21332 entries, 0 to 21331\n",
            "Data columns (total 4 columns):\n",
            " #   Column             Non-Null Count  Dtype   \n",
            "---  ------             --------------  -----   \n",
            " 0   text               21332 non-null  object  \n",
            " 1   label              21332 non-null  category\n",
            " 2   fonte              21332 non-null  object  \n",
            " 3   text_without_stop  21332 non-null  object  \n",
            "dtypes: category(1), object(3)\n",
            "memory usage: 521.0+ KB\n"
          ]
        }
      ]
    },
    {
      "cell_type": "code",
      "source": [
        "import numpy as np\n",
        "from sklearn.model_selection import train_test_split\n",
        "\n",
        "X = data.text_without_stop\n",
        "y = data.label\n",
        "\n",
        "X_train, X_test, y_train, y_test = train_test_split(X, y, \n",
        "                                                    test_size=0.33,\n",
        "                                                    random_state=42)"
      ],
      "metadata": {
        "id": "zkldQcw2XSi0"
      },
      "execution_count": 7,
      "outputs": []
    },
    {
      "cell_type": "code",
      "source": [
        "print(f'Dados de treino: {X_train.shape + y_train.shape}')\n",
        "print(f'Dados de teste: {X_test.shape + y_test.shape}')\n",
        "print(f'Total: {X_train.shape[0]+X_test.shape[0]}')"
      ],
      "metadata": {
        "colab": {
          "base_uri": "https://localhost:8080/"
        },
        "id": "BAueD0JxBLjL",
        "outputId": "3abee9c4-7d26-4eb3-8e50-ed0b61141a3c"
      },
      "execution_count": 8,
      "outputs": [
        {
          "output_type": "stream",
          "name": "stdout",
          "text": [
            "Dados de treino: (14292, 14292)\n",
            "Dados de teste: (7040, 7040)\n",
            "Total: 21332\n"
          ]
        }
      ]
    },
    {
      "cell_type": "code",
      "source": [
        "X_train"
      ],
      "metadata": {
        "colab": {
          "base_uri": "https://localhost:8080/"
        },
        "id": "DJl7FfGUBPjC",
        "outputId": "1ecb24d6-778e-4f2c-fa31-94a65604ad0b"
      },
      "execution_count": 9,
      "outputs": [
        {
          "output_type": "execute_result",
          "data": {
            "text/plain": [
              "17093    ontem tarde assim caiaque meio grata acesso fa...\n",
              "1370     analise trump homem pode realizar sonho reunia...\n",
              "3090     tomasz wyszolmirskidepositphotos autores propo...\n",
              "14974    nenhum momento historia humanidade discurso ab...\n",
              "5038     zeballos alerta preocupado vacinacoes menores ...\n",
              "                               ...                        \n",
              "11284    romenia governo fechou todos centros vacinacao...\n",
              "11964    protestos contra ditadura covid china desta wuhan\n",
              "5390                         portugalnem tudo perdidofonte\n",
              "860      protecao profissionais saude atuam linha frent...\n",
              "15795    general chamou brasileiros malucos tiro sera p...\n",
              "Name: text_without_stop, Length: 14292, dtype: object"
            ]
          },
          "metadata": {},
          "execution_count": 9
        }
      ]
    },
    {
      "cell_type": "code",
      "source": [
        "from sklearn.feature_extraction.text import CountVectorizer\n",
        "from sklearn.linear_model import LogisticRegression\n",
        "from sklearn.metrics import accuracy_score\n",
        "from sklearn.metrics import f1_score\n",
        "\n",
        "# Criar o CountVectorizer\n",
        "tokenizer = CountVectorizer(ngram_range=(1,1))\n",
        "\n",
        "# Ajustar e transformar o CountVectorizer nos dados de treinamento\n",
        "X_train_mat = tokenizer.fit_transform(X_train)\n",
        "X_train_df = pd.DataFrame(X_train_mat.todense())\n",
        "\n",
        "# Transformar o CountVectorizer nos dados de teste\n",
        "X_test_mat = tokenizer.transform(X_test)\n",
        "X_test_df = pd.DataFrame(X_test_mat.todense())\n"
      ],
      "metadata": {
        "id": "cTWg5QURgX9X"
      },
      "execution_count": 10,
      "outputs": []
    },
    {
      "cell_type": "code",
      "source": [
        "modelos = {\n",
        "          \"Regressão Logística\": LogisticRegressionCV(max_iter=1000),\n",
        "          \"XGBoost\": XGBClassifier(),\n",
        "          \"Naive Bayes\":GaussianNB(),\n",
        "          \"Decision Tree\": DecisionTreeClassifier(),\n",
        "          \"AdaBoost\":AdaBoostClassifier(),\n",
        "          \"SVM\": SVC()\n",
        "          }"
      ],
      "metadata": {
        "id": "yJJFqOGfs6oh"
      },
      "execution_count": 11,
      "outputs": []
    },
    {
      "cell_type": "code",
      "source": [
        "# treino e teste com standard scaler\n",
        "import joblib\n",
        "import torch\n",
        "from sklearn.linear_model import LogisticRegression\n",
        "from sklearn.model_selection import cross_val_score\n",
        "from sklearn.preprocessing import StandardScaler\n",
        "\n",
        "dict_metrica = {}\n",
        "dict_metrica[\"Tecnica Utilizada\"] = [\"LDA_texto_padronizaao\"]\n",
        "\n",
        "scaler = StandardScaler()\n",
        "X_scaled = scaler.fit_transform(X_train_df)  # Aplicar a escala aos dados de treinamento\n",
        "\n",
        "for nome, modelo in modelos.items():\n",
        "    modelo.fit(X_scaled, y_train)\n",
        "    \n",
        "    # Fazer previsões nos dados de teste escalados\n",
        "    X_test_scaled = scaler.transform(X_test_df)\n",
        "    y_pred = modelo.predict(X_test_scaled)\n",
        "\n",
        "    accuracy = cross_val_score(modelo, X_test_scaled, y_pred, cv=3, scoring='balanced_accuracy').mean()\n",
        "    f1_weighted = cross_val_score(modelo, X_test_scaled, y_pred, cv=3, scoring='f1_weighted').mean()\n",
        "    recall_weighted = cross_val_score(modelo, X_test_scaled, y_pred, cv=3, scoring='recall_weighted').mean()\n",
        "    precision_weighted = cross_val_score(modelo, X_test_scaled, y_pred, cv=3, scoring='precision_weighted').mean()\n",
        "    \n",
        "\n",
        "    dict_metrica[nome] = {\"acurácia\":round(accuracy, 3),\n",
        "                          \"f1_weighted\":round(f1_weighted, 3),\n",
        "                          \"recall_weighted\":round(recall_weighted, 3),\n",
        "                          \"precision_weighted\":round(precision_weighted, 3)}\n",
        "\n",
        "    caminho_destino = '/content/drive/MyDrive/modelos_tcc/'+'LDA_texto_padronizado_'+nome.strip()  # Caminho onde você deseja salvar o modelo\n",
        "    joblib.dump(modelo, caminho_destino+'.joblib')\n",
        "    \n",
        "    # métricas do modelo\n",
        "    print(\"Acurácia\", nome, round(accuracy, 3))\n",
        "    print(\"f1\", nome, round(f1_weighted, 3))\n",
        "    print(\"recall\", nome, round(recall_weighted, 3))\n",
        "    print(\"precision\", nome, round(precision_weighted, 3))\n",
        "    print('\\n')\n"
      ],
      "metadata": {
        "colab": {
          "base_uri": "https://localhost:8080/"
        },
        "id": "FI9lmDAtHvk0",
        "outputId": "8d5ff5b1-cd12-46ce-c736-f7ef4913e914"
      },
      "execution_count": 12,
      "outputs": [
        {
          "output_type": "stream",
          "name": "stdout",
          "text": [
            "Acurácia Regressão Logística 0.837\n",
            "f1 Regressão Logística 0.846\n",
            "recall Regressão Logística 0.849\n",
            "precision Regressão Logística 0.857\n",
            "\n",
            "\n",
            "Acurácia XGBoost 0.939\n",
            "f1 XGBoost 0.94\n",
            "recall XGBoost 0.94\n",
            "precision XGBoost 0.94\n",
            "\n",
            "\n",
            "Acurácia Naive Bayes 0.717\n",
            "f1 Naive Bayes 0.717\n",
            "recall Naive Bayes 0.724\n",
            "precision Naive Bayes 0.74\n",
            "\n",
            "\n",
            "Acurácia Decision Tree 0.852\n",
            "f1 Decision Tree 0.856\n",
            "recall Decision Tree 0.86\n",
            "precision Decision Tree 0.857\n",
            "\n",
            "\n",
            "Acurácia AdaBoost 0.958\n",
            "f1 AdaBoost 0.961\n",
            "recall AdaBoost 0.961\n",
            "precision AdaBoost 0.962\n",
            "\n",
            "\n",
            "Acurácia SVM 0.725\n",
            "f1 SVM 0.781\n",
            "recall SVM 0.798\n",
            "precision SVM 0.808\n",
            "\n",
            "\n"
          ]
        }
      ]
    },
    {
      "cell_type": "code",
      "source": [
        "import pandas as pd \n",
        "\n",
        "data = pd.read_csv('/content/data_urgent.csv')\n",
        "data['fonte'] = data['fonte'].astype(str)\n",
        "data['text'] = data['text'].astype(str)\n",
        "data['text_without_stop'] = data['text_without_stop'].astype(str)\n",
        "data['label'] = data['label'].astype(int)\n",
        "data['label'] = data['label'].astype('category')\n",
        "data"
      ],
      "metadata": {
        "id": "wTH2NhtTXhSm"
      },
      "execution_count": null,
      "outputs": []
    },
    {
      "cell_type": "markdown",
      "source": [
        "Pipeline"
      ],
      "metadata": {
        "id": "Kbib5FIJXd2C"
      }
    },
    {
      "cell_type": "code",
      "source": [
        "import numpy as np\n",
        "from sklearn.model_selection import train_test_split\n",
        "\n",
        "X = data.text\n",
        "y = data.label\n",
        "\n",
        "X_train, X_test, y_train, y_test = train_test_split(X, y, \n",
        "                                                    test_size=0.33,\n",
        "                                                    random_state=42)"
      ],
      "metadata": {
        "id": "rlaF6L5TXt3k"
      },
      "execution_count": null,
      "outputs": []
    },
    {
      "cell_type": "code",
      "source": [
        "modelos = {\n",
        "          \"Regressão Logística\": LogisticRegressionCV(max_iter=1000),\n",
        "          \"XGBoost\": XGBClassifier(),\n",
        "          \"Naive Bayes\":GaussianNB(),\n",
        "          \"Decision Tree\": DecisionTreeClassifier(),\n",
        "          \"AdaBoost\":AdaBoostClassifier(),\n",
        "          \"SVM\": SVC()\n",
        "          }"
      ],
      "metadata": {
        "id": "fNvlRtjcXo5Y"
      },
      "execution_count": null,
      "outputs": []
    },
    {
      "cell_type": "code",
      "source": [
        "from sklearn.pipeline import Pipeline\n",
        "dict_metrica = {}\n",
        "dict_metrica[\"Tecnica Utilizada\"] = [\"LDA_texto_padronizaao\"]\n",
        "\n",
        "# Criar o pipeline\n",
        "pipeline = Pipeline([\n",
        "    ('vectorizer', CountVectorizer(ngram_range=(1, 1))),\n",
        "    ('scaler', StandardScaler()),\n",
        "    ('classifier', LogisticRegression())\n",
        "])\n",
        "\n",
        "for nome, modelo in modelos.items():\n",
        "    # Treinar o modelo utilizando o pipeline\n",
        "    pipeline.fit(X_train, y_train)\n",
        "\n",
        "    # Fazer previsões nos dados de teste\n",
        "    y_pred = pipeline.predict(X_test)\n",
        "\n",
        "    # Calcular as métricas utilizando validação cruzada\n",
        "    accuracy = cross_val_score(pipeline, X_test, y_pred, cv=3, scoring='balanced_accuracy').mean()\n",
        "    f1_weighted = cross_val_score(pipeline, X_test, y_pred, cv=3, scoring='f1_weighted').mean()\n",
        "    recall_weighted = cross_val_score(pipeline, X_test, y_pred, cv=3, scoring='recall_weighted').mean()\n",
        "    precision_weighted = cross_val_score(pipeline, X_test, y_pred, cv=3, scoring='precision_weighted').mean()\n",
        "\n",
        "    # Salvar o modelo treinado\n",
        "    caminho_destino = '/content/drive/MyDrive/modelos_tcc/' + 'LDA_texto_padronizado'\n",
        "    joblib.dump(pipeline, caminho_destino + '.joblib')\n",
        "\n",
        "    # Métricas do modelo\n",
        "    dict_metrica[nome] = {\n",
        "        \"acurácia\": round(accuracy, 3),\n",
        "        \"f1_weighted\": round(f1_weighted, 3),\n",
        "        \"recall_weighted\": round(recall_weighted, 3),\n",
        "        \"precision_weighted\": round(precision_weighted, 3)\n",
        "    }\n",
        "\n",
        "    print(\"Acurácia:\", round(accuracy, 3))\n",
        "    print(\"F1:\", round(f1_weighted, 3))\n",
        "    print(\"Recall:\", round(recall_weighted, 3))\n",
        "    print(\"Precision:\", round(precision_weighted, 3))\n",
        "    print('\\n')\n"
      ],
      "metadata": {
        "id": "DidaeKzjXOhw"
      },
      "execution_count": null,
      "outputs": []
    },
    {
      "cell_type": "code",
      "source": [
        "caminho_destino = '/content/drive/MyDrive/modelos_tcc/'+'textopadronizado_'+nome.strip()  # Caminho onde você deseja salvar o modelo\n",
        "joblib.dump(modelo, caminho_destino+'.joblib')"
      ],
      "metadata": {
        "colab": {
          "base_uri": "https://localhost:8080/"
        },
        "id": "ZrDD4xPQr8gQ",
        "outputId": "53060574-b7c2-4d40-ab8f-775144214fa2"
      },
      "execution_count": 30,
      "outputs": [
        {
          "output_type": "execute_result",
          "data": {
            "text/plain": [
              "['/content/drive/MyDrive/modelos_tcc/textopadronizado_SVM.joblib']"
            ]
          },
          "metadata": {},
          "execution_count": 30
        }
      ]
    },
    {
      "cell_type": "code",
      "source": [
        "dict_metrica"
      ],
      "metadata": {
        "colab": {
          "base_uri": "https://localhost:8080/"
        },
        "id": "2CQFmBCZrfDG",
        "outputId": "571c15ee-3958-4af8-e411-8eff17937415"
      },
      "execution_count": 33,
      "outputs": [
        {
          "output_type": "execute_result",
          "data": {
            "text/plain": [
              "{'Tecnica Utilizada': ['Texto padronizado'],\n",
              " 'AdaBoost': {'acurácia': 0.955,\n",
              "  'f1_weighted': 0.956,\n",
              "  'recall_weighted': 0.956,\n",
              "  'precision_weighted': 0.957}}"
            ]
          },
          "metadata": {},
          "execution_count": 33
        }
      ]
    },
    {
      "cell_type": "code",
      "source": [
        "x = pd.read_csv('data_urgent.csv')\n",
        "x"
      ],
      "metadata": {
        "colab": {
          "base_uri": "https://localhost:8080/",
          "height": 183
        },
        "id": "MpteaJsVfjUc",
        "outputId": "21262a17-e261-45be-fc1f-c3f25c5f825e"
      },
      "execution_count": 1,
      "outputs": [
        {
          "output_type": "error",
          "ename": "NameError",
          "evalue": "ignored",
          "traceback": [
            "\u001b[0;31m---------------------------------------------------------------------------\u001b[0m",
            "\u001b[0;31mNameError\u001b[0m                                 Traceback (most recent call last)",
            "\u001b[0;32m<ipython-input-1-bdb4e8ac7f66>\u001b[0m in \u001b[0;36m<cell line: 1>\u001b[0;34m()\u001b[0m\n\u001b[0;32m----> 1\u001b[0;31m \u001b[0mx\u001b[0m \u001b[0;34m=\u001b[0m \u001b[0mpd\u001b[0m\u001b[0;34m.\u001b[0m\u001b[0mread_csv\u001b[0m\u001b[0;34m(\u001b[0m\u001b[0;34m'data_urgent.csv'\u001b[0m\u001b[0;34m)\u001b[0m\u001b[0;34m\u001b[0m\u001b[0;34m\u001b[0m\u001b[0m\n\u001b[0m\u001b[1;32m      2\u001b[0m \u001b[0mx\u001b[0m\u001b[0;34m\u001b[0m\u001b[0;34m\u001b[0m\u001b[0m\n",
            "\u001b[0;31mNameError\u001b[0m: name 'pd' is not defined"
          ]
        }
      ]
    },
    {
      "cell_type": "code",
      "source": [
        "dict_metrica"
      ],
      "metadata": {
        "id": "DHK1z_o6Z7eM"
      },
      "execution_count": null,
      "outputs": []
    },
    {
      "cell_type": "markdown",
      "source": [
        "loading e inferencia do modelo"
      ],
      "metadata": {
        "id": "Id4X0Lb7HEm5"
      }
    },
    {
      "cell_type": "code",
      "source": [
        "loaded_model = joblib.load('/content/drive/MyDrive/modelos_tcc/Naive Bayes.joblib')"
      ],
      "metadata": {
        "id": "RvphfeW3FUxR"
      },
      "execution_count": null,
      "outputs": []
    },
    {
      "cell_type": "code",
      "source": [
        "frase = 'eu não queria vacinar minha filha mas nao tive opçao, vacina é um veneno'\n",
        "\n",
        "vectorizer = TfidfVectorizer()\n",
        "\n",
        "frase = vectorizer.fit_transform([frase])\n",
        "frase_transformada = vectorizer.transform([frase])\n",
        "\n",
        "yhat = loaded_model.predict_proba([frase_transformada])\n",
        "yhat"
      ],
      "metadata": {
        "id": "PST0UdcWF52I"
      },
      "execution_count": null,
      "outputs": []
    },
    {
      "cell_type": "code",
      "source": [
        "from sklearn.feature_extraction.text import TfidfVectorizer\n",
        "\n",
        "\n",
        "vectorizer = TfidfVectorizer()\n",
        "\n",
        "frase = 'eu não queria vacinar minha filha mas nao tive opçao, vacina é um veneno'\n",
        "frase_transformada = vectorizer.fit([frase.lower()])\n",
        "frase_transformada = vectorizer.transform([frase.lower()])  # Converter para letras minúsculas\n",
        "yhat = loaded_model.predict_proba(frase_transformada)"
      ],
      "metadata": {
        "id": "dlBG09NRHBmX"
      },
      "execution_count": null,
      "outputs": []
    },
    {
      "cell_type": "code",
      "source": [
        "import numpy as np\n",
        "from sklearn.model_selection import train_test_split\n",
        "\n",
        "X = data.text_without_stop\n",
        "y = data.label\n",
        "\n",
        "X_train, X_test, y_train, y_test = train_test_split(X, y, \n",
        "                                                    test_size=0.33,\n",
        "                                                    random_state=42)\n",
        "\n",
        "print(f'Dados de treino: {X_train.shape + y_train.shape}')\n",
        "print(f'Dados de teste: {X_test.shape + y_test.shape}')\n",
        "print(f'Total: {X_train.shape[0]+X_test.shape[0]}')\n",
        "\n",
        "# Criar o CountVectorizer\n",
        "tokenizer = CountVectorizer(ngram_range=(1,1))\n",
        "\n",
        "# Ajustar e transformar o CountVectorizer nos dados de treinamento\n",
        "X_train_mat = tokenizer.fit_transform(X_train)\n",
        "X_train_df = pd.DataFrame(X_train_mat.todense())\n",
        "\n",
        "# Transformar o CountVectorizer nos dados de teste\n",
        "X_test_mat = tokenizer.transform(X_test)\n",
        "X_test_df = pd.DataFrame(X_test_mat.todense())\n"
      ],
      "metadata": {
        "colab": {
          "base_uri": "https://localhost:8080/"
        },
        "id": "qsdZiv6kBqV7",
        "outputId": "e6c1bb1d-7600-4905-8385-30f958fde087"
      },
      "execution_count": null,
      "outputs": [
        {
          "output_type": "stream",
          "name": "stdout",
          "text": [
            "Dados de treino: (56, 56)\n",
            "Dados de teste: (29, 29)\n",
            "Total: 85\n"
          ]
        }
      ]
    },
    {
      "cell_type": "code",
      "source": [
        "import joblib\n",
        "dict_metrica = {}\n",
        "dict_metrica[\"Tecnica Utilizada\"] = [\"Texto sem stop words\"]\n",
        "\n",
        "for nome, modelo in modelos.items():\n",
        "    # Ajustar o modelo com os dados de treinamento\n",
        "    modelo.fit(X_train_df, y_train)\n",
        "    \n",
        "    # Fazer previsões nos dados de teste\n",
        "    y_pred = modelo.predict(X_test_df)\n",
        "\n",
        "    accuracy = cross_val_score(modelo, X_test_df, y_pred, cv=3, scoring='balanced_accuracy').mean()\n",
        "    f1_weighted = cross_val_score(modelo, X_test_df, y_pred, cv=3, scoring='f1_weighted').mean()\n",
        "    recall_weighted = cross_val_score(modelo, X_test_df, y_pred, cv=3, scoring='recall_weighted').mean()\n",
        "    precision_weighted = cross_val_score(modelo, X_test_df, y_pred, cv=3, scoring='precision_weighted').mean()\n",
        "    \n",
        "\n",
        "    dict_metrica[nome] = {\"acurácia\":round(accuracy, 3),\n",
        "                          \"f1_weighted\":round(f1_weighted, 3),\n",
        "                          \"recall_weighted\":round(recall_weighted, 3),\n",
        "                          \"precision_weighted\":round(precision_weighted, 3)}\n",
        "\n",
        "    caminho_destino = '/content/drive/MyDrive/modelos_tcc/'+'text_semstopwords_'+nome.strip()  # Caminho onde você deseja salvar o modelo\n",
        "    joblib.dump(modelo, caminho_destino+'.joblib')\n",
        "    \n",
        "    # Imprimir as métricas do modelo\n",
        "    print(\"Acurácia\", nome, round(accuracy, 3))\n",
        "    print(\"f1\", nome, round(f1_weighted, 3))\n",
        "    print(\"recall\", nome, round(recall_weighted, 3))\n",
        "    print(\"precision\", nome, round(precision_weighted, 3))\n",
        "    print('\\n')"
      ],
      "metadata": {
        "colab": {
          "base_uri": "https://localhost:8080/"
        },
        "id": "COHPa5rd-3f1",
        "outputId": "2553a162-3937-41b8-d29e-c1dad59c47f1"
      },
      "execution_count": null,
      "outputs": [
        {
          "output_type": "stream",
          "name": "stderr",
          "text": [
            "The least populated class in y has only 2 members, which is less than n_splits=5.\n",
            "The least populated class in y has only 2 members, which is less than n_splits=5.\n",
            "The least populated class in y has only 2 members, which is less than n_splits=5.\n",
            "The least populated class in y has only 2 members, which is less than n_splits=5.\n",
            "The least populated class in y has only 2 members, which is less than n_splits=5.\n",
            "The least populated class in y has only 2 members, which is less than n_splits=5.\n",
            "The least populated class in y has only 2 members, which is less than n_splits=5.\n",
            "The least populated class in y has only 2 members, which is less than n_splits=5.\n",
            "The least populated class in y has only 2 members, which is less than n_splits=5.\n",
            "The least populated class in y has only 2 members, which is less than n_splits=5.\n",
            "Precision is ill-defined and being set to 0.0 in labels with no predicted samples. Use `zero_division` parameter to control this behavior.\n",
            "The least populated class in y has only 2 members, which is less than n_splits=5.\n",
            "Precision is ill-defined and being set to 0.0 in labels with no predicted samples. Use `zero_division` parameter to control this behavior.\n",
            "The least populated class in y has only 2 members, which is less than n_splits=5.\n",
            "Precision is ill-defined and being set to 0.0 in labels with no predicted samples. Use `zero_division` parameter to control this behavior.\n"
          ]
        },
        {
          "output_type": "stream",
          "name": "stdout",
          "text": [
            "Acurácia Regressão Logística 0.5\n",
            "f1 Regressão Logística 0.847\n",
            "recall Regressão Logística 0.896\n",
            "precision Regressão Logística 0.803\n",
            "\n",
            "\n"
          ]
        },
        {
          "output_type": "stream",
          "name": "stderr",
          "text": [
            "Precision is ill-defined and being set to 0.0 in labels with no predicted samples. Use `zero_division` parameter to control this behavior.\n",
            "Precision is ill-defined and being set to 0.0 in labels with no predicted samples. Use `zero_division` parameter to control this behavior.\n"
          ]
        },
        {
          "output_type": "stream",
          "name": "stdout",
          "text": [
            "Acurácia XGBoost 0.542\n",
            "f1 XGBoost 0.496\n",
            "recall XGBoost 0.619\n",
            "precision XGBoost 0.49\n",
            "\n",
            "\n"
          ]
        },
        {
          "output_type": "stream",
          "name": "stderr",
          "text": [
            "Precision is ill-defined and being set to 0.0 in labels with no predicted samples. Use `zero_division` parameter to control this behavior.\n"
          ]
        },
        {
          "output_type": "stream",
          "name": "stdout",
          "text": [
            "Acurácia Naive Bayes 0.646\n",
            "f1 Naive Bayes 0.841\n",
            "recall Naive Bayes 0.863\n",
            "precision Naive Bayes 0.834\n",
            "\n",
            "\n"
          ]
        },
        {
          "output_type": "stream",
          "name": "stderr",
          "text": [
            "Precision is ill-defined and being set to 0.0 in labels with no predicted samples. Use `zero_division` parameter to control this behavior.\n"
          ]
        },
        {
          "output_type": "stream",
          "name": "stdout",
          "text": [
            "Acurácia Decision Tree 0.556\n",
            "f1 Decision Tree 0.626\n",
            "recall Decision Tree 0.652\n",
            "precision Decision Tree 0.541\n",
            "\n",
            "\n",
            "Acurácia SVM 1.0\n",
            "f1 SVM 1.0\n",
            "recall SVM 1.0\n",
            "precision SVM 1.0\n",
            "\n",
            "\n",
            "Acurácia AdaBoost 0.56\n",
            "f1 AdaBoost 0.607\n",
            "recall AdaBoost 0.789\n",
            "precision AdaBoost 0.585\n",
            "\n",
            "\n"
          ]
        },
        {
          "output_type": "stream",
          "name": "stderr",
          "text": [
            "Precision is ill-defined and being set to 0.0 in labels with no predicted samples. Use `zero_division` parameter to control this behavior.\n"
          ]
        }
      ]
    },
    {
      "cell_type": "code",
      "source": [
        "dict_metrica"
      ],
      "metadata": {
        "colab": {
          "base_uri": "https://localhost:8080/"
        },
        "id": "rE27wQSryS0K",
        "outputId": "cce83f1b-7921-447a-d463-823f9d9ac7ff"
      },
      "execution_count": null,
      "outputs": [
        {
          "output_type": "execute_result",
          "data": {
            "text/plain": [
              "{'Tecnica Utilizada': ['Texto sem stop words'],\n",
              " 'Regressão Logística': {'acurácia': 0.5,\n",
              "  'f1_weighted': 0.847,\n",
              "  'recall_weighted': 0.896,\n",
              "  'precision_weighted': 0.803},\n",
              " 'XGBoost': {'acurácia': 0.542,\n",
              "  'f1_weighted': 0.496,\n",
              "  'recall_weighted': 0.619,\n",
              "  'precision_weighted': 0.49},\n",
              " 'Naive Bayes': {'acurácia': 0.646,\n",
              "  'f1_weighted': 0.841,\n",
              "  'recall_weighted': 0.863,\n",
              "  'precision_weighted': 0.834},\n",
              " 'Decision Tree': {'acurácia': 0.556,\n",
              "  'f1_weighted': 0.626,\n",
              "  'recall_weighted': 0.652,\n",
              "  'precision_weighted': 0.541},\n",
              " 'SVM': {'acurácia': 1.0,\n",
              "  'f1_weighted': 1.0,\n",
              "  'recall_weighted': 1.0,\n",
              "  'precision_weighted': 1.0},\n",
              " 'AdaBoost': {'acurácia': 0.56,\n",
              "  'f1_weighted': 0.607,\n",
              "  'recall_weighted': 0.789,\n",
              "  'precision_weighted': 0.585}}"
            ]
          },
          "metadata": {},
          "execution_count": 124
        }
      ]
    },
    {
      "cell_type": "code",
      "source": [
        "!pip install joblib"
      ],
      "metadata": {
        "colab": {
          "base_uri": "https://localhost:8080/"
        },
        "id": "nmMNood79XiR",
        "outputId": "cf9f7386-d164-4926-af62-73b13d97315e"
      },
      "execution_count": null,
      "outputs": [
        {
          "output_type": "stream",
          "name": "stdout",
          "text": [
            "Looking in indexes: https://pypi.org/simple, https://us-python.pkg.dev/colab-wheels/public/simple/\n",
            "Requirement already satisfied: joblib in /usr/local/lib/python3.10/dist-packages (1.2.0)\n"
          ]
        }
      ]
    },
    {
      "cell_type": "code",
      "source": [
        "modelo = ...  # Seu objeto de modelo\n",
        "\n",
        "caminho_destino = 'content/modelo.joblib'  # Caminho onde você deseja salvar o modelo\n",
        "joblib.dump(modelo, caminho_destino)\n"
      ],
      "metadata": {
        "id": "xO1eSqi99lyh"
      },
      "execution_count": null,
      "outputs": []
    },
    {
      "cell_type": "code",
      "source": [
        "from sklearn.metrics import confusion_matrix\n",
        "import matplotlib.pyplot as plt\n",
        "import seaborn as sns\n",
        "\n",
        "# Fazer previsões com o modelo\n",
        "y_pred = modelo.predict(X_test_df)\n",
        "\n",
        "# Calcular a matriz de confusão\n",
        "cm = confusion_matrix(y_test, y_pred)\n",
        "\n",
        "# Visualizar a matriz de confusão\n",
        "plt.figure(figsize=(8, 6))\n",
        "sns.heatmap(cm, annot=True, fmt=\"d\", cmap=\"Blues\")\n",
        "plt.title(\"Matriz de Confusão\")\n",
        "plt.xlabel(\"Classe Predita\")\n",
        "plt.ylabel(\"Classe Verdadeira\")\n",
        "plt.show()\n"
      ],
      "metadata": {
        "colab": {
          "base_uri": "https://localhost:8080/",
          "height": 540
        },
        "id": "nmRZKL8lyGVj",
        "outputId": "89aa1f3c-908c-47e4-ff3f-764f65df78e5"
      },
      "execution_count": 34,
      "outputs": [
        {
          "output_type": "display_data",
          "data": {
            "text/plain": [
              "<Figure size 800x600 with 2 Axes>"
            ],
            "image/png": "[encoded data removed]"
          },
          "metadata": {}
        }
      ]
    },
    {
      "cell_type": "code",
      "source": [
        "print(classification_report(y_test, y_pred, target_names=['Fake', 'True']))"
      ],
      "metadata": {
        "colab": {
          "base_uri": "https://localhost:8080/"
        },
        "id": "Gz5u-nUn2yf0",
        "outputId": "32bcc695-894b-4f47-ebf5-165133d11373"
      },
      "execution_count": 36,
      "outputs": [
        {
          "output_type": "stream",
          "name": "stdout",
          "text": [
            "              precision    recall  f1-score   support\n",
            "\n",
            "        Fake       0.73      0.81      0.77      3544\n",
            "        True       0.79      0.70      0.74      3496\n",
            "\n",
            "    accuracy                           0.76      7040\n",
            "   macro avg       0.76      0.76      0.76      7040\n",
            "weighted avg       0.76      0.76      0.76      7040\n",
            "\n"
          ]
        }
      ]
    },
    {
      "cell_type": "code",
      "source": [
        "from sklearn.metrics import roc_curve, auc\n",
        "\n",
        "# essa função calcula a curva roc e retorna a taxa de true positive, false positive e os thresholds\n",
        "fpr, tpr, thresholds = roc_curve(y_test, y_pred)\n",
        "\n",
        "auc(fpr, tpr)"
      ],
      "metadata": {
        "colab": {
          "base_uri": "https://localhost:8080/"
        },
        "id": "G1Isi4SL3C_s",
        "outputId": "2e9a5792-d40b-4c4c-a914-bf34091a0e04"
      },
      "execution_count": 37,
      "outputs": [
        {
          "output_type": "execute_result",
          "data": {
            "text/plain": [
              "0.756421398722048"
            ]
          },
          "metadata": {},
          "execution_count": 37
        }
      ]
    },
    {
      "cell_type": "code",
      "source": [
        "plt.plot(fpr,tpr)\n",
        "plt.ylabel('True Positive Rate')\n",
        "plt.xlabel('False Positive Rate')\n",
        "plt.show()"
      ],
      "metadata": {
        "colab": {
          "base_uri": "https://localhost:8080/",
          "height": 449
        },
        "id": "MxtC7zVv4oWg",
        "outputId": "4f3206bd-cda3-4fb4-ce89-e9a80f82d007"
      },
      "execution_count": 38,
      "outputs": [
        {
          "output_type": "display_data",
          "data": {
            "text/plain": [
              "<Figure size 640x480 with 1 Axes>"
            ],
            "image/png": "[encoded data removed]"
          },
          "metadata": {}
        }
      ]
    },
    {
      "cell_type": "code",
      "source": [
        "!pip install git+https://github.com/slundberg/shap"
      ],
      "metadata": {
        "colab": {
          "base_uri": "https://localhost:8080/"
        },
        "id": "VW7VWvGm4wLs",
        "outputId": "559a48f3-ecda-4d20-d676-deecabe6365f"
      },
      "execution_count": null,
      "outputs": [
        {
          "output_type": "stream",
          "name": "stdout",
          "text": [
            "Looking in indexes: https://pypi.org/simple, https://us-python.pkg.dev/colab-wheels/public/simple/\n",
            "Collecting git+https://github.com/slundberg/shap\n",
            "  Cloning https://github.com/slundberg/shap to /tmp/pip-req-build-xuw0k_nb\n",
            "  Running command git clone --filter=blob:none --quiet https://github.com/slundberg/shap /tmp/pip-req-build-xuw0k_nb\n",
            "  Resolved https://github.com/slundberg/shap to commit b2a60a31edcc22ed41778cbe3ef93a499d76277f\n",
            "  Installing build dependencies ... \u001b[?25l\u001b[?25hdone\n",
            "  Getting requirements to build wheel ... \u001b[?25l\u001b[?25hdone\n",
            "  Preparing metadata (pyproject.toml) ... \u001b[?25l\u001b[?25hdone\n",
            "Requirement already satisfied: numpy in /usr/local/lib/python3.10/dist-packages (from shap==0.41.0) (1.22.4)\n",
            "Requirement already satisfied: scipy in /usr/local/lib/python3.10/dist-packages (from shap==0.41.0) (1.10.1)\n",
            "Requirement already satisfied: scikit-learn in /usr/local/lib/python3.10/dist-packages (from shap==0.41.0) (1.2.2)\n",
            "Requirement already satisfied: pandas in /usr/local/lib/python3.10/dist-packages (from shap==0.41.0) (1.5.3)\n",
            "Requirement already satisfied: tqdm>=4.27.0 in /usr/local/lib/python3.10/dist-packages (from shap==0.41.0) (4.65.0)\n",
            "Requirement already satisfied: packaging>20.9 in /usr/local/lib/python3.10/dist-packages (from shap==0.41.0) (23.1)\n",
            "Collecting slicer==0.0.7 (from shap==0.41.0)\n",
            "  Downloading slicer-0.0.7-py3-none-any.whl (14 kB)\n",
            "Requirement already satisfied: numba in /usr/local/lib/python3.10/dist-packages (from shap==0.41.0) (0.56.4)\n",
            "Requirement already satisfied: cloudpickle in /usr/local/lib/python3.10/dist-packages (from shap==0.41.0) (2.2.1)\n",
            "Requirement already satisfied: llvmlite<0.40,>=0.39.0dev0 in /usr/local/lib/python3.10/dist-packages (from numba->shap==0.41.0) (0.39.1)\n",
            "Requirement already satisfied: setuptools in /usr/local/lib/python3.10/dist-packages (from numba->shap==0.41.0) (67.7.2)\n",
            "Requirement already satisfied: python-dateutil>=2.8.1 in /usr/local/lib/python3.10/dist-packages (from pandas->shap==0.41.0) (2.8.2)\n",
            "Requirement already satisfied: pytz>=2020.1 in /usr/local/lib/python3.10/dist-packages (from pandas->shap==0.41.0) (2022.7.1)\n",
            "Requirement already satisfied: joblib>=1.1.1 in /usr/local/lib/python3.10/dist-packages (from scikit-learn->shap==0.41.0) (1.2.0)\n",
            "Requirement already satisfied: threadpoolctl>=2.0.0 in /usr/local/lib/python3.10/dist-packages (from scikit-learn->shap==0.41.0) (3.1.0)\n",
            "Requirement already satisfied: six>=1.5 in /usr/local/lib/python3.10/dist-packages (from python-dateutil>=2.8.1->pandas->shap==0.41.0) (1.16.0)\n",
            "Building wheels for collected packages: shap\n",
            "  Building wheel for shap (pyproject.toml) ... \u001b[?25l\u001b[?25hdone\n",
            "  Created wheel for shap: filename=shap-0.41.0-cp310-cp310-linux_x86_64.whl size=2596263 sha256=bc43f9163d7adba0731af105a43308796e5cfe274e149ac3e5750c90ed5c3595\n",
            "  Stored in directory: /tmp/pip-ephem-wheel-cache-1w0sdyhy/wheels/c4/17/a7/79249f9ff6d75b90b5d70a2b93dd8f854f32c9dff553d10a41\n",
            "Successfully built shap\n",
            "Installing collected packages: slicer, shap\n",
            "Successfully installed shap-0.41.0 slicer-0.0.7\n"
          ]
        }
      ]
    },
    {
      "cell_type": "code",
      "source": [
        "import shap\n",
        "\n",
        "explainer = shap.Explainer(modelo, masker=LogisticRegression())\n",
        "shap_values = explainer.shap_values(X_train_df)\n",
        "shap.summary_plot(shap_values[1], X_train_df, plot_type='bar')"
      ],
      "metadata": {
        "id": "GxtEz3vF40iK"
      },
      "execution_count": null,
      "outputs": []
    },
    {
      "cell_type": "code",
      "source": [
        "from sklearn.model_selection import cross_val_score\n",
        "\n",
        "\n",
        "\n",
        "for nome, modelo in modelos.items():\n",
        "    modelo.fit(X_train_df, y_train)\n",
        "    \n",
        "    y_pred = modelo.predict(X_test_df)\n",
        "    \n",
        "    accuracy = cross_val_score(modelo, X_test_df, y_pred, cv=3, scoring='accuracy').mean()\n",
        "    f1 = cross_val_score(modelo, X_test_df, y_pred, cv=3, scoring='f1').mean()\n",
        "    \n",
        "\n",
        "    print(nome, accuracy)\n",
        "    print(nome, f1)\n"
      ],
      "metadata": {
        "colab": {
          "base_uri": "https://localhost:8080/"
        },
        "id": "loNokMuPqFgl",
        "outputId": "04879c01-1b3f-4f81-b04d-5ef81db30dd1"
      },
      "execution_count": null,
      "outputs": [
        {
          "output_type": "stream",
          "name": "stdout",
          "text": [
            "Regressão Logística 0.7222222222222222\n",
            "Regressão Logística 0.3\n",
            "XGBoost 0.5888888888888889\n",
            "XGBoost 0.4481481481481482\n",
            "Naive Bayes 0.8962962962962964\n",
            "Naive Bayes 0.9453044375644994\n",
            "Decision Tree 0.8962962962962964\n",
            "Decision Tree 0.8571428571428571\n",
            "SVM 1.0\n",
            "SVM 1.0\n",
            "AdaBoost 0.6925925925925925\n",
            "AdaBoost 0.5476190476190477\n"
          ]
        }
      ]
    },
    {
      "cell_type": "code",
      "source": [
        "dict_metrica = {}\n",
        "dict_metrica[\"Tecnica Utilizada\"] = [\"Bag Of Words sem stopwords\"]\n",
        "\n",
        "\n",
        "# Cross validation para avaliar a acurácia dos modelos.\n",
        "for nome, modelo in modelos.items():\n",
        "    accuracy = cross_val_score(modelo, X_df, y, cv = 3, scoring='accuracy').mean() # Definindo 3 folds e fazendo a média\n",
        "    dict_metrica[nome] = [round(accuracy,4)]\n",
        "    \n",
        "# Mostrando métricas\n",
        "df_metricas = pd.DataFrame(dict_metrica)\n",
        "df_metricas"
      ],
      "metadata": {
        "id": "vwTCqxIFTrng"
      },
      "execution_count": null,
      "outputs": []
    }
  ]
}