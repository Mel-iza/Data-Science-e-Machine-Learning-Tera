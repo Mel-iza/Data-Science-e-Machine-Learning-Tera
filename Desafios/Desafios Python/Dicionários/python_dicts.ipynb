{
  "nbformat": 4,
  "nbformat_minor": 0,
  "metadata": {
    "kernelspec": {
      "display_name": "Python 3",
      "language": "python",
      "name": "python3"
    },
    "language_info": {
      "codemirror_mode": {
        "name": "ipython",
        "version": 3
      },
      "file_extension": ".py",
      "mimetype": "text/x-python",
      "name": "python",
      "nbconvert_exporter": "python",
      "pygments_lexer": "ipython3",
      "version": "3.8.5"
    },
    "colab": {
      "provenance": [],
      "include_colab_link": true
    }
  },
  "cells": [
    {
      "cell_type": "markdown",
      "metadata": {
        "id": "view-in-github",
        "colab_type": "text"
      },
      "source": [
        "<a href=\"https://colab.research.google.com/github/Mel-iza/Data-Science-e-Machine-Learning-Tera/blob/main/Desafios/Desafios%20Python/Dicion%C3%A1rios/python_dicts.ipynb\" target=\"_parent\"><img src=\"https://colab.research.google.com/assets/colab-badge.svg\" alt=\"Open In Colab\"/></a>"
      ]
    },
    {
      "cell_type": "markdown",
      "metadata": {
        "id": "9jQ30e_Ru8GL"
      },
      "source": [
        "# Antes de começar, uma pequena introdução aos dicionários em Python"
      ]
    },
    {
      "cell_type": "markdown",
      "metadata": {
        "id": "zMrWOH40u8GU"
      },
      "source": [
        "Dicionários podem armazenar diversos valores, além de strings e ints, é possível armazenar listas, arrays, funções, outros dicionários e muito mais!\n",
        "\n",
        "Os dicionários em Python são mapeamentos associativos desordenados, ou seja, o mapeamento é feito a partir de uma chave. \n",
        "\n",
        "Veja o exemplo abaixo:"
      ]
    },
    {
      "cell_type": "code",
      "metadata": {
        "id": "M8fX6tS1u8GW",
        "colab": {
          "base_uri": "https://localhost:8080/"
        },
        "outputId": "645cf834-1ca3-470a-a64a-253d8a33defb"
      },
      "source": [
        "#Note que o exemplo \"my_dict\" é um dicionário composto de 3 items, 3 chaves e 3 valores\n",
        "\n",
        "my_dict = {'chave1':'valor1', \n",
        "           'chave2':'valor2', \n",
        "           'chave3':'valor3'}\n",
        "\n",
        "my_dict"
      ],
      "execution_count": null,
      "outputs": [
        {
          "output_type": "execute_result",
          "data": {
            "text/plain": [
              "{'chave1': 'valor1', 'chave2': 'valor2', 'chave3': 'valor3'}"
            ]
          },
          "metadata": {},
          "execution_count": 2
        }
      ]
    },
    {
      "cell_type": "markdown",
      "metadata": {
        "id": "a5HQON5vu8GZ"
      },
      "source": [
        "### Items\n",
        "\n",
        " Os items correspondem a todos os componentes do dicionário"
      ]
    },
    {
      "cell_type": "code",
      "metadata": {
        "id": "X-_Aoadgu8Ga",
        "outputId": "aafeec16-62e7-42dc-e01a-f4f4b5fcaea2"
      },
      "source": [
        "my_dict.items()"
      ],
      "execution_count": null,
      "outputs": [
        {
          "data": {
            "text/plain": [
              "dict_items([('chave1', 'valor1'), ('chave2', 'valor2'), ('chave3', 'valor3')])"
            ]
          },
          "execution_count": 2,
          "metadata": {},
          "output_type": "execute_result"
        }
      ]
    },
    {
      "cell_type": "markdown",
      "metadata": {
        "id": "0CtmM9_7u8Gb"
      },
      "source": [
        "### Chaves\n",
        "\n",
        " As Chaves correspondem a todos os primeiros items do dicionário"
      ]
    },
    {
      "cell_type": "code",
      "metadata": {
        "id": "5ROoQx9Tu8Gb",
        "outputId": "96559a75-e624-4f64-c818-114ab7e5d78c"
      },
      "source": [
        "my_dict.keys()"
      ],
      "execution_count": null,
      "outputs": [
        {
          "data": {
            "text/plain": [
              "dict_keys(['chave1', 'chave2', 'chave3'])"
            ]
          },
          "execution_count": 3,
          "metadata": {},
          "output_type": "execute_result"
        }
      ]
    },
    {
      "cell_type": "markdown",
      "metadata": {
        "id": "Lz0-1vIwu8Gc"
      },
      "source": [
        "### Valores\n",
        "\n",
        " Os valores correspondem a todos os segundos items do dicionário"
      ]
    },
    {
      "cell_type": "code",
      "metadata": {
        "id": "iOVTCEARu8Gd",
        "outputId": "2be4bdd4-8f6c-4ae7-ddd6-ce626c0d0f90"
      },
      "source": [
        "my_dict.values()"
      ],
      "execution_count": null,
      "outputs": [
        {
          "data": {
            "text/plain": [
              "dict_values(['valor1', 'valor2', 'valor3'])"
            ]
          },
          "execution_count": 4,
          "metadata": {},
          "output_type": "execute_result"
        }
      ]
    },
    {
      "cell_type": "markdown",
      "metadata": {
        "id": "RlAtplMzu8Ge"
      },
      "source": [
        "**Veja abaixo alguns métodos úteis para utilizar neste notebook**\n",
        "\n",
        "<li>copy()\tReturns a copy of the dictionary\n",
        "<li>fromkeys()\tReturns a dictionary with the specified keys and value\n",
        "<li>get()\tReturns the value of the specified key\n",
        "<li>items()\tReturns a list containing a tuple for each key value pair\n",
        "<li>keys()\tReturns a list containing the dictionary's keys\n",
        "<li>pop()\tRemoves the element with the specified key\n",
        "<li>popitem()\tRemoves the last inserted key-value pair\n",
        "<li>setdefault()\tReturns the value of the specified key. If the key does not exist: insert the key, with the specified value\n",
        "<li>update()\tUpdates the dictionary with the specified key-value pairs\n",
        "<li>values()\tReturns a list of all the values in the dictionary\n",
        "   "
      ]
    },
    {
      "cell_type": "markdown",
      "metadata": {
        "id": "fbKYj64mu8Gf"
      },
      "source": [
        "<img src = \"imgs/Banner_News.jpg\"/>"
      ]
    },
    {
      "cell_type": "markdown",
      "metadata": {
        "id": "RY4nZhv_u8Gg"
      },
      "source": [
        "# Seja muito bem vindo(a), aventureiro(a)!\n",
        "\n",
        " Você acaba de iniciar sua jornada pelo mundo de Pyonia, terra de reis, rainhas, dragões e criaturas mágicas!\n",
        "\n",
        "Aqui em Pyonia as leis da física e a realidade não são lá tão importantes, tudo que importa é quão longe seu código em Python e imaginação podem chegar.\n",
        "\n",
        "\n",
        "Pois bem, aventureiro(a), é chegada a hora de apresentar sua **missão**!\n",
        "\n",
        "Você é um camponês nascido na plebe do reino Sul de Pyonia, toda riqueza que possui são **100 moedas** e **um cristal de rubi** deixados pelo seu falecido pai, mas sua pobre vida pacata toma um novo curso quando o rei promete riquezas com valor incanculável para aquele que derrotar o lendário Dragon Vermelho, Tiamat.\n",
        "\n",
        "### O jogo:\n",
        "\n",
        "No mundo de Pyonia é proibido alterar a célula do dicionário principal, utilize a sintaxe python e os métodos de manipulação de dicionários para adaptar o seu inventário à narrativa da história nas células posteriores.\n",
        "\n",
        "Se você é inesperiente com Python ou com o Jupyter notebook, é aconselhável que você insira seu código entre os comentários **#COMECE SEU CÓDIGO AQUI** e **#TERMINE SEU CÓDIGO AQUI** para uma melhor experiência com esse notebook.\n",
        "\n",
        "De qualquer forma, fique à vontade para abrir novas células e consultar o google, stackoverflow e afins caso não saiba resolver algo. A comunidade é nossa amiga!"
      ]
    },
    {
      "cell_type": "code",
      "metadata": {
        "id": "4CmwyiDau8Gh"
      },
      "source": [
        "# Rode essa célula para iniciar o Jogo\n",
        "# Se você alterar essa célula Pyonia irá se auto destruir\n",
        "inventory = {'nome':'seu nome aqui',\n",
        "             'moedas':100,\n",
        "             'objetos':['espada de madeira','armadura de pano'],\n",
        "             'bolso' :'',\n",
        "             'mochila': {'tochas':2, 'cristais de rubi':1}}"
      ],
      "execution_count": null,
      "outputs": []
    },
    {
      "cell_type": "markdown",
      "metadata": {
        "id": "PxnmIQUtu8Gi"
      },
      "source": [
        "## Parte 1"
      ]
    },
    {
      "cell_type": "markdown",
      "metadata": {
        "id": "4OA1aBXbu8Gi"
      },
      "source": [
        " Já sabemos que você é um(a) aventureiro(a), mas todo aventureiro(a) precisa de um nome.\n",
        "\n",
        "**Tarefa:**\n",
        "\n",
        "Substitua o valor 'seu nome aqui' pelo seu nome, real ou fictício."
      ]
    },
    {
      "cell_type": "code",
      "metadata": {
        "id": "apwzBFjWu8Gj",
        "colab": {
          "base_uri": "https://localhost:8080/"
        },
        "outputId": "1688bac1-12c4-4fef-9241-c31068791875"
      },
      "source": [
        "#COMECE SEU CÓDIGO AQUI (≅ 1 linha)\n",
        "\n",
        "inventory['nome'] = 'Mel'  # << Coloque seu nome entre as áspas em forma de string\n",
        "\n",
        "#TERMINE SEU CÓDIGO AQUI\n",
        "\n",
        "inventory"
      ],
      "execution_count": null,
      "outputs": [
        {
          "output_type": "execute_result",
          "data": {
            "text/plain": [
              "{'bolso': '',\n",
              " 'mochila': {'cristais de rubi': 1, 'tochas': 2},\n",
              " 'moedas': 100,\n",
              " 'nome': 'Mel',\n",
              " 'objetos': ['espada de madeira', 'armadura de pano']}"
            ]
          },
          "metadata": {},
          "execution_count": 10
        }
      ]
    },
    {
      "cell_type": "markdown",
      "metadata": {
        "id": "W5fkYjjUOz1W"
      },
      "source": []
    },
    {
      "cell_type": "markdown",
      "metadata": {
        "id": "CMbQmZm_u8Gk"
      },
      "source": [
        "## Parte 2"
      ]
    },
    {
      "cell_type": "markdown",
      "metadata": {
        "id": "pa0N9xCqu8Gk"
      },
      "source": [
        "Neste momento você encontra-se determinado para embarcar na sua missão e decide passar no centro da cidade de Pytown para comprar alguns itens que possam lhe ajudar.\n",
        "\n",
        "100 moedas não é lá muito dinheiro em Pyonia, então você decide trabalhar por um dia inteiro para um mercante da cidade de Pytown e ganha 1500 moedas!\n",
        "\n",
        "**Tarefa:**\n",
        "\n",
        "Some 1500 à chave \"moedas\" do seu inventário"
      ]
    },
    {
      "cell_type": "code",
      "metadata": {
        "id": "ML6XvCjDu8Gl",
        "colab": {
          "base_uri": "https://localhost:8080/"
        },
        "outputId": "749dd424-fdc7-42c0-8fd8-4144b0714577"
      },
      "source": [
        "#COMECE SEU CÓDIGO AQUI(≅ 1 linha)\n",
        "\n",
        "inventory['moedas'] += 1500\n",
        "\n",
        "#TERMINE SEU CÓDIGO AQUI\n",
        "\n",
        "inventory"
      ],
      "execution_count": null,
      "outputs": [
        {
          "output_type": "execute_result",
          "data": {
            "text/plain": [
              "{'bolso': '',\n",
              " 'mochila': {'cristais de rubi': 1, 'tochas': 2},\n",
              " 'moedas': 1600,\n",
              " 'nome': 'Mel',\n",
              " 'objetos': ['espada de madeira', 'armadura de pano']}"
            ]
          },
          "metadata": {},
          "execution_count": 11
        }
      ]
    },
    {
      "cell_type": "code",
      "metadata": {
        "colab": {
          "base_uri": "https://localhost:8080/"
        },
        "id": "HvrukoP5EA5G",
        "outputId": "d5acb28d-62e5-4729-f4ef-91dae6415ae1"
      },
      "source": [
        " #Adicionamos 1500 duas vezes ao nosso inventário, portanto o resultado de moedas agora é 3100\n",
        "\n",
        " inventory['moedas'] = inventory['moedas'] + 1500\n",
        " print(inventory)"
      ],
      "execution_count": null,
      "outputs": [
        {
          "output_type": "stream",
          "name": "stdout",
          "text": [
            "{'nome': 'Mel', 'moedas': 3100, 'objetos': ['espada de madeira', 'armadura de pano'], 'bolso': '', 'mochila': {'tochas': 2, 'cristais de rubi': 1}}\n"
          ]
        }
      ]
    },
    {
      "cell_type": "code",
      "metadata": {
        "colab": {
          "base_uri": "https://localhost:8080/"
        },
        "id": "rwfPL6BoEkE-",
        "outputId": "63376549-ad90-4281-a15d-73f901da7f6d"
      },
      "source": [
        "# Mas isso é legal porque descobrimos que também dá pra subtrair!\n",
        "\n",
        "inventory['moedas'] -= 3000\n",
        "print(inventory)"
      ],
      "execution_count": null,
      "outputs": [
        {
          "output_type": "stream",
          "name": "stdout",
          "text": [
            "{'nome': 'Mel', 'moedas': 100, 'objetos': ['espada de madeira', 'armadura de pano'], 'bolso': '', 'mochila': {'tochas': 2, 'cristais de rubi': 1}}\n"
          ]
        }
      ]
    },
    {
      "cell_type": "code",
      "metadata": {
        "colab": {
          "base_uri": "https://localhost:8080/"
        },
        "id": "C9Fly0QaqHIt",
        "outputId": "1e91e098-47fd-4f96-9674-999647a924a1"
      },
      "source": [
        "# Como o nosso resultado esperado são 1600 moedas, vamos adicionar de novo.\n",
        "\n",
        "inventory['moedas'] += 1500\n",
        "print(inventory)"
      ],
      "execution_count": null,
      "outputs": [
        {
          "output_type": "stream",
          "name": "stdout",
          "text": [
            "{'nome': 'Mel', 'moedas': 1600, 'objetos': ['espada de madeira', 'armadura de pano'], 'bolso': '', 'mochila': {'tochas': 2, 'cristais de rubi': 1}}\n"
          ]
        }
      ]
    },
    {
      "cell_type": "markdown",
      "metadata": {
        "id": "t2xAqehmu8Gl"
      },
      "source": [
        "--------------------------\n",
        "**Resultado esperado**: \n",
        "\n",
        "\n",
        "<table>\n",
        "    <tr> \n",
        "\n",
        " {'nome': 'Seu nome escolhido',            \n",
        " 'moedas': 1600,            \n",
        " 'objetos': ['espada de madeira', 'armadura de pano'],            \n",
        " 'bolso': '',            \n",
        " 'mochila': {'tochas': 2, 'cristais de rubi': 1}} \n",
        "    </tr>\n",
        "</table> \n",
        "\n"
      ]
    },
    {
      "cell_type": "markdown",
      "metadata": {
        "id": "S4PLTgVru8Gm"
      },
      "source": [
        "## Parte 3"
      ]
    },
    {
      "cell_type": "markdown",
      "metadata": {
        "id": "BLMx_52xu8Gn"
      },
      "source": [
        "Seu amigo de infância, Protagoras, soube que você estava embarcando em uma aventura para matar o lendário Tiamat e lhe deu um escudo de bronze para ajudar-lhe nessa perigosa missão!\n",
        "\n",
        "**Tarefa:**\n",
        "\n",
        "Adicione um escudo de bronze dentro da lista da chave \"objetos\""
      ]
    },
    {
      "cell_type": "code",
      "metadata": {
        "id": "dUSU1aJku8Gn",
        "colab": {
          "base_uri": "https://localhost:8080/"
        },
        "outputId": "80b7c832-1c76-4043-9cbb-0399290aee9d"
      },
      "source": [
        "#COMECE SEU CÓDIGO AQUI(≅ 1 linha)\n",
        "\n",
        "inventory['objetos'].append('escudo de bronze')\n",
        "\n",
        "#TERMINE SEU CÓDIGO AQUI\n",
        "\n",
        "inventory"
      ],
      "execution_count": null,
      "outputs": [
        {
          "output_type": "execute_result",
          "data": {
            "text/plain": [
              "{'bolso': '',\n",
              " 'mochila': {'cristais de rubi': 1, 'tochas': 2},\n",
              " 'moedas': 1600,\n",
              " 'nome': 'Mel',\n",
              " 'objetos': ['espada de madeira', 'armadura de pano', 'escudo de bronze']}"
            ]
          },
          "metadata": {},
          "execution_count": 15
        }
      ]
    },
    {
      "cell_type": "markdown",
      "metadata": {
        "id": "0kZRd5HTu8Go"
      },
      "source": [
        "--------------------------\n",
        "**Resultado esperado**: \n",
        "\n",
        "\n",
        "<table>\n",
        "    <tr> \n",
        "\n",
        " {'nome': 'Seu nome escolhido',            \n",
        " 'moedas': 1600,            \n",
        " 'objetos': ['espada de madeira', 'armadura de pano', 'escudo de bronze'],            \n",
        " 'bolso': '',            \n",
        " 'mochila': {'tochas': 2, 'cristais de rubi': 1}} \n",
        "    </tr>\n",
        "</table> \n",
        "\n"
      ]
    },
    {
      "cell_type": "markdown",
      "metadata": {
        "id": "yhXUfbLQu8Go"
      },
      "source": [
        "## Parte 4"
      ]
    },
    {
      "cell_type": "markdown",
      "metadata": {
        "id": "SGxcJlQwu8Gp"
      },
      "source": [
        "O lendário dragão Tiamat não tem cara de muitos amigos e não parece que será derrotado por uma mera espada de madeira. Para juntar mais moedas e comprar uma nova espada, você vendeu seu cristal de rubi por 5000 moedas para um mercante em Pytown.\n",
        "\n",
        "**Tarefa:**\n",
        "\n",
        "1)Subtraia 1 cristal de rubi do seu dicionário \"mochila\" dentro do dicionário \"inventory\".                                       \n",
        "2)Some 5000 moedas à chave \"moedas\" em seu inventário.\n"
      ]
    },
    {
      "cell_type": "code",
      "metadata": {
        "id": "TIqVpgUgu8Gp",
        "colab": {
          "base_uri": "https://localhost:8080/"
        },
        "outputId": "b199e4f2-9178-4e0e-ef49-e10f854b57fc"
      },
      "source": [
        "#COMECE SEU CÓDIGO AQUI(≅ 2 linhas)\n",
        "\n",
        "inventory['mochila']['cristais de rubi'] -= 1\n",
        "inventory['moedas'] += 5000\n",
        "inventory\n",
        "\n",
        "\n",
        "#TERMINE SEU CÓDIGO AQUI\n",
        "\n",
        "inventory"
      ],
      "execution_count": null,
      "outputs": [
        {
          "output_type": "execute_result",
          "data": {
            "text/plain": [
              "{'bolso': '',\n",
              " 'mochila': {'cristais de rubi': 0, 'tochas': 2},\n",
              " 'moedas': 6600,\n",
              " 'nome': 'Mel',\n",
              " 'objetos': ['espada de madeira', 'armadura de pano', 'escudo de bronze']}"
            ]
          },
          "metadata": {},
          "execution_count": 16
        }
      ]
    },
    {
      "cell_type": "markdown",
      "metadata": {
        "id": "WuzCkCCzu8Gq"
      },
      "source": [
        "--------------------------\n",
        "**Resultado esperado**: \n",
        "\n",
        "\n",
        "<table>\n",
        "    <tr> \n",
        "\n",
        " {'nome': 'Seu nome escolhido',            \n",
        " 'moedas': 6600,            \n",
        " 'objetos': ['espada de madeira', 'armadura de pano', 'escudo de bronze'],            \n",
        " 'bolso': '',            \n",
        " 'mochila': {'tochas': 2, 'cristais de rubi': 0}} \n",
        "    </tr>\n",
        "</table> \n",
        "\n"
      ]
    },
    {
      "cell_type": "markdown",
      "metadata": {
        "id": "1tcSohpDu8Gr"
      },
      "source": [
        "## Parte 5"
      ]
    },
    {
      "cell_type": "markdown",
      "metadata": {
        "id": "okZCx5Iwu8Gr"
      },
      "source": [
        "WOW! 6600 moedas não está nada mal! São quase 2 dolares na cotação atual de pymoneys (moeda local em Pyonia). Você foi até o ferreiro e trocou sua espada de madeira + 6500 moedas por uma espada de aço.\n",
        "\n",
        "**Tarefa:** \n",
        "\n",
        "1)Subtraia 6500 moedas da chave \"moedas\".                                             \n",
        "2)Troque sua \"espada de madeira\" por uma \"espada de aço\" na lista \"objetos\"."
      ]
    },
    {
      "cell_type": "code",
      "metadata": {
        "id": "hyw9s6KFu8Gs",
        "colab": {
          "base_uri": "https://localhost:8080/"
        },
        "outputId": "7fb468d2-b17f-4456-9785-e2eb78c310ec"
      },
      "source": [
        "#COMECE SEU CÓDIGO AQUI (≅ 2 linhas)\n",
        "\n",
        "inventory['moedas'] -= 6500\n",
        "inventory['objetos'][0] = 'espada de aço' \n",
        "#Lembrem-se que a chave objetos tem uma lista, por isso acessamos o índice [0] \n",
        "\n",
        "#TERMINE SEU CÓDIGO AQUI\n",
        "\n",
        "inventory"
      ],
      "execution_count": null,
      "outputs": [
        {
          "output_type": "execute_result",
          "data": {
            "text/plain": [
              "{'bolso': '',\n",
              " 'mochila': {'cristais de rubi': 0, 'tochas': 2},\n",
              " 'moedas': 100,\n",
              " 'nome': 'Mel',\n",
              " 'objetos': ['espada de aço', 'armadura de pano', 'escudo de bronze']}"
            ]
          },
          "metadata": {},
          "execution_count": 18
        }
      ]
    },
    {
      "cell_type": "markdown",
      "metadata": {
        "id": "1r5ALEnLu8Gs"
      },
      "source": [
        "--------------------------\n",
        "**Resultado esperado**: \n",
        "\n",
        "\n",
        "<table>\n",
        "    <tr> \n",
        "\n",
        " {'nome': 'Seu nome escolhido',            \n",
        " 'moedas': 100,            \n",
        " 'objetos': ['espada de aço', 'armadura de pano', 'escudo de bronze'],            \n",
        " 'bolso': '',            \n",
        " 'mochila': {'tochas': 2, 'cristais de rubi': 0}} \n",
        "    </tr>\n",
        "</table> \n",
        "\n"
      ]
    },
    {
      "cell_type": "markdown",
      "metadata": {
        "id": "3lM0KKkWu8Gt"
      },
      "source": [
        "# Parte 6"
      ]
    },
    {
      "cell_type": "markdown",
      "metadata": {
        "id": "XqgOMmECu8Gu"
      },
      "source": [
        "Está na hora, guerreiro(a)! Você saiu pelos portões da cidade de Pytown seguindo para o extremo norte de Pyonia, onde habita o lendário Tiamat e no meio do caminho encontrou uma sacola contendo uma pederneira!\n",
        "\n",
        "**Tarefa:** \n",
        "\n",
        "Adicione um dicionário dentro do item \"bolso\". A chave desse dicionário deve chamar-se \"sacola\" e \"pederneira\" deve ser o valor do item no dicionário.\n"
      ]
    },
    {
      "cell_type": "code",
      "metadata": {
        "id": "SKdKpEIqu8Gu",
        "colab": {
          "base_uri": "https://localhost:8080/"
        },
        "outputId": "7f3559b0-f36e-45a2-d759-4548716846cd"
      },
      "source": [
        "#COMECE SEU CÓDIGO AQUI (≅ 1 linha)\n",
        "\n",
        "inventory['bolso'] = {'sacola': 'pederneira'}\n",
        "\n",
        "#TERMINE SEU CÓDIGO AQUI\n",
        "\n",
        "inventory"
      ],
      "execution_count": null,
      "outputs": [
        {
          "output_type": "execute_result",
          "data": {
            "text/plain": [
              "{'bolso': {'sacola': 'pederneira'},\n",
              " 'mochila': {'cristais de rubi': 0, 'tochas': 2},\n",
              " 'moedas': 100,\n",
              " 'nome': 'Mel',\n",
              " 'objetos': ['espada de aço', 'armadura de pano', 'escudo de bronze']}"
            ]
          },
          "metadata": {},
          "execution_count": 19
        }
      ]
    },
    {
      "cell_type": "markdown",
      "metadata": {
        "id": "4m0M0BsXu8Gv"
      },
      "source": [
        "--------------------------\n",
        "**Resultado esperado**: \n",
        "\n",
        "\n",
        "<table>\n",
        "    <tr> \n",
        "\n",
        " {'nome': 'Seu nome escolhido',            \n",
        " 'moedas': 100,            \n",
        " 'objetos': ['espada de aço', 'armadura de pano', 'escudo de bronze'],            \n",
        " 'bolso': {'sacola':'pederneira'},            \n",
        " 'mochila': {'tochas': 2, 'cristais de rubi': 0}} \n",
        "    </tr>\n",
        "</table> \n",
        "\n"
      ]
    },
    {
      "cell_type": "markdown",
      "metadata": {
        "id": "YQ6lvJhsu8Gx"
      },
      "source": [
        "## Parte 7"
      ]
    },
    {
      "cell_type": "markdown",
      "metadata": {
        "id": "GiziJen9u8Gx"
      },
      "source": [
        "Após 3 dias de longas caminhadas você chegou ao covil do lendário dragão Tiamat! Mas espere! O que é aquilo no chão? Parabéns, você encontrou 2 cristais de esmeralda!\n",
        "\n",
        "**Tarefa:**\n",
        "\n",
        "Adicione os 2 cristais de esmeralda como um item do dicionário \"mochila\". \"cristais de esmeralda\" será a chave e \"2\" será o valor.\n"
      ]
    },
    {
      "cell_type": "code",
      "metadata": {
        "id": "Ll-VUnWdu8Gy",
        "colab": {
          "base_uri": "https://localhost:8080/"
        },
        "outputId": "b36dd161-2ddd-4352-f9ad-ebfc8fbbe824"
      },
      "source": [
        "#COMECE SEU CÓDIGO AQUI (≅ 1 linha)\n",
        "\n",
        "inventory['mochila']['cristais de esmeralda'] = 2\n",
        "#TERMINE SEU CÓDIGO AQUI\n",
        "\n",
        "inventory"
      ],
      "execution_count": null,
      "outputs": [
        {
          "output_type": "execute_result",
          "data": {
            "text/plain": [
              "{'bolso': {'sacola': 'pederneira'},\n",
              " 'mochila': {'cristais de esmeralda': 2, 'cristais de rubi': 0, 'tochas': 2},\n",
              " 'moedas': 100,\n",
              " 'nome': 'Mel',\n",
              " 'objetos': ['espada de aço', 'armadura de pano', 'escudo de bronze']}"
            ]
          },
          "metadata": {},
          "execution_count": 20
        }
      ]
    },
    {
      "cell_type": "markdown",
      "metadata": {
        "id": "zNryk6svu8Gz"
      },
      "source": [
        "--------------------------\n",
        "**Resultado esperado**: \n",
        "\n",
        "\n",
        "<table>\n",
        "    <tr> \n",
        "\n",
        " {'nome': 'Seu nome escolhido',            \n",
        " 'moedas': 100,            \n",
        " 'objetos': ['espada de aço', 'armadura de pano', 'escudo de bronze'],            \n",
        " 'bolso': {'sacola':'pederneira'},            \n",
        " 'mochila': {'tochas': 2, 'cristais de rubi': 0, 'cristais de esmeralda': 2}} \n",
        "    </tr>\n",
        "</table> "
      ]
    },
    {
      "cell_type": "markdown",
      "metadata": {
        "id": "D5PnSaQXu8G0"
      },
      "source": [
        "## Parte 8"
      ]
    },
    {
      "cell_type": "markdown",
      "metadata": {
        "id": "NQleFCHfu8G0"
      },
      "source": [
        "O covil de Tiamat parece estar escuro. Utilize uma tocha e sua pederneira para gerar luz\n",
        "\n",
        "**Tarefa:** \n",
        "\n",
        "Troque o valor de suas tochas para 1, utilize o métrodo update() para isso."
      ]
    },
    {
      "cell_type": "code",
      "metadata": {
        "id": "390qFw4lu8G1",
        "colab": {
          "base_uri": "https://localhost:8080/"
        },
        "outputId": "0b9fe0d3-4843-4f20-b5e3-aa5f7541dd8b"
      },
      "source": [
        "#COMECE SEU CÓDIGO AQUI (≅ 1 linha)\n",
        "\n",
        "inventory['mochila'].update({'tochas':1})\n",
        "\n",
        "#TERMINE SEU CÓDIGO AQUI\n",
        "\n",
        "inventory"
      ],
      "execution_count": null,
      "outputs": [
        {
          "output_type": "execute_result",
          "data": {
            "text/plain": [
              "{'bolso': {'sacola': 'pederneira'},\n",
              " 'mochila': {'cristais de esmeralda': 2, 'cristais de rubi': 0, 'tochas': 1},\n",
              " 'moedas': 100,\n",
              " 'nome': 'Mel',\n",
              " 'objetos': ['espada de aço', 'armadura de pano', 'escudo de bronze']}"
            ]
          },
          "metadata": {},
          "execution_count": 21
        }
      ]
    },
    {
      "cell_type": "code",
      "metadata": {
        "colab": {
          "base_uri": "https://localhost:8080/"
        },
        "id": "AZqmckTS2gIU",
        "outputId": "648e1d6c-a076-455a-f015-12ee11a92861"
      },
      "source": [
        "sum([1,2,3])"
      ],
      "execution_count": null,
      "outputs": [
        {
          "output_type": "execute_result",
          "data": {
            "text/plain": [
              "6"
            ]
          },
          "metadata": {},
          "execution_count": 38
        }
      ]
    },
    {
      "cell_type": "markdown",
      "metadata": {
        "id": "4UOTI6BRu8G1"
      },
      "source": [
        "--------------------------\n",
        "**Resultado esperado**: \n",
        "\n",
        "\n",
        "<table>\n",
        "    <tr> \n",
        "\n",
        " {'nome': 'Seu nome escolhido',            \n",
        " 'moedas': 100,            \n",
        " 'objetos': ['espada de aço', 'armadura de pano', 'escudo de bronze'],            \n",
        " 'bolso': {'sacola':'pederneira'},            \n",
        " 'mochila': {'tochas': 1, 'cristais de rubi': 0, 'cristais de esmeralda': 2}} \n",
        "    </tr>\n",
        "</table> \n",
        "\n"
      ]
    },
    {
      "cell_type": "markdown",
      "metadata": {
        "id": "g54L5GcWu8G2"
      },
      "source": [
        "## Parte 9"
      ]
    },
    {
      "cell_type": "markdown",
      "metadata": {
        "id": "A_OlqXC8u8G2"
      },
      "source": [
        "Você caminha por alguns minutos para dentro do covil quando sente uma corrente de ar quente passando por todo seu corpo, é ele! O grande dragão Tiamat! Sua única chance de vencer é tirar o número 10 no dado! (mas quem precisa de um dado quando se está programando em python, não é mesmo?)\n",
        "\n",
        "**Tarefa:**\n",
        "\n",
        "Crie um loop while que utiliza um método randint que gera números aleatórios de 1 a 10 e só para quando o resultado for 10. Printe cada iteração do loop"
      ]
    },
    {
      "cell_type": "code",
      "metadata": {
        "id": "xmjw-dwQu8G3",
        "colab": {
          "base_uri": "https://localhost:8080/"
        },
        "outputId": "5dfcb7b5-f97e-4e84-b1ac-663058939096"
      },
      "source": [
        "import random\n",
        "\n",
        "#COMECE SEU CÓDIGO AQUI (≅ 4 linhas\n",
        "\n",
        "numero_aleatorio = random.randint(1,10)\n",
        "\n",
        "while numero_aleatorio != 10:\n",
        "  numero_aleatorio = random.randint(1,10)\n",
        "  print(numero_aleatorio)\n",
        "\n",
        "#TERMINE SEU CÓDIGO AQUI"
      ],
      "execution_count": null,
      "outputs": [
        {
          "output_type": "stream",
          "name": "stdout",
          "text": [
            "7\n",
            "8\n",
            "4\n",
            "9\n",
            "5\n",
            "9\n",
            "7\n",
            "4\n",
            "6\n",
            "5\n",
            "6\n",
            "8\n",
            "5\n",
            "7\n",
            "3\n",
            "8\n",
            "5\n",
            "10\n"
          ]
        }
      ]
    },
    {
      "cell_type": "code",
      "metadata": {
        "id": "uja7bmd51e7W"
      },
      "source": [
        "# Essa célula retorna um erro porque o número aleatório tem que fazer parte do nosso loop\n",
        "\n",
        "import random # importação da biblioteca random. Ela escolhe um número inteiro randomicamente\n",
        "\n",
        "#COMECE SEU CÓDIGO AQUI (≅ 4 linhas\n",
        "\n",
        "numero_aleatorio = random.randint(1,10)\n",
        "\n",
        "while numero_aleatorio != 10:\n",
        "  # numero_aleatorio = random.randint(1,10)\n",
        "  print(numero_aleatorio)\n",
        "\n"
      ],
      "execution_count": null,
      "outputs": []
    },
    {
      "cell_type": "markdown",
      "metadata": {
        "id": "Psqx59Cru8G3"
      },
      "source": [
        "--------------------------\n",
        "**Resultado esperado**: (Note que os números podem não ser os mesmos, pois são gerados de forma aleatória)\n",
        "\n",
        "\n",
        "<table>\n",
        "    <tr> \n",
        "\n",
        "9                                                                                                                            \n",
        "1                                                                                                                            \n",
        "2                                                                                                                            \n",
        "7                                                                                                                            \n",
        "3                                                                                                                            \n",
        "5                                                                                                                            \n",
        "5                                                                                                                            \n",
        "8                                                                                                                            \n",
        "4                                                                                                                            \n",
        "1                                                                                                                            \n",
        "10                                                                                                                             \n",
        "    </tr>\n",
        "</table> "
      ]
    },
    {
      "cell_type": "markdown",
      "metadata": {
        "id": "jS_fMXCpu8G4"
      },
      "source": [
        "## Parte 10"
      ]
    },
    {
      "cell_type": "markdown",
      "metadata": {
        "id": "I52QKQCwu8G4"
      },
      "source": [
        "Yesssss, parece que você venceu! O que é aqui? Parece que Tiamat estava guardando algum tipo de baú do tesouro, ao abrir o baú você se depara com 3 tochas, 3 cristais de rubi e 3 cristais de esmeralda!\n",
        "\n",
        "**Tarefa:**\n",
        "\n",
        "Crie um loop que soma 3 a todos os valores do dicionário \"mochila\"."
      ]
    },
    {
      "cell_type": "code",
      "metadata": {
        "id": "YLHJzWXru8G5",
        "colab": {
          "base_uri": "https://localhost:8080/"
        },
        "outputId": "35ab460a-ceca-4b31-d4c6-932e9ae0f6d6"
      },
      "source": [
        "#COMECE SEU CÓDIGO AQUI (≅ 2 linhas)\n",
        "\n",
        "for i in inventory['mochila'].keys(): # O i é o nosso contador, ele pode receber qualquer nome\n",
        "  inventory['mochila'][i] += 3\n",
        "\n",
        "#TERMINE SEU CÓDIGO AQUI\n",
        "\n",
        "inventory"
      ],
      "execution_count": null,
      "outputs": [
        {
          "output_type": "execute_result",
          "data": {
            "text/plain": [
              "{'bolso': {'sacola': 'pederneira'},\n",
              " 'mochila': {'cristais de esmeralda': 5, 'cristais de rubi': 3, 'tochas': 4},\n",
              " 'moedas': 100,\n",
              " 'nome': 'Mel',\n",
              " 'objetos': ['espada de aço', 'armadura de pano', 'escudo de bronze']}"
            ]
          },
          "metadata": {},
          "execution_count": 25
        }
      ]
    },
    {
      "cell_type": "markdown",
      "metadata": {
        "id": "Q-rwjVmpu8G5"
      },
      "source": [
        "--------------------------\n",
        "**Resultado esperado**: \n",
        "\n",
        "\n",
        "<table>\n",
        "    <tr> \n",
        "\n",
        " {'nome': 'Seu nome escolhido',            \n",
        " 'moedas': 100,            \n",
        " 'objetos': ['espada de aço', 'armadura de pano', 'escudo de bronze'],            \n",
        " 'bolso': {'sacola':'pederneira'},            \n",
        " 'mochila': {'tochas': 4, 'cristais de rubi': 3, 'cristais de esmeralda': 5}} \n",
        "    </tr>\n",
        "</table> \n"
      ]
    },
    {
      "cell_type": "markdown",
      "metadata": {
        "id": "bxqjZ9DQu8G6"
      },
      "source": [
        "# Parabéns aventureiro(a)!\n",
        "\n",
        "# Você retornou à Pytown e aclamou o seu prêmio por derrotar o dragão, é uma nova era em Pyonia!"
      ]
    },
    {
      "cell_type": "markdown",
      "metadata": {
        "id": "75ArUEjyu8G7"
      },
      "source": [
        "<img src = \"imgs/maxresdefault.jpg\"/>"
      ]
    }
  ]
}