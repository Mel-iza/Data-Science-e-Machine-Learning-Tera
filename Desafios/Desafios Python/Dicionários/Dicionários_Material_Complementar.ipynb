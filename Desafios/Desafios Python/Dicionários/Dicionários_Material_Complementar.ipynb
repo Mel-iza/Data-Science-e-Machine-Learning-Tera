{
  "nbformat": 4,
  "nbformat_minor": 0,
  "metadata": {
    "colab": {
      "provenance": [],
      "include_colab_link": true
    },
    "kernelspec": {
      "name": "python3",
      "display_name": "Python 3"
    },
    "language_info": {
      "name": "python"
    }
  },
  "cells": [
    {
      "cell_type": "markdown",
      "metadata": {
        "id": "view-in-github",
        "colab_type": "text"
      },
      "source": [
        "<a href=\"https://colab.research.google.com/github/Mel-iza/Data-Science-e-Machine-Learning-Tera/blob/main/Desafios/Desafios%20Python/Dicion%C3%A1rios/Dicion%C3%A1rios_Material_Complementar.ipynb\" target=\"_parent\"><img src=\"https://colab.research.google.com/assets/colab-badge.svg\" alt=\"Open In Colab\"/></a>"
      ]
    },
    {
      "cell_type": "markdown",
      "metadata": {
        "id": "3lyf3pbPctf2"
      },
      "source": [
        "# Seja bem vindo(a/e) ao material **complementar** sobre dicionários\n",
        "\n",
        "---\n",
        "\n",
        "\n",
        "<br>\n",
        "\n",
        "*Vale lembrar que esse material é beem, beem complementar mesmo!*<br>\n",
        "\n",
        "Recapitulando todos os materiais sobre dicionários que vocês já tem para estudos:\n",
        "* Artigos disponíveis no LXS;\n",
        "* Sessão sobre dicionários do [minicurso de Python](https://app.somostera.com/journeys/MCPAD_REM_2021_) com material e exercícios;\n",
        "* Notebook com o [Desafio de dicionários](https://colab.research.google.com/drive/1BEYfU3sQB_GzqhnH80bK7ys2-AAcvqxl?authuser=1#scrollTo=Q-rwjVmpu8G5)\n",
        "\n",
        "<br>\n",
        "\n",
        "Prepara um lanchinho e vamos nessa comigo!<br>\n",
        "*Esse material foi elaborado com o intuito de ser um roteiro para acompanhar durante a mentoria e você também utilizar depois para revisar.*\n",
        "\n",
        "**Vamos abordar alguns tópicos:**\n",
        "> O que é um dicionário? <br>\n",
        "Pra que ele serve? <br>\n",
        "Como posso criar um? <br>\n",
        "Como posso acessar seus elementos? <br>\n",
        "Como posso acrescentar elementos?"
      ]
    },
    {
      "cell_type": "markdown",
      "metadata": {
        "id": "AHtUOLwwos0W"
      },
      "source": [
        "# Revisão"
      ]
    },
    {
      "cell_type": "markdown",
      "metadata": {
        "id": "fYW-eoYnpL6l"
      },
      "source": [
        "## O que é um dicionário?\n",
        "É um tipo de estrutura de dados do Python, assim como as listas e as tuplas.<br>\n",
        ">listas = [ ] | utiliza-se colchetes<br>\n",
        "tuplas = ( ) | utiliza-se parêntesess<br>\n",
        "**dicionarios = { }** | utiliza-se chaves <br>\n",
        "\n",
        "Um dicionário é composto por um conjunto de **chaves** e **valores**.<br>\n",
        "O dicionário em si consiste em relacionar uma **chave** a um **valor específico**.<br><br>\n",
        "Para que serve um dicionário?<br>\n",
        "Dicionários servem para recuperar, de maneira eficiente, informações associadas às chaves.\n",
        "<br><br>\n",
        "(*Introdução à Programação  com Python: algoritmos e Lógica de Programação para iniciantes. Nilo coutinho Menezes*)\n",
        "\n"
      ]
    },
    {
      "cell_type": "markdown",
      "metadata": {
        "id": "1ukh1COtG-6z"
      },
      "source": [
        "## Como posso criar um dicionário?\n",
        "Criamos dicionários utilizando chaves **({ })**.<br>\n",
        "Cada elemento do dicionário é uma **combinação** de chave e valor.\n",
        "\n",
        "Por exemplo, vamos imaginar que a ressaca de leitura foi embora e vamos escrever os livros que estamos com vontade de ler e seus respectivos autores.\n",
        "\n",
        "Quero ler:<br>\n",
        ">A revolução dos bichos de George Orwell<br>\n",
        "O guia do mochileiro das Galáxias do Douglas Adams<br>\n",
        "Duna de Frank Herbert<br>\n",
        "\n",
        "Essas informações podem ser vistas como um dicionário!\n",
        "Pois temos as **chaves** (nome dos autores) e os **valores** (nome dos livros).<br>\n",
        "\n",
        "Vamos criar nosso dicionário de leitura então!\n",
        "\n",
        "```\n",
        "leitura = {'George Orwell':'A revolução dos bichos',\n",
        "            'Douglas Adams':'O guia do mochileiro das galáxias',\n",
        "            'Frank Herbet': 'Duna'}\n",
        "\n",
        "```\n",
        "\n"
      ]
    },
    {
      "cell_type": "markdown",
      "metadata": {
        "id": "s3oCdZWHMCly"
      },
      "source": [
        "3 formas diferentes de criar dicionários.\n",
        ">1) Atribuir diretamente as chaves e valores<br>\n",
        "2) Utilizar a função dict()<br>\n",
        "3) Criar um dicionário vazio e ir adicionando cada item(par de chaves + valor)\n"
      ]
    },
    {
      "cell_type": "code",
      "metadata": {
        "colab": {
          "base_uri": "https://localhost:8080/"
        },
        "id": "RiV7uZLbMH3X",
        "outputId": "609604b6-979d-4737-9d07-77f032f8ce01"
      },
      "source": [
        "# Possibilidade 1: Atribuir diretamente as chaves e valores\n",
        "\n",
        "leitura = {'George Orwell':'A revolução dos bichos',\n",
        "            'Douglas Adams':'O guia do mochileiro das galáxias',\n",
        "            'Frank Herbet': 'Duna'}\n",
        "\n",
        "print(leitura)"
      ],
      "execution_count": null,
      "outputs": [
        {
          "output_type": "stream",
          "name": "stdout",
          "text": [
            "{'George Orwell': 'A revolução dos bichos', 'Douglas Adams': 'O guia do mochileiro das galáxias', 'Frank Herbet': 'Duna'}\n"
          ]
        }
      ]
    },
    {
      "cell_type": "code",
      "metadata": {
        "colab": {
          "base_uri": "https://localhost:8080/"
        },
        "id": "fxIFBBz9MfmH",
        "outputId": "2c6b6e75-08c0-4bd4-d76b-c4dd2ef4c44f"
      },
      "source": [
        "# Possibilidade 2: Utilizar a função dict()\n",
        "\n",
        "leitura = dict([('George Orwell', 'a revolução dos bichos'), \n",
        "                ('Douglas Adams', 'O guia do mochileiro das galáxias'),\n",
        "                ('Frank Herbert', 'duna')])\n",
        "\n",
        "print(leitura)\n"
      ],
      "execution_count": null,
      "outputs": [
        {
          "output_type": "stream",
          "name": "stdout",
          "text": [
            "{'George Orwell': 'a revolução dos bichos', 'Douglas Adams': 'O guia do mochileiro das galáxias', 'Frank Herbert': 'duna'}\n"
          ]
        }
      ]
    },
    {
      "cell_type": "code",
      "metadata": {
        "colab": {
          "base_uri": "https://localhost:8080/"
        },
        "id": "v8CU-gAYNIDD",
        "outputId": "3efbedca-846a-42bc-9122-1530765a79fb"
      },
      "source": [
        "# Possibilidade 3: Criar um dicionário vazio e ir adicionando cada item(par de chaves + valor)\n",
        "\n",
        "leitura = {}\n",
        "leitura['George Orwell'] = 'a revolução dos bichos'\n",
        "leitura['Douglas Adams'] = 'O guia do mochileiro das galáxias'\n",
        "leitura['Frank Herbert'] = 'Duna'\n",
        "\n",
        "print(leitura)"
      ],
      "execution_count": null,
      "outputs": [
        {
          "output_type": "stream",
          "name": "stdout",
          "text": [
            "{'George Orwell': 'a revolução dos bichos', 'Douglas Adams': 'O guia do mochileiro das galáxias', 'Frank Herbert': 'Duna'}\n"
          ]
        }
      ]
    },
    {
      "cell_type": "markdown",
      "metadata": {
        "id": "jTCfEzSHLBqx"
      },
      "source": [
        "Dicionários também aceitam outros valores além de strings. Vamos criar um para notas e alunos."
      ]
    },
    {
      "cell_type": "code",
      "metadata": {
        "id": "iMY2YrNJLXAn"
      },
      "source": [
        "nota_alunos = {'aluno1':8.5, \n",
        "          'aluno2':6, \n",
        "          'aluno3':2, \n",
        "          'aluno4':10, \n",
        "          'aluno5':7.3\n",
        "}"
      ],
      "execution_count": null,
      "outputs": []
    },
    {
      "cell_type": "code",
      "metadata": {
        "colab": {
          "base_uri": "https://localhost:8080/"
        },
        "id": "CWYAar9zOhh5",
        "outputId": "9605caf9-79f8-4e07-c56f-e29932fce3b3"
      },
      "source": [
        "print(nota_alunos)"
      ],
      "execution_count": null,
      "outputs": [
        {
          "output_type": "stream",
          "name": "stdout",
          "text": [
            "{'aluno1': 8.5, 'aluno2': 6, 'aluno3': 2, 'aluno4': 10, 'aluno5': 7.3}\n"
          ]
        }
      ]
    },
    {
      "cell_type": "markdown",
      "metadata": {
        "id": "VIIQSgjQK6iY"
      },
      "source": [
        "## Como posso acessar um dicionário?\n",
        "Por meio da **chave**:\n",
        "```\n",
        "leitura['Frank Herbert']\n",
        "print(leitura['Frank Herbert'])\n",
        "```\n",
        "\n",
        "Por meio da função get()\n",
        "```\n",
        "leitura.get('Frank Herbert')\n",
        "```\n",
        "\n"
      ]
    },
    {
      "cell_type": "code",
      "metadata": {
        "id": "UjXQHVjrK3aC"
      },
      "source": [
        "# Nosso dicionário de leituras\n",
        "\n",
        "leitura = {'George Orwell':'A revolução dos bichos',\n",
        "            'Douglas Adams':'O guia do mochileiro das galáxias',\n",
        "            'Frank Herbet': 'Duna'}"
      ],
      "execution_count": null,
      "outputs": []
    },
    {
      "cell_type": "code",
      "metadata": {
        "colab": {
          "base_uri": "https://localhost:8080/",
          "height": 35
        },
        "id": "H1HAASNqOD65",
        "outputId": "7fa19fab-5f61-4cab-fd2b-bd3666ae298f"
      },
      "source": [
        "leitura.get('Frank Herbert')"
      ],
      "execution_count": null,
      "outputs": [
        {
          "output_type": "execute_result",
          "data": {
            "application/vnd.google.colaboratory.intrinsic+json": {
              "type": "string"
            },
            "text/plain": [
              "'Duna'"
            ]
          },
          "metadata": {},
          "execution_count": 70
        }
      ]
    },
    {
      "cell_type": "code",
      "metadata": {
        "colab": {
          "base_uri": "https://localhost:8080/",
          "height": 35
        },
        "id": "STRN3ZaPOJCI",
        "outputId": "65c65051-a96f-4707-d5d4-2ecfa8fcccb9"
      },
      "source": [
        "leitura['Frank Herbert']"
      ],
      "execution_count": null,
      "outputs": [
        {
          "output_type": "execute_result",
          "data": {
            "application/vnd.google.colaboratory.intrinsic+json": {
              "type": "string"
            },
            "text/plain": [
              "'Duna'"
            ]
          },
          "metadata": {},
          "execution_count": 71
        }
      ]
    },
    {
      "cell_type": "code",
      "metadata": {
        "colab": {
          "base_uri": "https://localhost:8080/"
        },
        "id": "ctVpKDNiO-rl",
        "outputId": "d506619c-531a-4aba-bb0e-56c0e8c6f4ac"
      },
      "source": [
        "nota_alunos['aluno1']"
      ],
      "execution_count": null,
      "outputs": [
        {
          "output_type": "execute_result",
          "data": {
            "text/plain": [
              "8.5"
            ]
          },
          "metadata": {},
          "execution_count": 75
        }
      ]
    },
    {
      "cell_type": "code",
      "metadata": {
        "colab": {
          "base_uri": "https://localhost:8080/"
        },
        "id": "bzsup4UkPFv5",
        "outputId": "f9a838ff-259c-45d7-fb53-d30b5cb9d29c"
      },
      "source": [
        "nota_alunos.get('aluno5')"
      ],
      "execution_count": null,
      "outputs": [
        {
          "output_type": "execute_result",
          "data": {
            "text/plain": [
              "7.3"
            ]
          },
          "metadata": {},
          "execution_count": 79
        }
      ]
    },
    {
      "cell_type": "markdown",
      "metadata": {
        "id": "TUbfVhr4Pj-x"
      },
      "source": [
        "Algumas métodos que nos ajudam a acessar informações do dicionário!<br>\n",
        ">values() - retorna os valores <br>\n",
        "keys() - retorna as chaves<br>\n",
        "items() - retorna o conjunto chaves e valores<br>"
      ]
    },
    {
      "cell_type": "code",
      "metadata": {
        "colab": {
          "base_uri": "https://localhost:8080/"
        },
        "id": "6hvNP7BNQVLC",
        "outputId": "c5aac095-0f8c-4c93-f7ab-73aa0493293e"
      },
      "source": [
        "leitura.values()"
      ],
      "execution_count": null,
      "outputs": [
        {
          "output_type": "execute_result",
          "data": {
            "text/plain": [
              "dict_values(['a revolução dos bichos', 'O guia do mochileiro das galáxias', 'Duna'])"
            ]
          },
          "metadata": {},
          "execution_count": 82
        }
      ]
    },
    {
      "cell_type": "code",
      "metadata": {
        "colab": {
          "base_uri": "https://localhost:8080/"
        },
        "id": "naNOJwiEQcZJ",
        "outputId": "91e7c8c5-6707-4a7f-ca12-f69f6709ed3e"
      },
      "source": [
        "leitura.keys()"
      ],
      "execution_count": null,
      "outputs": [
        {
          "output_type": "execute_result",
          "data": {
            "text/plain": [
              "dict_keys(['George Orwell', 'Douglas Adams', 'Frank Herbert'])"
            ]
          },
          "metadata": {},
          "execution_count": 83
        }
      ]
    },
    {
      "cell_type": "code",
      "metadata": {
        "colab": {
          "base_uri": "https://localhost:8080/"
        },
        "id": "-kq5iiy_Qe0v",
        "outputId": "a65f9d5c-3d80-4e19-c9c5-afed221c1164"
      },
      "source": [
        "leitura.items()"
      ],
      "execution_count": null,
      "outputs": [
        {
          "output_type": "execute_result",
          "data": {
            "text/plain": [
              "dict_items([('George Orwell', 'a revolução dos bichos'), ('Douglas Adams', 'O guia do mochileiro das galáxias'), ('Frank Herbert', 'Duna')])"
            ]
          },
          "metadata": {},
          "execution_count": 85
        }
      ]
    },
    {
      "cell_type": "markdown",
      "metadata": {
        "id": "Deb8HShwRaRs"
      },
      "source": [
        "# Como posso inserir e remover valores do dicionário"
      ]
    },
    {
      "cell_type": "code",
      "metadata": {
        "colab": {
          "base_uri": "https://localhost:8080/"
        },
        "id": "hqP8_hZaRfJE",
        "outputId": "f62db21a-8a78-4d8e-cf2a-ba14b04a50d7"
      },
      "source": [
        "# Inserir novos pares de chave-valor\n",
        "\n",
        "leitura['William Gibson'] = 'Neuromancer'\n",
        "leitura['George Martin'] = 'Crônicas de gelo e fogo'\n",
        "leitura\n"
      ],
      "execution_count": null,
      "outputs": [
        {
          "output_type": "execute_result",
          "data": {
            "text/plain": [
              "{'Douglas Adams': 'O guia do mochileiro das galáxias',\n",
              " 'Frank Herbert': 'Duna',\n",
              " 'George Martin': 'Crônicas de gelo e fogo',\n",
              " 'William Gibson': 'Neuromancer'}"
            ]
          },
          "metadata": {},
          "execution_count": 99
        }
      ]
    },
    {
      "cell_type": "code",
      "metadata": {
        "colab": {
          "base_uri": "https://localhost:8080/"
        },
        "id": "hDEbX7D-S4oH",
        "outputId": "2730979f-d02b-4f8a-c24b-0a7164092a80"
      },
      "source": [
        "# remover pares de chave-valor\n",
        "\n",
        "leitura.pop('William Gibson')\n",
        "leitura.pop('George Martin')\n",
        "leitura"
      ],
      "execution_count": null,
      "outputs": [
        {
          "output_type": "execute_result",
          "data": {
            "text/plain": [
              "{'Douglas Adams': 'O guia do mochileiro das galáxias',\n",
              " 'Frank Herbert': 'Duna',\n",
              " 'George Orwell': 'a revolução dos bichos'}"
            ]
          },
          "metadata": {},
          "execution_count": 95
        }
      ]
    },
    {
      "cell_type": "code",
      "metadata": {
        "colab": {
          "base_uri": "https://localhost:8080/"
        },
        "id": "3T0MVE8tTNjC",
        "outputId": "2a995c23-ee8e-4580-8488-2f9d7d4751ae"
      },
      "source": [
        "# Outra forma de remover pares de chave-valor\n",
        "\n",
        "del leitura['George Martin']\n",
        "leitura"
      ],
      "execution_count": null,
      "outputs": [
        {
          "output_type": "execute_result",
          "data": {
            "text/plain": [
              "{'Douglas Adams': 'O guia do mochileiro das galáxias',\n",
              " 'Frank Herbert': 'Duna',\n",
              " 'William Gibson': 'Neuromancer'}"
            ]
          },
          "metadata": {},
          "execution_count": 104
        }
      ]
    },
    {
      "cell_type": "code",
      "metadata": {
        "colab": {
          "base_uri": "https://localhost:8080/"
        },
        "id": "6AQ-mIjTQ2UJ",
        "outputId": "d55be48c-d754-4b98-b230-db692764fc53"
      },
      "source": [
        "# remover pares de chave-valor\n",
        "\n",
        "nota_alunos.pop('aluno5')\n",
        "nota_alunos"
      ],
      "execution_count": null,
      "outputs": [
        {
          "output_type": "execute_result",
          "data": {
            "text/plain": [
              "{'aluno1': 8.5, 'aluno2': 6, 'aluno3': 2, 'aluno4': 10}"
            ]
          },
          "metadata": {},
          "execution_count": 90
        }
      ]
    },
    {
      "cell_type": "markdown",
      "metadata": {
        "id": "EdRxREoBd5DR"
      },
      "source": [
        "Outro exemplo:"
      ]
    },
    {
      "cell_type": "code",
      "metadata": {
        "colab": {
          "base_uri": "https://localhost:8080/"
        },
        "id": "1fR-TyvHa7Vc",
        "outputId": "fba6b501-1aff-4728-a0aa-86ba3ea535c7"
      },
      "source": [
        "# Inicializando o dicionário com o dict()\n",
        "compras_mercado = dict([('Arroz', 40), ('manteiga', 30), ('castanhas', 60)])\n",
        "\n",
        "# Imprimindo o conteúdo deste dicionário antes da remoção\n",
        "print('Antes:')\n",
        "print(compras_mercado)\n",
        "\n",
        "# Removendo um elemento neste dicionario\n",
        "del compras_mercado['castanhas'] \n",
        "\n",
        "# Imprimindo o conteúdo deste dicionário após a remoção\n",
        "print('Depois:')\n",
        "print(compras_mercado)"
      ],
      "execution_count": null,
      "outputs": [
        {
          "output_type": "stream",
          "name": "stdout",
          "text": [
            "Antes:\n",
            "{'Arroz': 40, 'manteiga': 30, 'castanhas': 60}\n",
            "Depois:\n",
            "{'Arroz': 40, 'manteiga': 30}\n"
          ]
        }
      ]
    },
    {
      "cell_type": "markdown",
      "metadata": {
        "id": "2guQl0EHEfQi"
      },
      "source": [
        "**Veja abaixo alguns métodos úteis (essa lista está no desafio)**\n",
        "<li>copy()\tReturns a copy of the dictionary\n",
        "<li>fromkeys()\tReturns a dictionary with the specified keys and value\n",
        "<li>get()\tReturns the value of the specified key\n",
        "<li>items()\tReturns a list containing a tuple for each key value pair\n",
        "<li>keys()\tReturns a list containing the dictionary's keys\n",
        "<li>pop()\tRemoves the element with the specified key\n",
        "<li>popitem()\tRemoves the last inserted key-value pair\n",
        "<li>setdefault()\tReturns the value of the specified key. If the key does not exist: insert the key, with the specified value\n",
        "<li>update()\tUpdates the dictionary with the specified key-value pairs\n",
        "<li>values()\tReturns a list of all the values in the dictionary"
      ]
    },
    {
      "cell_type": "markdown",
      "metadata": {
        "id": "GFR0W8rWT6Ha"
      },
      "source": [
        "## Verificando se uma chave pertence ao dicionario\n",
        "\n"
      ]
    },
    {
      "cell_type": "code",
      "metadata": {
        "colab": {
          "base_uri": "https://localhost:8080/"
        },
        "id": "z7AkxPqGeUNu",
        "outputId": "7dbb32a3-7218-4c82-87ae-4def8cd5facc"
      },
      "source": [
        "compras_mercado = dict([('Arroz', 40), \n",
        "                        ('manteiga', 30), \n",
        "                        ('castanhas', 60), \n",
        "                        ('feijão', 15), \n",
        "                        ('bebida', 10)])\n",
        "\n",
        "compras_mercado"
      ],
      "execution_count": null,
      "outputs": [
        {
          "output_type": "execute_result",
          "data": {
            "text/plain": [
              "{'Arroz': 40, 'bebida': 10, 'castanhas': 60, 'feijão': 15, 'manteiga': 30}"
            ]
          },
          "metadata": {},
          "execution_count": 116
        }
      ]
    },
    {
      "cell_type": "code",
      "metadata": {
        "colab": {
          "base_uri": "https://localhost:8080/"
        },
        "id": "ofckbt37eVWa",
        "outputId": "53cd4b58-721e-4bdc-f496-77d5047e2e78"
      },
      "source": [
        "print('sabonete' in compras_mercado)"
      ],
      "execution_count": null,
      "outputs": [
        {
          "output_type": "stream",
          "name": "stdout",
          "text": [
            "False\n"
          ]
        }
      ]
    },
    {
      "cell_type": "code",
      "metadata": {
        "colab": {
          "base_uri": "https://localhost:8080/"
        },
        "id": "aJyB_w8Qeewr",
        "outputId": "38ad829c-1e6d-4902-ac28-2676090712e0"
      },
      "source": [
        "print('bebida' in compras_mercado)"
      ],
      "execution_count": null,
      "outputs": [
        {
          "output_type": "stream",
          "name": "stdout",
          "text": [
            "True\n"
          ]
        }
      ]
    },
    {
      "cell_type": "markdown",
      "metadata": {
        "id": "-3lyBpvocXG5"
      },
      "source": [
        "## Navegando em um dicionário"
      ]
    },
    {
      "cell_type": "code",
      "metadata": {
        "colab": {
          "base_uri": "https://localhost:8080/"
        },
        "id": "3XPwktQJcpOx",
        "outputId": "38ba2cde-5a9b-4b2a-c389-98d8995c0b71"
      },
      "source": [
        "compras_mercado = dict([('arroz', 40), \n",
        "                        ('manteiga', 30), \n",
        "                        ('castanhas', 60), \n",
        "                        ('feijão', 15), \n",
        "                        ('bebida', 10)])\n",
        "\n",
        "compras_mercado"
      ],
      "execution_count": null,
      "outputs": [
        {
          "output_type": "execute_result",
          "data": {
            "text/plain": [
              "{'arroz': 40, 'bebida': 10, 'castanhas': 60, 'feijão': 15, 'manteiga': 30}"
            ]
          },
          "metadata": {},
          "execution_count": 6
        }
      ]
    },
    {
      "cell_type": "code",
      "metadata": {
        "colab": {
          "base_uri": "https://localhost:8080/"
        },
        "id": "4q0jXu00c8hM",
        "outputId": "44f83ebd-221c-4394-8f01-d99415fd2c5c"
      },
      "source": [
        "# Acessando \n",
        "\n",
        "for chave in compras_mercado.keys():\n",
        "  print('Os itens comprados foram', chave)"
      ],
      "execution_count": null,
      "outputs": [
        {
          "output_type": "stream",
          "name": "stdout",
          "text": [
            "Os itens comprados foram arroz\n",
            "Os itens comprados foram manteiga\n",
            "Os itens comprados foram castanhas\n",
            "Os itens comprados foram feijão\n",
            "Os itens comprados foram bebida\n"
          ]
        }
      ]
    },
    {
      "cell_type": "code",
      "metadata": {
        "colab": {
          "base_uri": "https://localhost:8080/"
        },
        "id": "PShMfaauhakm",
        "outputId": "800e24d9-4dfe-481d-f240-d6293d2217d8"
      },
      "source": [
        "for valores in compras_mercado.values():\n",
        "  print('Os valores dos itens comprados foram', valores)"
      ],
      "execution_count": null,
      "outputs": [
        {
          "output_type": "stream",
          "name": "stdout",
          "text": [
            "Os valores dos itens comprados foram 40\n",
            "Os valores dos itens comprados foram 30\n",
            "Os valores dos itens comprados foram 60\n",
            "Os valores dos itens comprados foram 15\n",
            "Os valores dos itens comprados foram 10\n"
          ]
        }
      ]
    },
    {
      "cell_type": "markdown",
      "metadata": {
        "id": "UlJJ8zbXpQ1N"
      },
      "source": [
        "# Desafio: Explorando algumas possibilidades em Pyonia\n",
        "Esse foi o nosso desafio! Aqui estão algumas possibilidades de resposta\n",
        "para cada etapa diferente.<br>\n",
        "\n",
        "`` Lembre-se: Há sempre mais de uma maneira diferente de resolver problemas!``<br><br>\n",
        "O que é muito interessante e traz pra gente oportunidades de aplicar diversos passos.<br> Se você chegar ao mesmo resultado de um jeito diferente do que está aparecendo aqui, maravilha! <br>\n",
        "\n",
        ">O importante é:\n",
        "* Compreender os conceitos;\n",
        "* Conseguir aplicar os conceitos para resolver problemas.\n"
      ]
    },
    {
      "cell_type": "markdown",
      "metadata": {
        "id": "BYw4Uj4Y6jk1"
      },
      "source": [
        "**Parte 0**<br>\n",
        "Célula de início do jogo<br>\n",
        "Tarefa: Rode essa célula para iniciar o jogo"
      ]
    },
    {
      "cell_type": "code",
      "metadata": {
        "id": "_WnNFf-ErX6J"
      },
      "source": [
        "# Rode essa célula para iniciar o Jogo\n",
        "# Se você alterar essa célula Pyonia irá se auto destruir\n",
        "inventory = {'nome':'seu nome aqui',\n",
        "             'moedas':100,\n",
        "             'objetos':['espada de madeira','armadura de pano'],\n",
        "             'bolso' :'',\n",
        "             'mochila': {'tochas':2, 'cristais de rubi':1}}"
      ],
      "execution_count": null,
      "outputs": []
    },
    {
      "cell_type": "markdown",
      "metadata": {
        "id": "zQowUnAk7LCN"
      },
      "source": [
        "---"
      ]
    },
    {
      "cell_type": "markdown",
      "metadata": {
        "id": "tz76Yenb6pCD"
      },
      "source": [
        "**Parte** 1<br>\n",
        "Tarefa: Coloque seu nome."
      ]
    },
    {
      "cell_type": "code",
      "metadata": {
        "colab": {
          "base_uri": "https://localhost:8080/"
        },
        "id": "pMFFTKeErKbB",
        "outputId": "b5d76ac2-1e4b-4dc5-9699-e3683322f2f8"
      },
      "source": [
        "inventory['nome'] = 'Link' \n",
        "inventory"
      ],
      "execution_count": null,
      "outputs": [
        {
          "output_type": "execute_result",
          "data": {
            "text/plain": [
              "{'bolso': '',\n",
              " 'mochila': {'cristais de rubi': 1, 'tochas': 2},\n",
              " 'moedas': 100,\n",
              " 'nome': 'Link',\n",
              " 'objetos': ['espada de madeira', 'armadura de pano']}"
            ]
          },
          "metadata": {},
          "execution_count": 12
        }
      ]
    },
    {
      "cell_type": "markdown",
      "metadata": {
        "id": "4bnKc2LvitJH"
      },
      "source": [
        "**Resultado esperado:**\n",
        "\n",
        "{'bolso': '', <br>\n",
        "  'mochila': {'cristais de rubi': 1, 'tochas': 2},<br>\n",
        "  'moedas': 100,<br>\n",
        "  **'nome': 'Link'**,<br>\n",
        "  objetos': ['espada de madeira', 'armadura de pano']}"
      ]
    },
    {
      "cell_type": "markdown",
      "metadata": {
        "id": "ZcbsgSsks7Eo"
      },
      "source": [
        "---"
      ]
    },
    {
      "cell_type": "markdown",
      "metadata": {
        "id": "JM-P8LJl640K"
      },
      "source": [
        "**Parte 2**<br>\n",
        " Tarefa: Some 1500 à chave \"moedas\" do seu inventário"
      ]
    },
    {
      "cell_type": "code",
      "metadata": {
        "id": "bITtQusRrzkn",
        "colab": {
          "base_uri": "https://localhost:8080/"
        },
        "outputId": "dc5e2607-06ce-4751-d5c1-95259bbaca12"
      },
      "source": [
        "# Possibilidade 1: Utilizando o método update(). Ele vai atualizar/substituir o valor da chave.\n",
        "\n",
        "inventory.update({'moedas':1600})\n",
        "inventory"
      ],
      "execution_count": null,
      "outputs": [
        {
          "output_type": "execute_result",
          "data": {
            "text/plain": [
              "{'bolso': '',\n",
              " 'mochila': {'cristais de rubi': 1, 'tochas': 2},\n",
              " 'moedas': 1600,\n",
              " 'nome': 'Link',\n",
              " 'objetos': ['espada de madeira', 'armadura de pano']}"
            ]
          },
          "metadata": {},
          "execution_count": 13
        }
      ]
    },
    {
      "cell_type": "code",
      "metadata": {
        "id": "EezH1fmYsLT_"
      },
      "source": [
        "# Possibilidade 2: somando o valor à chave\n",
        "\n",
        "inventory['moedas'] = inventory['moedas'] + 1500\n",
        "inventory"
      ],
      "execution_count": null,
      "outputs": []
    },
    {
      "cell_type": "code",
      "metadata": {
        "id": "tlPNSLzLsxj5"
      },
      "source": [
        "# Possibilidade 3: somando o valor à chave usando o +=\n",
        "\n",
        "inventory['moedas'] += 1500\n",
        "inventory"
      ],
      "execution_count": null,
      "outputs": []
    },
    {
      "cell_type": "code",
      "metadata": {
        "id": "rJWYvGsRs_cv"
      },
      "source": [
        "# Possibilidade 4: Somando o valor dentro do update\n",
        "\n",
        "inventory.update({'moedas':100+1500})\n",
        "inventory"
      ],
      "execution_count": null,
      "outputs": []
    },
    {
      "cell_type": "markdown",
      "metadata": {
        "id": "icKJCH1SjU7g"
      },
      "source": [
        "**Resultado esperado:**\n",
        "\n",
        "{'bolso': '', <br>\n",
        "  'mochila': {'cristais de rubi': 1, 'tochas': 2},<br>\n",
        "  **'moedas': 1600**,<br>\n",
        "  'nome': 'Link',<br>\n",
        "  objetos': ['espada de madeira', 'armadura de pano']}"
      ]
    },
    {
      "cell_type": "markdown",
      "metadata": {
        "id": "g0rNzD8NtPe7"
      },
      "source": [
        "---"
      ]
    },
    {
      "cell_type": "markdown",
      "metadata": {
        "id": "ZEogeULf7OJZ"
      },
      "source": [
        "**Parte 3**<br>\n",
        "Tarefa: Adicione um escudo de bronze"
      ]
    },
    {
      "cell_type": "code",
      "metadata": {
        "id": "-yWbohH9raan",
        "colab": {
          "base_uri": "https://localhost:8080/"
        },
        "outputId": "c3a1488e-6795-419b-99a0-844737193193"
      },
      "source": [
        "# Possibilidade 1\n",
        "# Lembra que utilizamos o append aqui para acessar a lista dentro de 'objetos'.\n",
        "\n",
        "inventory['objetos'].append('escudo de bronze')\n",
        "inventory"
      ],
      "execution_count": null,
      "outputs": [
        {
          "output_type": "execute_result",
          "data": {
            "text/plain": [
              "{'bolso': '',\n",
              " 'mochila': {'cristais de rubi': 1, 'tochas': 2},\n",
              " 'moedas': 1600,\n",
              " 'nome': 'Link',\n",
              " 'objetos': ['espada de madeira', 'armadura de pano', 'escudo de bronze']}"
            ]
          },
          "metadata": {},
          "execution_count": 14
        }
      ]
    },
    {
      "cell_type": "markdown",
      "metadata": {
        "id": "tWM6ID4Djkpi"
      },
      "source": [
        "**Resultado esperado:**\n",
        "\n",
        "{'bolso': '', <br>\n",
        "  'mochila': {'cristais de rubi': 1, 'tochas': 2},<br>\n",
        "  'moedas': 1600,<br>\n",
        "  'nome': 'Link',<br>\n",
        "  objetos': ['espada de madeira', 'armadura de pano', **'escudo de bronze'**]}"
      ]
    },
    {
      "cell_type": "markdown",
      "metadata": {
        "id": "5kh25JMVtst6"
      },
      "source": [
        "---"
      ]
    },
    {
      "cell_type": "markdown",
      "metadata": {
        "id": "0SVDtq2d7Y4q"
      },
      "source": [
        "**Parte 4**<br>\n",
        "1) Subtraia 1 cristal de rubi do seu dicionário \"mochila\" dentro do dicionário \"inventory\".<br>\n",
        "2) Some 5000 moedas à chave \"moedas\" em seu inventário"
      ]
    },
    {
      "cell_type": "code",
      "metadata": {
        "id": "BDF9TGaKvIvD"
      },
      "source": [
        "# Possibilidade 1\n",
        "\n",
        "inventory['mochila']['cristais de rubi'] -= 1\n",
        "inventory['moedas'] += 5000\n",
        "inventory"
      ],
      "execution_count": null,
      "outputs": []
    },
    {
      "cell_type": "code",
      "metadata": {
        "id": "uokzu0isrcSW",
        "colab": {
          "base_uri": "https://localhost:8080/"
        },
        "outputId": "694ce6dd-2b71-47fa-97fd-50fd40664a3a"
      },
      "source": [
        "# Possibilidade 2\n",
        "# Podemos criar uma função para somar as moedas!\n",
        "\n",
        "def somar_moedas(add):\n",
        "    inventory['moedas'] += add\n",
        "    return inventory['moedas']\n",
        "\n",
        "somar_moedas(5000)\n",
        "\n",
        "\n",
        "inventory['mochila']['cristais de rubi'] -= 1\n",
        "\n",
        "inventory"
      ],
      "execution_count": null,
      "outputs": [
        {
          "output_type": "execute_result",
          "data": {
            "text/plain": [
              "{'bolso': '',\n",
              " 'mochila': {'cristais de rubi': 0, 'tochas': 2},\n",
              " 'moedas': 6600,\n",
              " 'nome': 'Link',\n",
              " 'objetos': ['espada de madeira', 'armadura de pano', 'escudo de bronze']}"
            ]
          },
          "metadata": {},
          "execution_count": 15
        }
      ]
    },
    {
      "cell_type": "markdown",
      "metadata": {
        "id": "yL6FddQ0j0T_"
      },
      "source": [
        "**Resultado esperado:**\n",
        "\n",
        "{'bolso': '', <br>\n",
        "  'mochila': {**'cristais de rubi': 0**, 'tochas': 2},<br>\n",
        "  '**moedas': 6600**,<br>\n",
        "  'nome': 'Link',<br>\n",
        "  objetos': ['espada de madeira', 'armadura de pano', 'escudo de bronze']}"
      ]
    },
    {
      "cell_type": "markdown",
      "metadata": {
        "id": "fGrJaaKgvq2c"
      },
      "source": [
        "---"
      ]
    },
    {
      "cell_type": "markdown",
      "metadata": {
        "id": "eodGiAhl76jF"
      },
      "source": [
        "**Parte 5**<br>\n",
        "1)Subtraia 6500 moedas da chave \"moedas\".<br>\n",
        "2)Troque sua \"espada de madeira\" por uma \"espada de aço\" na lista \"objetos\""
      ]
    },
    {
      "cell_type": "code",
      "metadata": {
        "id": "QV0CXyrzrgtW",
        "colab": {
          "base_uri": "https://localhost:8080/"
        },
        "outputId": "86b9a123-2a40-4481-d8a1-7429075cb0f9"
      },
      "source": [
        "# Possibilidade 1\n",
        "\n",
        "inventory['moedas'] -= 6500\n",
        "inventory['objetos'][0] = 'espada de aço'\n",
        "inventory"
      ],
      "execution_count": null,
      "outputs": [
        {
          "output_type": "execute_result",
          "data": {
            "text/plain": [
              "{'bolso': '',\n",
              " 'mochila': {'cristais de rubi': 0, 'tochas': 2},\n",
              " 'moedas': 100,\n",
              " 'nome': 'Link',\n",
              " 'objetos': ['espada de aço', 'armadura de pano', 'escudo de bronze']}"
            ]
          },
          "metadata": {},
          "execution_count": 16
        }
      ]
    },
    {
      "cell_type": "code",
      "metadata": {
        "id": "uvnTeeF1yP6-"
      },
      "source": [
        "# Possibilidade 2\n",
        "# Podemos criar uma função para remover as moedas também!\n",
        "\n",
        "def remover_moedas(rem):\n",
        "    inventory['moedas'] -= rem\n",
        "    return inventory['moedas']\n",
        "\n",
        "remover_moedas(6500)\n",
        "\n",
        "\n",
        "inventory['objetos'][0] = 'espada de aço'\n",
        "inventory\n",
        "  "
      ],
      "execution_count": null,
      "outputs": []
    },
    {
      "cell_type": "markdown",
      "metadata": {
        "id": "ZqYVbI5lkJes"
      },
      "source": [
        "**Resultado esperado:**\n",
        "\n",
        "{'bolso': '', <br>\n",
        "  'mochila': {'cristais de rubi': 0, 'tochas': 2},<br>\n",
        "  **'moedas': 100**,<br>\n",
        "  'nome': 'Link',<br>\n",
        "  objetos': [**'espada de aço'**, 'armadura de pano', 'escudo de bronze']}"
      ]
    },
    {
      "cell_type": "markdown",
      "metadata": {
        "id": "AHQ9y7gcyQaQ"
      },
      "source": [
        "---"
      ]
    },
    {
      "cell_type": "markdown",
      "metadata": {
        "id": "g75oZJfb8Lkp"
      },
      "source": [
        "**Parte 6**<br>\n",
        "Tarefa: Adicione um dicionário dentro do item \"bolso\". <br> A chave desse dicionário deve chamar-se \"sacola\" e \"pederneira\" deve ser o valor do item no dicionário"
      ]
    },
    {
      "cell_type": "code",
      "metadata": {
        "id": "EdsT3Kozrh7u",
        "colab": {
          "base_uri": "https://localhost:8080/"
        },
        "outputId": "1fe2f230-6496-4ae0-d140-be918f406eb3"
      },
      "source": [
        "# Possibilidade 1\n",
        "\n",
        "inventory['bolso'] = {'sacola':'pederneira'}\n",
        "inventory"
      ],
      "execution_count": null,
      "outputs": [
        {
          "output_type": "execute_result",
          "data": {
            "text/plain": [
              "{'bolso': {'sacola': 'pederneira'},\n",
              " 'mochila': {'cristais de rubi': 0, 'tochas': 2},\n",
              " 'moedas': 100,\n",
              " 'nome': 'Link',\n",
              " 'objetos': ['espada de aço', 'armadura de pano', 'escudo de bronze']}"
            ]
          },
          "metadata": {},
          "execution_count": 17
        }
      ]
    },
    {
      "cell_type": "markdown",
      "metadata": {
        "id": "tIgDRG9Kkb3M"
      },
      "source": [
        "**Resultado esperado:**\n",
        "\n",
        "{**'bolso': {'sacola': 'pederneira'}**, <br>\n",
        "  'mochila': {'cristais de rubi': 0, 'tochas': 2},<br>\n",
        "  'moedas': 100,<br>\n",
        "  'nome': 'Link',<br>\n",
        "  objetos': ['espada de aço', 'armadura de pano', 'escudo de bronze']}"
      ]
    },
    {
      "cell_type": "markdown",
      "metadata": {
        "id": "zSq-bXua0I2s"
      },
      "source": [
        "---"
      ]
    },
    {
      "cell_type": "markdown",
      "metadata": {
        "id": "Dqyl5zvi8ahS"
      },
      "source": [
        "**Parte 7**<br>\n",
        "Tarefa: Adicione os 2 cristais de esmeralda como um item do dicionário \"mochila\". <br>\"cristais de esmeralda\" será a chave e \"2\" será o valor."
      ]
    },
    {
      "cell_type": "code",
      "metadata": {
        "id": "ZbhuYOuRrjoX"
      },
      "source": [
        "# Possibilidade 1\n",
        "\n",
        "inventory['mochila'].update({'cristais de esmeralda':2})\n",
        "inventory"
      ],
      "execution_count": null,
      "outputs": []
    },
    {
      "cell_type": "code",
      "metadata": {
        "id": "eCRTMc3I18AO",
        "colab": {
          "base_uri": "https://localhost:8080/"
        },
        "outputId": "b99a267a-493f-4f4f-8044-38fce9ef2508"
      },
      "source": [
        "# Possibilidade 2\n",
        "\n",
        "inventory['mochila']['cristais de esmeralda'] = 2\n",
        "inventory"
      ],
      "execution_count": null,
      "outputs": [
        {
          "output_type": "execute_result",
          "data": {
            "text/plain": [
              "{'bolso': {'sacola': 'pederneira'},\n",
              " 'mochila': {'cristais de esmeralda': 2, 'cristais de rubi': 0, 'tochas': 2},\n",
              " 'moedas': 100,\n",
              " 'nome': 'Link',\n",
              " 'objetos': ['espada de aço', 'armadura de pano', 'escudo de bronze']}"
            ]
          },
          "metadata": {},
          "execution_count": 18
        }
      ]
    },
    {
      "cell_type": "markdown",
      "metadata": {
        "id": "8sUEzV1jlRn1"
      },
      "source": [
        "**Resultado esperado:**\n",
        "\n",
        "{'bolso': {'sacola': 'pederneira'}, <br>\n",
        "  '**mochila': {'cristais de esmeralda': 2**, cristais de rubi': 0, 'tochas': 2},<br>\n",
        "  'moedas': 100,<br>\n",
        "  'nome': 'Link',<br>\n",
        "  objetos': ['espada de aço', 'armadura de pano', 'escudo de bronze']}"
      ]
    },
    {
      "cell_type": "markdown",
      "metadata": {
        "id": "7geznjm02HCJ"
      },
      "source": [
        "---"
      ]
    },
    {
      "cell_type": "markdown",
      "metadata": {
        "id": "I3GqBTAY8wAl"
      },
      "source": [
        "**Parte 8**<br>\n",
        "Tarefa: Troque o valor de suas tochas para 1, utilize o métrodo update() para isso."
      ]
    },
    {
      "cell_type": "code",
      "metadata": {
        "id": "BhvgDDm9rkuu",
        "colab": {
          "base_uri": "https://localhost:8080/"
        },
        "outputId": "c8bf19b5-dc26-4009-e64f-26dfb634f737"
      },
      "source": [
        "# Possibilidade 1\n",
        "\n",
        "inventory['mochila'].update({'tochas':1})\n",
        "inventory"
      ],
      "execution_count": null,
      "outputs": [
        {
          "output_type": "execute_result",
          "data": {
            "text/plain": [
              "{'bolso': {'sacola': 'pederneira'},\n",
              " 'mochila': {'cristais de esmeralda': 2, 'cristais de rubi': 0, 'tochas': 1},\n",
              " 'moedas': 100,\n",
              " 'nome': 'Link',\n",
              " 'objetos': ['espada de aço', 'armadura de pano', 'escudo de bronze']}"
            ]
          },
          "metadata": {},
          "execution_count": 19
        }
      ]
    },
    {
      "cell_type": "code",
      "metadata": {
        "id": "v4Z1w4Qo3WO1"
      },
      "source": [
        "# Possibilidade 2: o exercício pede o método update() mas é possível fazer sem ele também!\n",
        "# 1 - SEM O MÉTODO UPDATE(). Perceba que aqui substituímos o valor\n",
        "\n",
        "inventory['mochila']['tochas'] = 1\n",
        "inventory"
      ],
      "execution_count": null,
      "outputs": []
    },
    {
      "cell_type": "code",
      "metadata": {
        "id": "WgMgJXrC2sU8"
      },
      "source": [
        "# Possibilidade 3\n",
        "# 2 - SEM O MÉTODO UPDATE(). Perceba que como tínhamos o valor 2, nós subtraímos 1.\n",
        "\n",
        "inventory['mochila']['tochas'] -= 1\n",
        "inventory"
      ],
      "execution_count": null,
      "outputs": []
    },
    {
      "cell_type": "markdown",
      "metadata": {
        "id": "0xmoBT3vluQO"
      },
      "source": [
        "**Resultado esperado:**\n",
        "\n",
        "{'bolso': {'sacola': 'pederneira'}, <br>\n",
        "  **'mochila'**: {'cristais de esmeralda': 2, cristais de rubi': 0, '**tochas': 1**},<br>\n",
        "  'moedas': 100,<br>\n",
        "  'nome': 'Link',<br>\n",
        "  objetos': ['espada de aço', 'armadura de pano', 'escudo de bronze']}"
      ]
    },
    {
      "cell_type": "markdown",
      "metadata": {
        "id": "3RLWfum93vWk"
      },
      "source": [
        "---"
      ]
    },
    {
      "cell_type": "markdown",
      "metadata": {
        "id": "z0r1ekHI9Kw9"
      },
      "source": [
        "**Parte 9**<br>\n",
        "Tarefa: Crie um loop while que utiliza um método randint que gera números \n",
        "aleatórios de 1 a 10 e só para quando o resultado for 10. Printe cada iteração do loop.<br>\n",
        "\n",
        "Você pode conferir melhor como funciona a biblioteca **random** na documentação oficial do Python\n",
        "[nesse link aqui](https://docs.python.org/3/library/random.html)"
      ]
    },
    {
      "cell_type": "code",
      "metadata": {
        "id": "7WE1Ia3yrnFG",
        "colab": {
          "base_uri": "https://localhost:8080/"
        },
        "outputId": "4082284f-ba2d-452e-cac3-d93c4c34b547"
      },
      "source": [
        "# Possibilidade 1\n",
        "\n",
        "import random\n",
        "\n",
        "numero_aleatorio = random.randint(1, 10)\n",
        "\n",
        "while numero_aleatorio != 10:\n",
        "        numero_aleatorio = random.randint(1, 10)\n",
        "        print(numero_aleatorio)"
      ],
      "execution_count": null,
      "outputs": [
        {
          "output_type": "stream",
          "name": "stdout",
          "text": [
            "7\n",
            "6\n",
            "2\n",
            "4\n",
            "1\n",
            "4\n",
            "6\n",
            "9\n",
            "7\n",
            "10\n"
          ]
        }
      ]
    },
    {
      "cell_type": "code",
      "metadata": {
        "id": "IJmco3G05C-d"
      },
      "source": [
        "# Possibilidade 2\n",
        "\n",
        "from random import randint\n",
        "\n",
        "numero_aleatorio = 0\n",
        "\n",
        "while numero_aleatorio != 10:\n",
        "    numero_aleatorio = randint(1,10)\n",
        "    print(numero_aleatorio)"
      ],
      "execution_count": null,
      "outputs": []
    },
    {
      "cell_type": "markdown",
      "metadata": {
        "id": "ayDGD37F5Whc"
      },
      "source": [
        "---"
      ]
    },
    {
      "cell_type": "markdown",
      "metadata": {
        "id": "lT5ZF7IU9erq"
      },
      "source": [
        "**Parte 10**<br>\n",
        "Tarefa: Crie um loop que soma 3 a todos os valores do dicionário \"mochila\"."
      ]
    },
    {
      "cell_type": "code",
      "metadata": {
        "id": "yGgZ8DWZroQG",
        "colab": {
          "base_uri": "https://localhost:8080/"
        },
        "outputId": "4ded8aa9-d245-4fdf-f7f6-e5bffab68618"
      },
      "source": [
        "# Possibilidade 1\n",
        "\n",
        "for i in inventory['mochila'].keys():\n",
        "    inventory['mochila'][i] += 3\n",
        "\n",
        "inventory"
      ],
      "execution_count": null,
      "outputs": [
        {
          "output_type": "execute_result",
          "data": {
            "text/plain": [
              "{'bolso': {'sacola': 'pederneira'},\n",
              " 'mochila': {'cristais de esmeralda': 5, 'cristais de rubi': 3, 'tochas': 4},\n",
              " 'moedas': 100,\n",
              " 'nome': 'Link',\n",
              " 'objetos': ['espada de aço', 'armadura de pano', 'escudo de bronze']}"
            ]
          },
          "metadata": {},
          "execution_count": 21
        }
      ]
    },
    {
      "cell_type": "markdown",
      "metadata": {
        "id": "7Ojt8-MFmhoA"
      },
      "source": [
        "**Resultado esperado:**\n",
        "\n",
        "{'bolso': {'sacola': 'pederneira'}, <br>\n",
        "  **'mochila': {'cristais de esmeralda': 5, cristais de rubi': 3, 'tochas': 4**}**,<br>\n",
        "  'moedas': 100,<br>\n",
        "  'nome': 'Link',<br>\n",
        "  objetos': ['espada de aço', 'armadura de pano', 'escudo de bronze']}"
      ]
    },
    {
      "cell_type": "markdown",
      "metadata": {
        "id": "oMpK2y3IoxEd"
      },
      "source": [
        "# Quero aprender mais!\n",
        "Obrigada por chegar até aqui! <3 <br>\n",
        "Fique tranquilo porque aprender uma linguagem de programação requer tempo e dedicação, aos poucos você vai praticando e pegando o jeito: não tem segredo!<br><br>\n",
        "\n",
        "**Materiais e recursos que você pode utilizar como referências para estudo:**\n",
        "\n",
        "* [Documentação Oficial Python](https://www.python.org)\n",
        "* [Learn Python Programming - Python dictionaries | Socratica](https://www.youtube.com/watch?v=XCcpzWs-CI4&list=PLi01XoE8jYohWFPpC17Z-wWhPOSuh8Er-&index=15)\n",
        "* [Introdução à ciência da computação com Python](https://www.coursera.org/learn/ciencia-computacao-python-conceitos/home/welcome)\n",
        "* [Python: trabalhando com dicionários](https://www.alura.com.br/artigos/trabalhando-com-o-dicionario-no-python)\n",
        "* [Como adicionar, alterar e retirar um item num dicionário em Python](https://www.pythonprogressivo.net/2018/10/Como-Adicionar-Alterar-Retirar-Item-Dicionario.html)\n",
        "\n",
        "**Plataformas para praticar:**\n",
        "* [Dataquest: Data Science in Python](app.dataquest.io/)\n",
        "* [W3Schools: Python Dictionaries](https://www.w3schools.com/python/python_dictionaries.asp)\n",
        "* [Codewars](https://www.codewars.com)\n",
        "* [Codecademy: Python Tutorial Learn Python for Free](https://www.codecademy.com/learn/learn-python)\n",
        "* [Kaggle: Learn Python Tutorials](https://www.kaggle.com/learn/python)\n",
        "\n",
        "**Recomendação de leituras:**<br>\n",
        "*Para finalizar, nada melhor que uma leitura, certo?*<br> \n",
        "Como fizemos alguns exemplos sobre leitura, me senti inspirada!<br>\n",
        "*Mas dessa vez são leituras exclusivamente para se divertir e relaxar um pouco!*\n",
        "\n",
        "* Duna (Frank Herbert) \n",
        "* A revolução dos bichos (George Orwell)\n",
        "* As Crônicas de gelo e fogo (George R. R. Martin)\n",
        "* O Iluminado (Stephen King)\n",
        "* O assassinato de Roger Acroyd (Agatha Christie)\n",
        "* Neuromancer  (William Gibson)\n",
        "* O guia do Mochileiro das galáxias (Douglas Adams)\n",
        "\n",
        "\n"
      ]
    },
    {
      "cell_type": "code",
      "metadata": {
        "id": "SoHO_IwypE-A"
      },
      "source": [],
      "execution_count": null,
      "outputs": []
    }
  ]
}